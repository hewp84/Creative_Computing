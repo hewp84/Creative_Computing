{
 "cells": [
  {
   "cell_type": "markdown",
   "id": "0c13114c-7912-445f-9a03-3302f2b41ec2",
   "metadata": {},
   "source": [
    "<a href=\"https://colab.research.google.com/github/hewp84/Creative_Computing/blob/main/Lesson_13.ipynb\" target=\"_parent\"><img src=\"https://colab.research.google.com/assets/colab-badge.svg\" alt=\"Open In Colab\"/></a>"
   ]
  },
  {
   "cell_type": "markdown",
   "id": "dc1b83b3-a392-47a5-81a0-4525c9bd36c4",
   "metadata": {},
   "source": [
    "# Lesson 13: More on Lists and applications"
   ]
  },
  {
   "cell_type": "markdown",
   "id": "29b7a677-a943-4dbe-819e-99c0032324f6",
   "metadata": {},
   "source": [
    "## Copying lists"
   ]
  },
  {
   "cell_type": "code",
   "execution_count": null,
   "id": "e9eb79dd-a6f2-4e87-b130-5b0aa6359e32",
   "metadata": {},
   "outputs": [],
   "source": [
    "list1 = [1,2,3,4]\n",
    "list2 = list1 #I am attempting to copy list1 in list2\n",
    "\n",
    "print(list1, list2)\n",
    "#Did it actuallly copy it, or are both lists entangled together?\n",
    "\n",
    "#list2.append(5) # I am only affecting list2, is it affecting list1?"
   ]
  },
  {
   "cell_type": "code",
   "execution_count": null,
   "id": "9a79c460-6e33-40eb-9b6c-bf6c256d993d",
   "metadata": {},
   "outputs": [],
   "source": [
    "#print(list1, list2)"
   ]
  },
  {
   "cell_type": "markdown",
   "id": "04ab959d-4fde-461e-b208-e4243eea58cd",
   "metadata": {},
   "source": [
    "In Python, you can copy a list using one of the following methods:\n",
    "\n",
    "1. Slicing: You can use the slice operator `[:]` to create a shallow copy of the list. This creates a new list with the same elements as the original list, but any changes made to the new list will not affect the original list. For example:"
   ]
  },
  {
   "cell_type": "code",
   "execution_count": null,
   "id": "e8b82c81-a3ed-40fc-b79d-51952a621cf7",
   "metadata": {},
   "outputs": [],
   "source": [
    "original_list = [1, 2, 3, 4, 5]\n",
    "new_list = original_list[:]\n"
   ]
  },
  {
   "cell_type": "markdown",
   "id": "74074af2-adf4-41b7-a6d9-071803d81405",
   "metadata": {},
   "source": [
    "2. List() constructor: You can use the list() constructor to create a new list with the same elements as the original list. This also creates a shallow copy of the list. For example:"
   ]
  },
  {
   "cell_type": "code",
   "execution_count": null,
   "id": "d918cd65-58ad-40be-bbfe-48634334b84c",
   "metadata": {},
   "outputs": [],
   "source": [
    "original_list = [1, 2, 3, 4, 5]\n",
    "new_list = list(original_list)"
   ]
  },
  {
   "cell_type": "markdown",
   "id": "8362dcde-5e9c-4077-9cc6-e788683831dd",
   "metadata": {},
   "source": [
    "3. Copy() method: You can use the `copy()` method to create a new list with the same elements as the original list. This also creates a shallow copy of the list. For example:"
   ]
  },
  {
   "cell_type": "code",
   "execution_count": null,
   "id": "a66ff765-c2d3-4768-8af6-6b4177ef9109",
   "metadata": {},
   "outputs": [],
   "source": [
    "original_list = [1, 2, 3, 4, 5]\n",
    "new_list = original_list.copy()\n"
   ]
  },
  {
   "cell_type": "markdown",
   "id": "4f1e4283-6466-4ad5-83e0-d64d5333fae0",
   "metadata": {},
   "source": [
    "There are many other different ways through operators. For example:"
   ]
  },
  {
   "cell_type": "code",
   "execution_count": null,
   "id": "b482fd53-e4b3-4165-9676-ed26a3b28275",
   "metadata": {},
   "outputs": [],
   "source": [
    "original_list = [1, 2, 3, 4, 5]\n",
    "new_list = [] + original_list"
   ]
  },
  {
   "cell_type": "markdown",
   "id": "2613d5d3-d40f-44e0-a302-e599f753deaa",
   "metadata": {},
   "source": [
    "Let's work some applications on lists.\n",
    "\n",
    "#### Example 1. Calculating the total of a list."
   ]
  },
  {
   "cell_type": "code",
   "execution_count": null,
   "id": "2f8c251b-831d-4fc6-8833-604326fe2233",
   "metadata": {},
   "outputs": [],
   "source": [
    "# Calculating the total of a list\n",
    "# Create a list.\n",
    "numbers = [2, 4, 6, 8, 10]\n",
    "\n",
    "# Create a variable to use as an accumulator.\n",
    "total = 0\n",
    "    \n",
    "# Calculate the total of the list elements.\n",
    "for value in numbers:\n",
    "    total += value\n",
    "\n",
    "# Display the total of the list elements.\n",
    "print(f'The total of the elements is {total}.')"
   ]
  },
  {
   "cell_type": "markdown",
   "id": "7265912f-b7c4-4b1d-a5f5-bb218ef85646",
   "metadata": {},
   "source": [
    "#### Example 2. Calculating the average of a list."
   ]
  },
  {
   "cell_type": "code",
   "execution_count": null,
   "id": "ec6d7764-326c-4eae-8035-67e5f3077fef",
   "metadata": {},
   "outputs": [],
   "source": [
    "# Calculating the average of a list\n",
    "#Create a list.\n",
    "scores = [2.5, 7.3, 6.5, 4.0, 5.2]\n",
    "\n",
    "# Create a variable to use as an accumulator.\n",
    "total = 0.0\n",
    "    \n",
    "# Calculate the total of the list elements.\n",
    "for value in scores:\n",
    "    total += value\n",
    "\n",
    "# Calculate the average of the elements.\n",
    "average = total / len(scores)\n",
    "    \n",
    "# Display the total of the list elements.\n",
    "print(f'The average of the elements is {average}.')"
   ]
  },
  {
   "cell_type": "markdown",
   "id": "fa95df71-4124-4061-ad35-e0dab6e3262a",
   "metadata": {},
   "source": [
    "#### Example 3. Feeding a list through user input using a function."
   ]
  },
  {
   "cell_type": "code",
   "execution_count": null,
   "id": "12fa3999-453a-42ca-b54b-6d79558d08f1",
   "metadata": {},
   "outputs": [],
   "source": [
    "# This program uses a function to create a list. The function returns a reference to the list.\n",
    "\n",
    "# The get_values function gets a series of numbers from the user and stores them in a list. The function returns a reference to the list.\n",
    "def get_values():\n",
    "    # Create an empty list.\n",
    "    values = []\n",
    "    \n",
    "    # Create a variable to control the loop.\n",
    "    again = 'Y'\n",
    "\n",
    "    # Get values from the user and add them to\n",
    "    # the list.\n",
    "    while again.upper() == 'Y':\n",
    "        # Get a number and add it to the list.\n",
    "        num = int(input('Enter a number: '))\n",
    "        values.append(num)\n",
    "\n",
    "        # Want to do this again?\n",
    "        print('Do you want to add another number?')\n",
    "        again = input('y = yes, anything else = no: ')\n",
    "        print\n",
    "        \n",
    "    # Return the list.\n",
    "    return values\n",
    "\n",
    "def main():\n",
    "    # Get a list with values stored in it.\n",
    "    numbers = get_values()\n",
    "\n",
    "    # Display the values in the list.\n",
    "    print('The numbers in the list are:')\n",
    "    print(numbers)\n",
    "\n",
    "# Call the main function.\n",
    "main()"
   ]
  },
  {
   "cell_type": "markdown",
   "id": "e1d15264-b3ab-43db-8bcb-5dda225c9cb6",
   "metadata": {},
   "source": [
    "#### Example 4. Dropping the lowest grade.\n",
    "Dr. Will gives a series of hackatons during the semester in his Creative Computing class. At the end of the semester, he drops each student's lowest grade before averaging the scores. He requires a program that will take each student score as input, and calculate the average with the lowest grade dropped."
   ]
  },
  {
   "cell_type": "code",
   "execution_count": null,
   "id": "8cec9790-e26a-4aad-a2f6-7ccf9a055e19",
   "metadata": {},
   "outputs": [],
   "source": [
    "# This program gets a series of test scores and calculates the average of the scores with the lowest score dropped.\n",
    "\n",
    "# The get_scores function gets a series of test scores from the user and stores them in a list. A reference to the list is returned.\n",
    "def get_scores():\n",
    "    # Create an empty list.\n",
    "    test_scores = []\n",
    "    \n",
    "    # Create a variable to control the loop.\n",
    "    again = 'y'\n",
    "\n",
    "    # Get the scores from the user and add them to\n",
    "    # the list.\n",
    "    while again == 'y':\n",
    "        # Get a score and add it to the list.\n",
    "        value = float(input('Enter a test score: '))\n",
    "        test_scores.append(value)\n",
    "\n",
    "        # Want to do this again?\n",
    "        print('Do you want to add another score?')\n",
    "        again = input('y = yes, anything else = no: ')\n",
    "        print()\n",
    "        \n",
    "    # Return the list.\n",
    "    return test_scores\n",
    "\n",
    "# The get_total function accepts a list as an argument returns the total of the values in the list.\n",
    "def get_total(value_list):\n",
    "    # Create a variable to use as an accumulator.\n",
    "    total = 0.0\n",
    "    \n",
    "    # Calculate the total of the list elements.\n",
    "    for num in value_list:\n",
    "        total += num\n",
    "\n",
    "    # Return the total.\n",
    "    return total\n",
    "\n",
    "def main():\n",
    "    # Get the test scores from the user.\n",
    "    scores = get_scores()\n",
    "\n",
    "    # Get the total of the test scores.\n",
    "    total = get_total(scores)\n",
    "\n",
    "    # Get the lowest test score.\n",
    "    lowest = min(scores)\n",
    "\n",
    "    # Subtract the lowest score from the total.\n",
    "    total -= lowest\n",
    "\n",
    "    # Calculate the average. Note that we divide by 1 less than the number of scores because the lowest score was dropped.\n",
    "    average = total / (len(scores) - 1)\n",
    "\n",
    "    # Display the average.\n",
    "    print(f'Average with lowest score dropped: {average}')\n",
    "\n",
    "# Call the main function.\n",
    "main()"
   ]
  },
  {
   "cell_type": "markdown",
   "id": "19538ac7-603b-4123-af7b-ea7869d1ae16",
   "metadata": {},
   "source": [
    "#### Example 5. Working with lists and files."
   ]
  },
  {
   "cell_type": "code",
   "execution_count": null,
   "id": "ba71d333-a2cb-4a3f-a2ea-f8977c910835",
   "metadata": {},
   "outputs": [],
   "source": [
    "# Writing a list in a file\n",
    "# Create a list of numbers.\n",
    "numbers = [1, 2, 3, 4, 5, 6, 7]\n",
    "\n",
    "# Open a file for writing.\n",
    "outfile = open('numberlist.txt', 'w')\n",
    "\n",
    "# Write the list to the file.\n",
    "for item in numbers:\n",
    "    outfile.write(str(item) + '\\n')\n",
    "\n",
    "# Close the file.\n",
    "outfile.close()"
   ]
  },
  {
   "cell_type": "code",
   "execution_count": null,
   "id": "c0ba2823-9e5e-4080-980e-579bf3e97013",
   "metadata": {},
   "outputs": [],
   "source": [
    "# Reading from a file into a list\n",
    "# Open a file for reading.\n",
    "infile = open('numberlist.txt', 'r')\n",
    "\n",
    "# Read the contents of the file into a list.\n",
    "numbers = infile.readlines()\n",
    "    \n",
    "# Close the file.\n",
    "infile.close()\n",
    "\n",
    "# Convert each element to an int.\n",
    "for index in range(len(numbers)):\n",
    "    numbers[index] = int(numbers[index])\n",
    "\n",
    "# Print the contents of the list.\n",
    "print(numbers)"
   ]
  }
 ],
 "metadata": {
  "kernelspec": {
   "display_name": "Python 3 (ipykernel)",
   "language": "python",
   "name": "python3"
  },
  "language_info": {
   "codemirror_mode": {
    "name": "ipython",
    "version": 3
   },
   "file_extension": ".py",
   "mimetype": "text/x-python",
   "name": "python",
   "nbconvert_exporter": "python",
   "pygments_lexer": "ipython3",
   "version": "3.9.13"
  }
 },
 "nbformat": 4,
 "nbformat_minor": 5
}
