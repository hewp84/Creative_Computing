{
 "cells": [
  {
   "cell_type": "markdown",
   "id": "44f0cccf-d072-4950-9dfb-93191b330208",
   "metadata": {},
   "source": [
    "<a href=\"https://colab.research.google.com/github/hewp84/Creative_Computing/blob/main/Lesson_10.ipynb\" target=\"_parent\"><img src=\"https://colab.research.google.com/assets/colab-badge.svg\" alt=\"Open In Colab\"/></a>"
   ]
  },
  {
   "cell_type": "markdown",
   "id": "972bae73-6e72-4acc-912e-dff27a7ec683",
   "metadata": {},
   "source": [
    "# Lesson 10: Loops and Records"
   ]
  },
  {
   "cell_type": "markdown",
   "id": "1ec580ee-329d-4cb8-97fe-4fc10305182c",
   "metadata": {},
   "source": [
    "In Python, you can use loops to iterate over records and perform operations on them. Operations may include: create or insert, read, update, and delete (CRUD).\n",
    "\n",
    "In the following example, a `for` loop is used to iterate in the insertion of data:\n",
    "\n",
    "#### Example 1"
   ]
  },
  {
   "cell_type": "code",
   "execution_count": null,
   "id": "53ce4bd2-555d-4cfa-a466-092af72c39c2",
   "metadata": {},
   "outputs": [],
   "source": [
    "# This program prompts the user for sales amounts\n",
    "# and writes those amounts to the sales.txt file.\n",
    "\n",
    "def main():\n",
    "    # Get the number of days.\n",
    "    num_days = int(input('For how many days do you have sales? '))\n",
    "\n",
    "    # Open a new file named sales.txt.\n",
    "    sales_file = open('sales.txt', 'w')\n",
    "\n",
    "    # Get the amount of sales for each day and write it to the file.\n",
    "    for count in range(1, num_days + 1):\n",
    "        # Get the sales for a day.\n",
    "        sales = float(input(f'Enter the sales for day #{count}: '))\n",
    "\n",
    "        # Write the sales amount to the file.\n",
    "        sales_file.write(f'{sales}\\n')\n",
    "\n",
    "    # Close the file.\n",
    "    sales_file.close()\n",
    "    print('Data written to sales.txt.')\n",
    "\n",
    "# Call the main function.\n",
    "main()"
   ]
  },
  {
   "cell_type": "markdown",
   "id": "a1d6ee08-f227-4d2b-8c41-ed7a33706fec",
   "metadata": {},
   "source": [
    "Now, the following script reads and displays every item stored in the file sales.txt"
   ]
  },
  {
   "cell_type": "code",
   "execution_count": null,
   "id": "f9ed2fa9-4ec9-46fa-bc03-00c919b35623",
   "metadata": {},
   "outputs": [],
   "source": [
    "# This program uses the for loop to read\n",
    "# all of the values in the sales.txt file.\n",
    "\n",
    "def main():\n",
    "    # Open the sales.txt file for reading.\n",
    "    sales_file = open('sales.txt', 'r')\n",
    "\n",
    "    # Read all the lines from the file.\n",
    "    for line in sales_file:\n",
    "        # Convert line to a float.\n",
    "        amount = float(line)\n",
    "        # Format and display the amount.\n",
    "        print(f'{amount:.2f}')\n",
    "        \n",
    "    # Close the file.\n",
    "    sales_file.close()\n",
    "\n",
    "# Call the main function.\n",
    "main()"
   ]
  },
  {
   "cell_type": "markdown",
   "id": "da0a2b51-472f-4587-a91a-930309f23af9",
   "metadata": {},
   "source": [
    "#### Try it yourself\n",
    "Garth is a great basketball player that wants to store the number of points he scores in each game. He needs two programs to do the following:\n",
    "\n",
    "1. A program that allows him to enter the number of games he played. After that, allow to record the number of points he scored in each of those games. All scoring points are saved to a file called `garth_points.txt`\n",
    "\n",
    "2. A program that reads the contents of the file and displays the scoring points in each game (each game should be tagged per line as Game 1: # points, etc). Finally, the program should display the total number of points he made and his average score point per game."
   ]
  },
  {
   "cell_type": "code",
   "execution_count": null,
   "id": "f15fd583-2cdf-4d47-bdca-87917681efc7",
   "metadata": {},
   "outputs": [],
   "source": [
    "#Program 1\n"
   ]
  },
  {
   "cell_type": "code",
   "execution_count": null,
   "id": "89e81c21-0f79-450b-bb6f-923ce98cbfb9",
   "metadata": {},
   "outputs": [],
   "source": [
    "#Program 2\n"
   ]
  },
  {
   "cell_type": "markdown",
   "id": "62f3f2bb-18db-4b80-9e21-c2b8550f6675",
   "metadata": {},
   "source": [
    "## Saving records and Searching Algorithm\n",
    "\n",
    "#### Example 2\n",
    "\n",
    "OCU is requiring you to write a program that records the basic data from each student. The data includes: a) Students name and last name, b) Major, and c) GPA. Each record should be saved in a file called `student.txt`. The program should initially request how many students will be recorded in the program."
   ]
  },
  {
   "cell_type": "code",
   "execution_count": null,
   "id": "dcb824e1-3006-4007-83d1-3a37ec3012b5",
   "metadata": {},
   "outputs": [],
   "source": [
    "# This program gets student data from the user and\n",
    "# saves it as records in the student.txt file.\n",
    "\n",
    "def main():\n",
    "    # Get the number of student records to create.\n",
    "    num_stud = int(input('How many student records do you want to create? '))\n",
    "\n",
    "    # Open a file for writing.\n",
    "    stud_file = open('student.txt', 'w')\n",
    "\n",
    "    # Get each student's data and write it to the file.\n",
    "    for count in range(1, num_stud + 1):\n",
    "        # Get the data for an student.\n",
    "        print(f'Enter data for student #{count}')\n",
    "        name = input('Name: ')\n",
    "        major = input('Major: ')\n",
    "        gpa = input('GPA: ')\n",
    "\n",
    "        # Write the data as a record to the file.\n",
    "        stud_file.write(f'{name}\\n')\n",
    "        stud_file.write(f'{major}\\n')\n",
    "        stud_file.write(f'{gpa}\\n')\n",
    "\n",
    "        # Display a blank line.\n",
    "        print()\n",
    "\n",
    "    # Close the file.\n",
    "    stud_file.close()\n",
    "    print('Student records written to student.txt.')\n",
    "\n",
    "# Call the main function.\n",
    "main()"
   ]
  },
  {
   "cell_type": "markdown",
   "id": "a0809fce-d6c8-4460-a65c-3511cb023357",
   "metadata": {},
   "source": [
    "#### Example 3\n",
    "\n",
    "Write a program that creates a search for a student record inside the file `student.txt` by inputting the student's name and last name. In case of existing, the output should include the student's name, major, and GPA. In case, there is no record, display \"Student record not found on file\"."
   ]
  },
  {
   "cell_type": "code",
   "execution_count": null,
   "id": "616518a7-d681-4997-a906-4df2f19dfbab",
   "metadata": {},
   "outputs": [],
   "source": [
    "# This program allows the user to search the\n",
    "# student.txt file for records matching a description.\n",
    "\n",
    "def main():\n",
    "    # Create a bool variable to use as a flag.\n",
    "    found = False\n",
    "    name = '0'\n",
    "\n",
    "    # Get the search value.\n",
    "    search = input('Enter student\\'s to search for: ')\n",
    "\n",
    "    # Open the student.txt file.\n",
    "    st_file = open('student.txt', 'r')\n",
    "    \n",
    "    while name != '':\n",
    "        #Read the name and save it in variable name\n",
    "        name = st_file.readline()\n",
    "        #Get rid of \\n\n",
    "        name = name.rstrip('\\n')\n",
    "               \n",
    "        #Read the major and save it in variable major\n",
    "        major = st_file.readline()\n",
    "               \n",
    "        #Read the GPA and save it in variable gpa\n",
    "        gpa = st_file.readline()\n",
    "        \n",
    "   \n",
    "        if  name == search:\n",
    "            # Display the record.\n",
    "            print(f'Found!!!')\n",
    "            print(f'Student\\'s name: {name}')\n",
    "            print(f'Major: {major}')\n",
    "            print(f'GPA: {gpa}')\n",
    "            \n",
    "            # Set the found flag to True.\n",
    "            found = True\n",
    "    # Close the file.\n",
    "    st_file.close()\n",
    "\n",
    "    # If the search value was not found in the file\n",
    "    # display a message.\n",
    "    if not found:\n",
    "        print('Student record not found on file')\n",
    "\n",
    "# Call the main function.\n",
    "main()"
   ]
  },
  {
   "cell_type": "markdown",
   "id": "1a6432e4-e3f9-48cd-886a-f1c6825da4f1",
   "metadata": {},
   "source": [
    "## Exception Handling\n",
    "\n",
    "In Python, `try` and `except` blocks are used to handle errors and exceptions that may occur during program execution. Here's an example of how to use `try` and `except` in Python:"
   ]
  },
  {
   "cell_type": "code",
   "execution_count": null,
   "id": "52adbff5-41d0-40be-825b-d4cd227ca587",
   "metadata": {},
   "outputs": [],
   "source": [
    "try:\n",
    "    # code that may raise an exception\n",
    "    num = int(input(\"Enter a number: \"))\n",
    "    result = 10 / num\n",
    "    print(result)\n",
    "except ValueError:\n",
    "    # code to handle a specific type of exception\n",
    "    print(\"Please enter a valid integer.\")\n",
    "except ZeroDivisionError:\n",
    "    # code to handle another type of exception\n",
    "    print(\"Cannot divide by zero.\")\n",
    "except:\n",
    "    # code to handle any other type of exception\n",
    "    print(\"An error occurred.\")\n"
   ]
  },
  {
   "cell_type": "markdown",
   "id": "3fcfdf2d-7bf1-4d9e-9ebc-434af9254579",
   "metadata": {},
   "source": [
    "In the above example, the `try` block contains code that may raise an exception, such as dividing by zero or trying to convert a non-integer input to an integer. If an exception is raised, the corresponding `except` block will execute, and the program will continue to run.\n",
    "\n",
    "The except `blocks` can be used to handle specific types of exceptions, or a catch-all except block can be used to handle any type of exception. You can also use multiple except blocks to handle different types of exceptions.\n",
    "\n",
    "It's important to note that you should only use `try` and `except` blocks for expected errors that can be handled gracefully. If an unexpected error occurs, it's best to let the program crash and investigate the error to fix the root cause.\n",
    "\n",
    "You can check the list of built-in Exceptions in Python using this [link](https://docs.python.org/3/library/exceptions.html)\n",
    "\n",
    "#### Example 4\n",
    "1. Not using Exception Handling:"
   ]
  },
  {
   "cell_type": "code",
   "execution_count": null,
   "id": "851f6a34-42d5-46a0-8d37-a4ad7708e0a5",
   "metadata": {},
   "outputs": [],
   "source": [
    "# This program displays the contents\n",
    "# of a file.\n",
    "\n",
    "def main():\n",
    "    # Get the name of a file.\n",
    "    filename = input('Enter a filename: ')\n",
    "\n",
    "    # Open the file.\n",
    "    infile = open(filename, 'r')\n",
    "\n",
    "    # Read the file's contents.\n",
    "    contents = infile.read()\n",
    "\n",
    "    # Display the file's contents.\n",
    "    print(contents)\n",
    "\n",
    "    # Close the file.\n",
    "    infile.close()\n",
    "\n",
    "# Call the main function.\n",
    "main()"
   ]
  },
  {
   "cell_type": "markdown",
   "id": "21a5f405-4aa5-47d5-b338-5017ee0862e3",
   "metadata": {},
   "source": [
    "2. Using Exception Handling:"
   ]
  },
  {
   "cell_type": "code",
   "execution_count": null,
   "id": "73c293a5-e94a-417b-beec-1544389ccd77",
   "metadata": {},
   "outputs": [],
   "source": [
    "# This program displays the contents\n",
    "# of a file.\n",
    "\n",
    "def main():\n",
    "    # Get the name of a file.\n",
    "    filename = input('Enter a filename: ')\n",
    "\n",
    "    try:\n",
    "        # Open the file.\n",
    "        infile = open(filename, 'r')\n",
    "\n",
    "        # Read the file's contents.\n",
    "        contents = infile.read()\n",
    "\n",
    "        # Display the file's contents.\n",
    "        print(contents)\n",
    "\n",
    "        # Close the file.\n",
    "        infile.close()\n",
    "    except IOError:\n",
    "        print('An error occurred trying to read')\n",
    "        print('the file', filename)\n",
    "\n",
    "# Call the main function.\n",
    "main()"
   ]
  }
 ],
 "metadata": {
  "kernelspec": {
   "display_name": "Python 3 (ipykernel)",
   "language": "python",
   "name": "python3"
  },
  "language_info": {
   "codemirror_mode": {
    "name": "ipython",
    "version": 3
   },
   "file_extension": ".py",
   "mimetype": "text/x-python",
   "name": "python",
   "nbconvert_exporter": "python",
   "pygments_lexer": "ipython3",
   "version": "3.9.13"
  }
 },
 "nbformat": 4,
 "nbformat_minor": 5
}
