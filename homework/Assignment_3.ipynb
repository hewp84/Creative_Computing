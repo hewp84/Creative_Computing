{
 "cells": [
  {
   "cell_type": "markdown",
   "metadata": {
    "colab_type": "text",
    "id": "view-in-github"
   },
   "source": [
    "<a href=\"https://colab.research.google.com/github/hewp84/Creative_Computing/blob/main/homework/Assignment_3.ipynb\" target=\"_parent\"><img src=\"https://colab.research.google.com/assets/colab-badge.svg\" alt=\"Open In Colab\"/></a>"
   ]
  },
  {
   "cell_type": "markdown",
   "metadata": {
    "id": "yDsjbf8bixrt"
   },
   "source": [
    "# CS/CRT 103: Creative Computing and programming\n",
    "## Assignment Chapter 4\n",
    "\n",
    "## Name:"
   ]
  },
  {
   "cell_type": "markdown",
   "metadata": {
    "id": "9x0zDlyMjF3N"
   },
   "source": [
    "### Instructions. Refer to Chapter 4: Programming Exercises pgs 213-215.\n",
    "\n",
    "Please write a working script for the following exercises: \n",
    "\n",
    "### 1, 2, 3, 4, 5, 6, 7, 8, 10, 12\n",
    "\n",
    "### Use one cell block per exercise. Do not forget to comment your code. Upload your Jupyter Notebook in Moodle."
   ]
  },
  {
   "cell_type": "code",
   "execution_count": null,
   "metadata": {
    "id": "2LvCwOYFiw8E"
   },
   "outputs": [],
   "source": [
    "#Exercise 1\n",
    "#Write your code below\n"
   ]
  },
  {
   "cell_type": "code",
   "execution_count": null,
   "metadata": {
    "id": "1lMCfWWuje7K"
   },
   "outputs": [],
   "source": [
    "#Exercise 2\n",
    "#Write your code below\n"
   ]
  }
 ],
 "metadata": {
  "colab": {
   "authorship_tag": "ABX9TyPIEUeKwMYo1IYIdgVBmm6u",
   "include_colab_link": true,
   "provenance": []
  },
  "kernelspec": {
   "display_name": "Python 3 (ipykernel)",
   "language": "python",
   "name": "python3"
  },
  "language_info": {
   "codemirror_mode": {
    "name": "ipython",
    "version": 3
   },
   "file_extension": ".py",
   "mimetype": "text/x-python",
   "name": "python",
   "nbconvert_exporter": "python",
   "pygments_lexer": "ipython3",
   "version": "3.9.13"
  }
 },
 "nbformat": 4,
 "nbformat_minor": 4
}
