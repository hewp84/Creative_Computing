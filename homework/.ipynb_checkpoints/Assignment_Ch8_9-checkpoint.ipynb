{
 "cells": [
  {
   "cell_type": "markdown",
   "metadata": {
    "colab_type": "text",
    "id": "view-in-github"
   },
   "source": [
    "<a href=\"https://colab.research.google.com/github/hewp84/Creative_Computing/blob/main/homework/Assignment_Ch8_9.ipynb\" target=\"_parent\"><img src=\"https://colab.research.google.com/assets/colab-badge.svg\" alt=\"Open In Colab\"/></a>"
   ]
  },
  {
   "cell_type": "markdown",
   "metadata": {
    "id": "yDsjbf8bixrt"
   },
   "source": [
    "# CS/CRT 103: Creative Computing and programming\n",
    "## Assignment for Chapters 8 and 9\n",
    "\n",
    "## Name:"
   ]
  },
  {
   "cell_type": "markdown",
   "metadata": {
    "id": "9x0zDlyMjF3N"
   },
   "source": [
    "### Instructions. \n",
    "\n",
    "Write scripts for the following exercises.\n",
    "\n",
    "#### Chapter 8: Algorithm Workbench (pgs. 461): 7, 10\n",
    "\n",
    "#### Chapter 8: Programming Exercises (pgs. 462-465): 1, 2, 6, 9\n",
    "\n",
    "#### Chapter 9: Algorithm Workbench (pgs. 516): 11, 12\n",
    "\n",
    "#### Chapter 9: Programming Exercises (pgs. 517-520): 1, 2, 8. Bonus: 5 \n",
    "\n",
    "#### IMPORTANT: You will need different files for several exercises. Download them in your environment. \n",
    "\n",
    "#### Check here: https://github.com/hewp84/Creative_Computing/blob/main/homework/README.md\n",
    "\n",
    "11 exercises in total + 1 BONUS\n",
    "\n",
    "### Use one cell block per exercise. Do not forget to comment your code. Upload your Jupyter Notebook as a html or pdf in Moodle."
   ]
  },
  {
   "cell_type": "code",
   "execution_count": 1,
   "metadata": {
    "id": "2LvCwOYFiw8E"
   },
   "outputs": [],
   "source": [
    "#Exercise 1\n",
    "#Write your code below\n"
   ]
  },
  {
   "cell_type": "code",
   "execution_count": null,
   "metadata": {
    "id": "1lMCfWWuje7K"
   },
   "outputs": [],
   "source": [
    "#Exercise 2\n",
    "#Write your code below\n"
   ]
  }
 ],
 "metadata": {
  "colab": {
   "authorship_tag": "ABX9TyPIEUeKwMYo1IYIdgVBmm6u",
   "include_colab_link": true,
   "provenance": []
  },
  "kernelspec": {
   "display_name": "Python 3 (ipykernel)",
   "language": "python",
   "name": "python3"
  },
  "language_info": {
   "codemirror_mode": {
    "name": "ipython",
    "version": 3
   },
   "file_extension": ".py",
   "mimetype": "text/x-python",
   "name": "python",
   "nbconvert_exporter": "python",
   "pygments_lexer": "ipython3",
   "version": "3.9.13"
  }
 },
 "nbformat": 4,
 "nbformat_minor": 4
}
