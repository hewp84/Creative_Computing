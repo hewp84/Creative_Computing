{
 "cells": [
  {
   "cell_type": "markdown",
   "metadata": {
    "colab_type": "text",
    "id": "view-in-github"
   },
   "source": [
    "<a href=\"https://colab.research.google.com/github/hewp84/Creative_Computing/blob/main/homework/Assignment_Ch7.ipynb\" target=\"_parent\"><img src=\"https://colab.research.google.com/assets/colab-badge.svg\" alt=\"Open In Colab\"/></a>"
   ]
  },
  {
   "cell_type": "markdown",
   "metadata": {
    "id": "yDsjbf8bixrt"
   },
   "source": [
    "# CS/CRT 103: Creative Computing and programming\n",
    "## Assignment for Chapter 7\n",
    "\n",
    "## Name:"
   ]
  },
  {
   "cell_type": "markdown",
   "metadata": {
    "id": "9x0zDlyMjF3N"
   },
   "source": [
    "### Instructions. \n",
    "\n",
    "Write scripts for the following exercises. It is mandatory to use lists in your scripts.\n",
    "\n",
    "#### Chapter 7: Algorithm Workbench (pgs. 426): 2, 3, 8, 10\n",
    "\n",
    "#### Chapter 7: Programming Exercises (pgs. 427-430): 1, 3, 4, 6, 9, 14. Bonus: 7\n",
    "\n",
    "#### IMPORTANT: You will need the file USPopulation.txt. Download it in your environment for its use on Exercise 9.\n",
    "\n",
    "10 exercises in total + 1 BONUS\n",
    "\n",
    "### Use one cell block per exercise. Do not forget to comment your code. Upload your Jupyter Notebook in Moodle."
   ]
  },
  {
   "cell_type": "code",
   "execution_count": null,
   "metadata": {
    "id": "2LvCwOYFiw8E"
   },
   "outputs": [],
   "source": [
    "#Exercise 1\n",
    "#Write your code below\n"
   ]
  },
  {
   "cell_type": "code",
   "execution_count": null,
   "metadata": {
    "id": "1lMCfWWuje7K"
   },
   "outputs": [],
   "source": [
    "#Exercise 2\n",
    "#Write your code below\n"
   ]
  }
 ],
 "metadata": {
  "colab": {
   "authorship_tag": "ABX9TyPIEUeKwMYo1IYIdgVBmm6u",
   "include_colab_link": true,
   "provenance": []
  },
  "kernelspec": {
   "display_name": "Python 3 (ipykernel)",
   "language": "python",
   "name": "python3"
  },
  "language_info": {
   "codemirror_mode": {
    "name": "ipython",
    "version": 3
   },
   "file_extension": ".py",
   "mimetype": "text/x-python",
   "name": "python",
   "nbconvert_exporter": "python",
   "pygments_lexer": "ipython3",
   "version": "3.9.13"
  }
 },
 "nbformat": 4,
 "nbformat_minor": 4
}
