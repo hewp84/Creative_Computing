{
  "nbformat": 4,
  "nbformat_minor": 0,
  "metadata": {
    "colab": {
      "provenance": [],
      "authorship_tag": "ABX9TyPIEUeKwMYo1IYIdgVBmm6u",
      "include_colab_link": true
    },
    "kernelspec": {
      "name": "python3",
      "display_name": "Python 3"
    },
    "language_info": {
      "name": "python"
    }
  },
  "cells": [
    {
      "cell_type": "markdown",
      "metadata": {
        "id": "view-in-github",
        "colab_type": "text"
      },
      "source": [
        "<a href=\"https://colab.research.google.com/github/hewp84/Creative_Computing/blob/main/assignment_template.ipynb\" target=\"_parent\"><img src=\"https://colab.research.google.com/assets/colab-badge.svg\" alt=\"Open In Colab\"/></a>"
      ]
    },
    {
      "cell_type": "markdown",
      "source": [
        "#CS/CRT 103: Creative Computing and programming\n",
        "##\"Assignment name\"\n",
        "\n",
        "##\"Your name\""
      ],
      "metadata": {
        "id": "yDsjbf8bixrt"
      }
    },
    {
      "cell_type": "markdown",
      "source": [
        "###Exercise 1. You can copy the exercise here to simplify your reading and referencing."
      ],
      "metadata": {
        "id": "9x0zDlyMjF3N"
      }
    },
    {
      "cell_type": "code",
      "execution_count": null,
      "metadata": {
        "id": "2LvCwOYFiw8E"
      },
      "outputs": [],
      "source": [
        "#Exercise 1\n",
        "#Write your code below\n"
      ]
    },
    {
      "cell_type": "markdown",
      "source": [
        "###Exercise 2. You can copy the exercise here to simplify your reading and referencing."
      ],
      "metadata": {
        "id": "nojMa_bejb8K"
      }
    },
    {
      "cell_type": "code",
      "execution_count": null,
      "metadata": {
        "id": "1lMCfWWuje7K"
      },
      "outputs": [],
      "source": [
        "#Exercise 2\n",
        "#Write your code below\n"
      ]
    }
  ]
}