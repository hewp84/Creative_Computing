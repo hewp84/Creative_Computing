{
 "cells": [
  {
   "cell_type": "markdown",
   "id": "df2cf783-886a-4f85-a10f-fc8fa0721a27",
   "metadata": {},
   "source": [
    "<a href=\"https://colab.research.google.com/github/hewp84/Creative_Computing/blob/main/Lesson_15.ipynb\" target=\"_parent\"><img src=\"https://colab.research.google.com/assets/colab-badge.svg\" alt=\"Open In Colab\"/></a>"
   ]
  },
  {
   "cell_type": "markdown",
   "id": "18cd1621-b5f5-4ec9-ae65-335387924684",
   "metadata": {},
   "source": [
    "# Lesson 15: Using the `matplotlib` library for numerical data and statistics\n",
    "\n",
    "Matplotlib is a powerful data visualization library that is commonly used in Python for creating static, 2D plots. Here are the basic steps for using Matplotlib:\n",
    "\n",
    "### Step 0: Install the library"
   ]
  },
  {
   "cell_type": "code",
   "execution_count": null,
   "id": "425f601d-bc98-4a83-8307-b1647bbc6b32",
   "metadata": {},
   "outputs": [],
   "source": [
    "#Windows users, execute the following command to install matplotlib library (just uncomment it and execute)\n",
    "#pip install matplotlib\n",
    "\n",
    "#Mac or Linux users, execute the following command to install matplotlib library (just uncomment it and execute)\n",
    "#sudo pip3 install matplotlib\n"
   ]
  },
  {
   "cell_type": "markdown",
   "id": "e23a5ea4-c659-4eeb-abc8-f22491e1bcc5",
   "metadata": {},
   "source": [
    "When using external libraries, you will always have to import them. By syntax, always import libraries at the beginning of a script."
   ]
  },
  {
   "cell_type": "markdown",
   "id": "61f58ffe-b37d-4e1e-a3b8-5ee060368077",
   "metadata": {},
   "source": [
    "### Step 1: Import Matplotlib\n",
    "\n",
    "Before you can use Matplotlib in your Python code, you'll need to import it. To do this, simply add the following code at the beginning of your script:"
   ]
  },
  {
   "cell_type": "code",
   "execution_count": null,
   "id": "6c2862b8-bb8b-464b-ad29-0a338df8f534",
   "metadata": {},
   "outputs": [],
   "source": [
    "import matplotlib.pyplot as plt"
   ]
  },
  {
   "cell_type": "markdown",
   "id": "3e417f07-37e3-4da1-8896-6fafef99e0d0",
   "metadata": {},
   "source": [
    "This imports the pyplot module of Matplotlib and renames it to \"plt\" for easier use in your code.\n",
    "\n",
    "### Step 2: Create Data\n",
    "\n",
    "Next, you'll need to create the data that you want to plot. This can be done using NumPy or Pandas, or simply by creating a list or array of numbers. Here's an example using NumPy:"
   ]
  },
  {
   "cell_type": "code",
   "execution_count": null,
   "id": "1e6a34f4-d447-4415-b2c9-9d567356a427",
   "metadata": {},
   "outputs": [],
   "source": [
    "import numpy as np\n",
    "\n",
    "#generate data\n",
    "x = np.linspace(0,10,100)  #linspace(start, stop, number of datapoints\n",
    "y = 4+ 2 * np.sin(2*x)"
   ]
  },
  {
   "cell_type": "markdown",
   "id": "e5b4fc73-61e4-4b00-ba25-cfc1ce60c8dd",
   "metadata": {},
   "source": [
    "This creates two NumPy arrays, \"x\" and \"y\", that represent the x and y values of the plot.\n",
    "\n",
    "### Step 3: Create a Plot (x,y)\n",
    "\n",
    "Now you can create a plot using the data you just created. The most basic type of plot is a line plot, which can be created using the \"plot\" function. Here's an example:"
   ]
  },
  {
   "cell_type": "code",
   "execution_count": null,
   "id": "3c76f754-eee7-4da0-b2dd-7399a493b2cc",
   "metadata": {},
   "outputs": [],
   "source": [
    "\n",
    "plt.style.use('_mpl-gallery')\n",
    "\n",
    "# plot\n",
    "fig, ax = plt.subplots(figsize=(6.4, 4.8))\n",
    "plt.figure(figsize=(8,6))\n",
    "ax.plot(x, y, linewidth=2.0)\n",
    "\n",
    "ax.set(xlim=(0, 8), xticks=np.arange(1, 8),\n",
    "       ylim=(0, 8), yticks=np.arange(1, 8))\n",
    "\n",
    "plt.show()"
   ]
  },
  {
   "cell_type": "markdown",
   "id": "a5c4dec1-6c48-4a0e-af80-cd3e6169d38d",
   "metadata": {},
   "source": [
    "This creates a line plot of the \"x\" and \"y\" values and displays it on the screen using the \"show\" function.\n",
    "\n",
    "### Step 4: Customize the Plot\n",
    "\n",
    "Matplotlib provides a wide range of customization options for your plots, including changing the color, style, and size of lines, adding labels and titles, and adjusting the axes. Here's an example of customizing the line style and adding labels and a title:"
   ]
  },
  {
   "cell_type": "markdown",
   "id": "83d0a45b-e40f-4983-a5f2-6d8d34e03ba0",
   "metadata": {},
   "source": [
    "### Anatomy of a Figure\n",
    "![Plotting elements](https://matplotlib.org/stable/_images/anatomy.png)"
   ]
  },
  {
   "cell_type": "code",
   "execution_count": null,
   "id": "6b44f66e-472a-4b84-9e21-9bba30b08c5c",
   "metadata": {},
   "outputs": [],
   "source": [
    "plt.style.use('_mpl-gallery')\n",
    "\n",
    "# plot\n",
    "fig, ax = plt.subplots(figsize=(6.4, 4.8))\n",
    "\n",
    "ax.plot(x, y, '--',linewidth=2.0, label='sin(x)', color ='red')\n",
    "\n",
    "\n",
    "ax.set(xlim=(0, 8), xticks=np.arange(1, 8),\n",
    "       ylim=(0, 8), yticks=np.arange(1, 8))\n",
    "ax.set_xlabel('x')\n",
    "ax.set_ylabel('y')\n",
    "ax.set_title('Sine Function')\n",
    "ax.set(xlim=(0, 10), xticks=np.arange(1, 10),\n",
    "       ylim=(0, 8), yticks=np.arange(1, 8))\n",
    "\n",
    "ax.legend()\n",
    "plt.show()"
   ]
  },
  {
   "cell_type": "markdown",
   "id": "05226f0d-5570-4402-a5f0-09c288e66f30",
   "metadata": {},
   "source": [
    "This creates a dashed line plot with a linewidth of 2, adds labels for the x and y axes, adds a title, and includes a legend for the plot.\n",
    "\n",
    "There are many more customization options available in Matplotlib, and you can find more examples and documentation on the [Matplotlib website](https://matplotlib.org/stable/index.html) or by searching online."
   ]
  },
  {
   "cell_type": "markdown",
   "id": "4dff73d9-92ba-447c-bf16-5d3c8afe97b7",
   "metadata": {},
   "source": [
    "## Examples.\n",
    "\n",
    "#### 1. Simple line plot"
   ]
  },
  {
   "cell_type": "code",
   "execution_count": null,
   "id": "4721201b-b14d-413a-8a9b-9392bc667d24",
   "metadata": {},
   "outputs": [],
   "source": [
    "import matplotlib.pyplot as plt\n",
    "\n",
    "x = [1, 2, 3, 4, 5]\n",
    "y = [2, 4, 6, 8, 10]\n",
    "\n",
    "plt.style.use('_mpl-gallery')\n",
    "\n",
    "# plot\n",
    "fig, ax = plt.subplots(figsize=(6.4, 4.8))\n",
    "\n",
    "ax.plot(x, y)\n",
    "plt.show()\n"
   ]
  },
  {
   "cell_type": "markdown",
   "id": "45307a25-5f2d-4564-800e-adff52d65f6e",
   "metadata": {},
   "source": [
    "#### 2. Scatter plot"
   ]
  },
  {
   "cell_type": "code",
   "execution_count": null,
   "id": "8be2a011-9751-40d7-9aa4-3d3a7b2b5084",
   "metadata": {},
   "outputs": [],
   "source": [
    "import matplotlib.pyplot as plt\n",
    "\n",
    "x = [1, 2, 3, 4, 5]\n",
    "y = [2, 4, 6, 8, 10]\n",
    "\n",
    "plt.style.use('_mpl-gallery')\n",
    "\n",
    "# plot\n",
    "fig, ax = plt.subplots(figsize=(6.4, 4.8))\n",
    "\n",
    "ax.scatter(x, y, color ='r')\n",
    "plt.show()\n"
   ]
  },
  {
   "cell_type": "markdown",
   "id": "20880dec-644e-4d49-a2f5-0122ad04d60d",
   "metadata": {},
   "source": [
    "#### 3. Bar Chart (Histogram)"
   ]
  },
  {
   "cell_type": "code",
   "execution_count": null,
   "id": "f0f80017-f32b-41a6-b39f-f7e3bcd5b07e",
   "metadata": {},
   "outputs": [],
   "source": [
    "import matplotlib.pyplot as plt\n",
    "\n",
    "x = ['A', 'B', 'C', 'D', 'E']\n",
    "y = [10, 24, 36, 40, 5]\n",
    "colors = ['r','g','b','purple','cyan','brown']\n",
    "\n",
    "# plot\n",
    "fig, ax = plt.subplots(figsize=(6.4, 4.8))\n",
    "#Filling with data\n",
    "ax.bar(x, y, width=1, edgecolor=\"white\", linewidth=0.7, color=colors)\n",
    "plt.show()\n"
   ]
  },
  {
   "cell_type": "markdown",
   "id": "c815f56f-f974-4d4b-a338-c399e3581e7d",
   "metadata": {},
   "source": [
    "#### 4. Pie Chart"
   ]
  },
  {
   "cell_type": "code",
   "execution_count": null,
   "id": "aa97714b-033a-4e53-99dd-0142126f5d7f",
   "metadata": {},
   "outputs": [],
   "source": [
    "import matplotlib.pyplot as plt\n",
    "\n",
    "x = ['A', 'B', 'C', 'D', 'E']\n",
    "y = [10, 24, 36, 40, 5]\n",
    "\n",
    "# plot\n",
    "fig, ax = plt.subplots(figsize=(6.4, 4.8))\n",
    "#Filling\n",
    "ax.pie(y, labels=x)\n",
    "plt.show()\n"
   ]
  },
  {
   "cell_type": "code",
   "execution_count": null,
   "id": "e643a3dd-ab87-4cf9-9e06-6b9905d84e29",
   "metadata": {},
   "outputs": [],
   "source": [
    "#Try it yourself: Create a pie chart with different values per category (make them up) and graph using a different color per slice.\n"
   ]
  },
  {
   "cell_type": "markdown",
   "id": "fa74e532-0f63-4b4b-a08b-f2e0a1a68444",
   "metadata": {},
   "source": [
    "#### Additional examples"
   ]
  },
  {
   "cell_type": "code",
   "execution_count": null,
   "id": "4d9ee200-6277-4e44-99cc-d57cdac30ff8",
   "metadata": {},
   "outputs": [],
   "source": [
    "# A x vs. y table function\n",
    "x1 = [1, 2, 3, 4]\n",
    "y1 = [1, 4, 2, 3]\n",
    "fig, ax = plt.subplots()  # Create a figure containing a single axes.\n",
    "ax.plot(x1, y1)  # Plot some data on the axes."
   ]
  },
  {
   "cell_type": "code",
   "execution_count": null,
   "id": "207c7592-6cde-4184-82d6-f3c4abaa7841",
   "metadata": {},
   "outputs": [],
   "source": [
    "x = np.linspace(0, 2, 100)  # Sample data.\n",
    "\n",
    "# Note that even in the OO-style, we use `.pyplot.figure` to create the Figure.\n",
    "fig, ax = plt.subplots(figsize=(5, 2.7), layout='constrained')\n",
    "ax.plot(x, x, label='linear')  # Plot some data on the axes.\n",
    "ax.plot(x, x**2, label='quadratic')  # Plot more data on the axes...\n",
    "ax.plot(x, x**3, label='cubic')  # ... and some more.\n",
    "ax.set_xlabel('x label')  # Add an x-label to the axes.\n",
    "ax.set_ylabel('y label')  # Add a y-label to the axes.\n",
    "ax.set_title(\"Simple Plot\")  # Add a title to the axes.\n",
    "ax.legend()  # Add a legend."
   ]
  },
  {
   "cell_type": "code",
   "execution_count": null,
   "id": "f95f4197-c5d9-49db-ae0d-4dbfca2421b1",
   "metadata": {},
   "outputs": [],
   "source": [
    "def my_plotter(ax, data1, data2, param_dict):\n",
    "    \"\"\"\n",
    "    A helper function to make a graph.\n",
    "    \"\"\"\n",
    "    out = ax.plot(data1, data2, **param_dict)\n",
    "    return out"
   ]
  },
  {
   "cell_type": "code",
   "execution_count": null,
   "id": "8acf2019-753b-4c41-b14d-66af6c24b505",
   "metadata": {},
   "outputs": [],
   "source": [
    "import matplotlib as mpl\n",
    "data1, data2, data3, data4 = np.random.randn(4, 100)  # make 4 random data sets\n",
    "fig, (ax1, ax2) = plt.subplots(1, 2, figsize=(5, 2.7))\n",
    "my_plotter(ax1, data1, data2, {'marker': 'x'})\n",
    "my_plotter(ax2, data3, data4, {'marker': 'o'})\n",
    "X, Y = np.meshgrid(np.linspace(-3, 3, 128), np.linspace(-3, 3, 128))\n",
    "Z = (1 - X/2 + X**5 + Y**3) * np.exp(-X**2 - Y**2)\n",
    "\n",
    "fig, axs = plt.subplots(2, 2, layout='constrained')\n",
    "pc = axs[0, 0].pcolormesh(X, Y, Z, vmin=-1, vmax=1, cmap='RdBu_r')\n",
    "fig.colorbar(pc, ax=axs[0, 0])\n",
    "axs[0, 0].set_title('pcolormesh()')\n",
    "\n",
    "co = axs[0, 1].contourf(X, Y, Z, levels=np.linspace(-1.25, 1.25, 11))\n",
    "fig.colorbar(co, ax=axs[0, 1])\n",
    "axs[0, 1].set_title('contourf()')\n",
    "\n",
    "pc = axs[1, 0].imshow(Z**2 * 100, cmap='plasma',\n",
    "                          norm=mpl.colors.LogNorm(vmin=0.01, vmax=100))\n",
    "fig.colorbar(pc, ax=axs[1, 0], extend='both')\n",
    "axs[1, 0].set_title('imshow() with LogNorm()')\n",
    "\n",
    "pc = axs[1, 1].scatter(data1, data2, c=data3, cmap='RdBu_r')\n",
    "fig.colorbar(pc, ax=axs[1, 1], extend='both')\n",
    "axs[1, 1].set_title('scatter()')"
   ]
  },
  {
   "cell_type": "code",
   "execution_count": null,
   "id": "d19c850e-946d-4d39-a92d-4e9632a84716",
   "metadata": {},
   "outputs": [],
   "source": []
  }
 ],
 "metadata": {
  "kernelspec": {
   "display_name": "Python 3 (ipykernel)",
   "language": "python",
   "name": "python3"
  },
  "language_info": {
   "codemirror_mode": {
    "name": "ipython",
    "version": 3
   },
   "file_extension": ".py",
   "mimetype": "text/x-python",
   "name": "python",
   "nbconvert_exporter": "python",
   "pygments_lexer": "ipython3",
   "version": "3.9.13"
  }
 },
 "nbformat": 4,
 "nbformat_minor": 5
}
