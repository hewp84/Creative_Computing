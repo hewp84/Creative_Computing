{
 "cells": [
  {
   "cell_type": "code",
   "execution_count": 2,
   "id": "af173341-a3dc-4d7b-961e-d993425a09ad",
   "metadata": {},
   "outputs": [
    {
     "ename": "SyntaxError",
     "evalue": "invalid syntax (4035323126.py, line 11)",
     "output_type": "error",
     "traceback": [
      "\u001b[1;36m  File \u001b[1;32m\"C:\\Users\\hwill\\AppData\\Local\\Temp\\ipykernel_19088\\4035323126.py\"\u001b[1;36m, line \u001b[1;32m11\u001b[0m\n\u001b[1;33m    I hope every one is enjoying the Python Challenge.\u001b[0m\n\u001b[1;37m      ^\u001b[0m\n\u001b[1;31mSyntaxError\u001b[0m\u001b[1;31m:\u001b[0m invalid syntax\n"
     ]
    }
   ],
   "source": [
    "print(\"I hope everyone is enjoying the Python Challenge.\\nAre you ?\") # line break\n",
    "print('Days\\tTopics\\tExercises') # adding tab space or 4 spaces \n",
    "print('Day 1\\t3\\t5')\n",
    "print('Day 2\\t3\\t5')\n",
    "print('Day 3\\t3\\t5')\n",
    "print('Day 4\\t3\\t5')\n",
    "print('This is a backslash  symbol (\\\\)') # To write a backslash\n",
    "print('In every programming language it starts with \\\"Hello, World!\\\"') # to write a double quote inside a single quote\n",
    "\n",
    "# output\n",
    "I hope every one is enjoying the Python Challenge.\n",
    "Are you ?\n",
    "Days\tTopics\tExercises\n",
    "Day 1\t5\t    5\n",
    "Day 2\t6\t    20\n",
    "Day 3\t5\t    23\n",
    "Day 4\t1\t    35\n",
    "This is a backslash  symbol (\\)\n",
    "In every programming language it starts with \"Hello, World!\""
   ]
  },
  {
   "cell_type": "code",
   "execution_count": null,
   "id": "af3eafeb-b583-4630-be17-ab90bb965e85",
   "metadata": {},
   "outputs": [],
   "source": []
  }
 ],
 "metadata": {
  "kernelspec": {
   "display_name": "Python 3 (ipykernel)",
   "language": "python",
   "name": "python3"
  },
  "language_info": {
   "codemirror_mode": {
    "name": "ipython",
    "version": 3
   },
   "file_extension": ".py",
   "mimetype": "text/x-python",
   "name": "python",
   "nbconvert_exporter": "python",
   "pygments_lexer": "ipython3",
   "version": "3.9.13"
  }
 },
 "nbformat": 4,
 "nbformat_minor": 5
}
