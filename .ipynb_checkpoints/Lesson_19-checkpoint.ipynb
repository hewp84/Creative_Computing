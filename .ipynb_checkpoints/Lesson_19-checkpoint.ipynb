{
 "cells": [
  {
   "cell_type": "markdown",
   "id": "4f2240c2-2f45-42c9-b0d9-c4ba9c064716",
   "metadata": {},
   "source": [
    "<a href=\"https://colab.research.google.com/github/hewp84/Creative_Computing/blob/main/Lesson_19.ipynb\" target=\"_parent\"><img src=\"https://colab.research.google.com/assets/colab-badge.svg\" alt=\"Open In Colab\"/></a>"
   ]
  },
  {
   "cell_type": "markdown",
   "id": "ac714d78-4138-47ce-9cdf-849fae38eac0",
   "metadata": {},
   "source": [
    "# Lesson 19: Introduction to Object-Oriented Programming"
   ]
  },
  {
   "cell_type": "markdown",
   "id": "da6ecd67-1b9a-4516-8e26-b3ae28b9531c",
   "metadata": {},
   "source": [
    "Object-Oriented Programming (OOP) is a programming paradigm based on the concept of \"objects\" that contain data and methods to manipulate that data. It is one of the most popular programming paradigms and is widely used in software development.\n",
    "\n",
    "The key concepts in OOP are:\n",
    "\n",
    "* Class: A class is a blueprint for creating objects. It defines the properties and methods that objects of the class will have.\n",
    "\n",
    "* Object: An object is an instance of a class. It has its own set of properties and methods, and can interact with other objects.\n",
    "\n",
    "* Encapsulation: Encapsulation is the process of hiding the internal details of an object and exposing only the necessary information to the outside world. It helps in maintaining the integrity of the data and makes the code easier to maintain.\n",
    "\n",
    "* Inheritance: Inheritance is a mechanism that allows a class to inherit properties and methods from a parent class. This helps in reusing the code and creating new classes based on existing ones.\n",
    "\n",
    "* Polymorphism: Polymorphism is the ability of an object to take on many forms. It allows objects of different classes to be used interchangeably.\n",
    "\n",
    "OOP provides several benefits such as code reusability, modularity, maintainability, and flexibility. It enables developers to write complex programs more easily by breaking them down into smaller, manageable components. OOP is widely used in programming languages such as Python, Java, C++, and C#.\n",
    "\n",
    "#### Comparison between Object-oriented (OOP) and Procedural-oriented Programming (POP)\n",
    "![image](https://raw.githubusercontent.com/hewp84/Creative_Computing/main/img/comp_op.PNG)"
   ]
  },
  {
   "cell_type": "markdown",
   "id": "14f0dcb8-1aed-4672-a11e-4795a9e2353a",
   "metadata": {},
   "source": [
    "### Classes and Objects\n",
    "\n",
    "In Object-Oriented Programming (OOP), a class is a blueprint for creating objects that define the properties and methods that objects of that class will have. It serves as a template for creating multiple objects with the same attributes and behaviors.\n",
    "\n",
    "A class encapsulates data and behavior into a single entity, making it easier to manage and organize code. The data in a class is stored in variables called \"attributes\" or \"properties\", while the behavior is defined by functions called \"methods\".\n",
    "\n",
    "An object is an instance of a class. It represents a single instance of the class, with its own set of attributes and methods. An object encapsulates data and behavior into a single entity and is created from a class definition.\n",
    "\n",
    "Here's an example of a simple class in Python that defines a \"Person\" object with two attributes - \"name\" and \"age\" - and one method - \"say_hello\":"
   ]
  },
  {
   "cell_type": "code",
   "execution_count": null,
   "id": "432e78f7-3831-4009-8b8c-8dbe2377e22c",
   "metadata": {},
   "outputs": [],
   "source": [
    "class Person:\n",
    "    def __init__(self, name, age):\n",
    "        self.name = name\n",
    "        self.age = age\n",
    "        \n",
    "    def say_hello(self):\n",
    "        print(f'Hello, my name is {self.name} and I am {self.age} years old.')\n",
    "    \n",
    "    def hello_back(self, name):\n",
    "        print(f'Nice to meet you {name}. I am {self.name} and I am {self.age} years old')\n"
   ]
  },
  {
   "cell_type": "markdown",
   "id": "0ab2764c-5a18-4f24-843b-568432697dc9",
   "metadata": {},
   "source": [
    "In this example, the Person class has two attributes - name and age - which are initialized in the constructor method __init__ using the self keyword. The self keyword refers to the instance of the class being created and allows access to its attributes and methods.\n",
    "\n",
    "The say_hello method is defined to print out a greeting using the name and age attributes of the Person object. The self keyword is used to access the attributes of the object within the method.\n",
    "\n",
    "To create a new Person object, we can simply call the class and pass in values for the name and age parameters:"
   ]
  },
  {
   "cell_type": "code",
   "execution_count": 13,
   "id": "07413c16-710e-49bf-bfbe-8aae15d80e40",
   "metadata": {},
   "outputs": [],
   "source": [
    "person = Person(\"Levi\", 20)"
   ]
  },
  {
   "cell_type": "markdown",
   "id": "cbd188c5-36e8-427f-8f49-e4e770ea31e7",
   "metadata": {},
   "source": [
    "Now, `person` is an instance of the `Person` class with its own `name` and `age` attributes. We can call the `say_hello` method on the object to print out a greeting:"
   ]
  },
  {
   "cell_type": "code",
   "execution_count": null,
   "id": "ca661edc-099a-4ded-90c3-270cba65c62d",
   "metadata": {},
   "outputs": [],
   "source": [
    "person.say_hello()"
   ]
  },
  {
   "cell_type": "markdown",
   "id": "1d29551f-9e40-4668-8880-74747cdd8d0a",
   "metadata": {},
   "source": [
    "## Unified Modeling Language (UML)\n",
    "\n",
    "Unified Modeling Language (UML) is a graphical notation used for modeling and designing object-oriented software systems. It provides a standardized way of representing object-oriented concepts and is widely used in software development.\n",
    "\n",
    "One of the most common uses of UML in object-oriented programming (OOP) is to create class diagrams, which are used to represent the classes and their relationships in a system. A class diagram is a type of structural diagram that shows the classes in a system, their attributes, methods, and relationships with other classes.\n",
    "\n",
    "In UML, a class is represented as a rectangle with three compartments:\n",
    "\n",
    "1. The top compartment contains the name of the class.\n",
    "\n",
    "2. The middle compartment contains the attributes of the class, which are the data members or variables that belong to the class.\n",
    "\n",
    "3. The bottom compartment contains the methods of the class, which are the functions or procedures that operate on the data members of the class.\n",
    "\n",
    "The relationships between classes are represented using various types of connectors, such as:\n",
    "\n",
    "* Association: An association represents a relationship between two classes, where one class uses or interacts with the other class. An association is represented by a line between the two classes, with an optional arrowhead to indicate the direction of the relationship.\n",
    "\n",
    "* Inheritance: Inheritance represents a relationship between a subclass and a superclass, where the subclass inherits the properties and methods of the superclass. Inheritance is represented by a line with an arrowhead pointing from the subclass to the superclass.\n",
    "\n",
    "* Aggregation: Aggregation represents a relationship between a whole and its parts, where the parts can exist independently of the whole. Aggregation is represented by a line with a diamond shape on the side of the whole class.\n",
    "\n",
    "* Composition: Composition represents a relationship between a whole and its parts, where the parts cannot exist independently of the whole. Composition is represented by a line with a filled diamond shape on the side of the whole class.\n",
    "\n",
    "![image.png](https://raw.githubusercontent.com/hewp84/Creative_Computing/main/img/uml.png)"
   ]
  },
  {
   "cell_type": "markdown",
   "id": "209525f3-42f9-4b83-9332-a83419e9d042",
   "metadata": {},
   "source": [
    "#### Where to draw UML diagrams?\n",
    "\n",
    "To draw an UML diagram, you can use a UML tool or software, such as Microsoft Visio, Visual Paradigm, or Lucidchart.There are also online options connected to Google Drive such as [diagrams.net](https://www.diagrams.net/blog/uml-class-diagrams). You could also draw UML diagrams just by using hand, pen, and paper. "
   ]
  },
  {
   "cell_type": "code",
   "execution_count": 15,
   "id": "75718a7c-dfe0-499c-a294-e03ca21017e7",
   "metadata": {},
   "outputs": [],
   "source": [
    "#Try it yourself: Draw a UML Class diagram for the Classes Pet and Car (they are not connected). \n",
    "#If there is time, attempt to write the code to create the classes.\n"
   ]
  }
 ],
 "metadata": {
  "kernelspec": {
   "display_name": "Python 3",
   "language": "python",
   "name": "python3"
  },
  "language_info": {
   "codemirror_mode": {
    "name": "ipython",
    "version": 3
   },
   "file_extension": ".py",
   "mimetype": "text/x-python",
   "name": "python",
   "nbconvert_exporter": "python",
   "pygments_lexer": "ipython3",
   "version": "3.9.13"
  }
 },
 "nbformat": 4,
 "nbformat_minor": 5
}
