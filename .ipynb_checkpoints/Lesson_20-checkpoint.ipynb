{
 "cells": [
  {
   "cell_type": "markdown",
   "id": "a0a71110-fe37-4530-bac0-1ac10f468d05",
   "metadata": {},
   "source": [
    "<a href=\"https://colab.research.google.com/github/hewp84/Creative_Computing/blob/main/Lesson_20.ipynb\" target=\"_parent\"><img src=\"https://colab.research.google.com/assets/colab-badge.svg\" alt=\"Open In Colab\"/></a>"
   ]
  },
  {
   "cell_type": "markdown",
   "id": "dda66e99-075e-4049-85dd-46457ce8c8a1",
   "metadata": {},
   "source": [
    "# Lesson 20: Class Design using UML"
   ]
  },
  {
   "cell_type": "markdown",
   "id": "d176212a-3b76-4af1-aecf-5b9886cfa521",
   "metadata": {},
   "source": [
    "## Strategy for Class Design\n",
    "To find classes in a problem, you need to identify the main objects or concepts involved in the problem domain. In the case of sports, some of the main objects or concepts might include players, teams, games, scores, and rules.\n",
    "\n",
    "Nouns in a problem statement can often become attributes of a class. For example, in the case of a \"player\" class, attributes might include the player's name, age, position, and statistics such as goals scored or assists made. Similarly, in the case of a \"team\" class, attributes might include the team's name, location, coach, and roster of players.\n",
    "\n",
    "Actions in a problem statement can often become methods of a class. For example, in the case of a \"player\" class, methods might include actions such as \"score goal\", \"make assist\", or \"get injured\". Similarly, in the case of a \"team\" class, methods might include actions such as \"play game\", \"substitute player\", or \"change tactics\".\n",
    "\n",
    "Here's an example of how these concepts could be used to define classes in a sports-related problem:\n",
    "\n",
    "### Class: Player\n",
    "#### Attributes:\n",
    "\n",
    "* Name (string)\n",
    "* Age (int)\n",
    "* Position (string)\n",
    "* Goals scored (int)\n",
    "* Assists made (int)\n",
    "* Injuries (list of strings)\n",
    "\n",
    "#### Methods:\n",
    "* Score goal\n",
    "* Make assist\n",
    "* Get injured\n",
    "\n",
    "### Class: Team\n",
    "#### Attributes:\n",
    "\n",
    "* Name (string)\n",
    "* Location (string)\n",
    "* Coach (string)\n",
    "* Players (list of Player objects)\n",
    "* Games played (int)\n",
    "* Games won (int)\n",
    "* Games lost (int)\n",
    "* Games drawn (int)\n",
    "\n",
    "#### Methods:\n",
    "\n",
    "* Play game\n",
    "* Substitute player\n",
    "* Change tactics\n",
    "\n",
    "By defining these classes with their respective attributes and methods, you can create instances of them to represent specific players or teams in your program. This allows you to manipulate the data and behavior of those objects within the context of your program, enabling you to solve problems and perform tasks related to the world of sports."
   ]
  },
  {
   "cell_type": "markdown",
   "id": "ac19ee33-2060-44c0-97ae-331e5f95c0e8",
   "metadata": {},
   "source": [
    "## Activity\n",
    "\n",
    "Choose one video for the activity based on your personal preference and work each of the steps below. **Do not watch all videos as it would drain the whole session time without being productive. You do not need audio, only your visual senses, so please mute your computer speakers.**\n",
    "\n",
    "Video Options. ONLY PICK ONE!\n",
    "\n",
    "1. Videogame: [Metroid Dread](https://www.youtube.com/watch?v=AOvefm5U250)\n",
    "2. Videogame: [Zelda: Tears of the Kingdom](https://www.youtube.com/watch?v=fYZuiFDQwQw&t=30s)\n",
    "3. Sports: [Football](https://www.youtube.com/watch?v=vBy4zDLzQ-I)\n",
    "4. Sports: [Tennis](https://www.youtube.com/watch?v=oyxhHkOel2I)\n",
    "5. Sports: [Golf](https://www.youtube.com/watch?v=N6ESFroo3eo)\n",
    "6. Sports: [Baseball](https://www.youtube.com/watch?v=APATlMjBQYA)\n",
    "7. Sports: [Crosscountry](https://www.youtube.com/watch?v=xfPTm43E6gc)\n",
    "\n",
    "### Steps\n",
    "1. Identify the main objects or concepts involved in the videogame. These could include characters, enemies, weapons, items, levels, or other game elements.\n",
    "\n",
    "2. Write down a list of these objects or concepts, along with any attributes or methods that are relevant to them. For example, if the videogame is a first-person shooter, you might have objects like \"player\", \"weapon\", \"enemy\", and \"health\", along with attributes like \"name\", \"type\", \"damage\", and methods like \"shoot\", \"reload\", or \"heal\".\n",
    "\n",
    "3. Group these objects and their associated attributes and methods into classes, based on their relationships to each other. For example, you might have a \"Player\" class with attributes like \"name\" and \"health\", and methods like \"shoot\" or \"heal\". Similarly, you might have a \"Weapon\" class with attributes like \"name\" and \"damage\", and methods like \"shoot\" or \"reload\".\n",
    "\n",
    "4. Identify any inheritance or association relationships between these classes. For example, a \"Player\" class might inherit from a more general \"Character\" class, or a \"Weapon\" class might be associated with an \"Ammunition\" class.\n",
    "\n",
    "5. Draw a UML diagram that represents these classes and their relationships, using appropriate symbols and notation. This might include class boxes with their attributes and methods, arrows to represent inheritance or association relationships, and other symbols to indicate multiplicity or other features of the classes.\n",
    "\n",
    "6. Review and refine your UML diagram, making sure it accurately represents the relationships and hierarchy of the classes you've identified. You may need to revise your original list of objects or concepts, or adjust the attributes and methods of your classes to better reflect the content of the videogame.\n",
    "\n",
    "7. If you make it this far, try to create the classes using Python.\n"
   ]
  },
  {
   "cell_type": "code",
   "execution_count": null,
   "id": "8436b443-24bc-4ed0-a7d0-e3093b4e5629",
   "metadata": {},
   "outputs": [],
   "source": []
  }
 ],
 "metadata": {
  "kernelspec": {
   "display_name": "Python 3 (ipykernel)",
   "language": "python",
   "name": "python3"
  },
  "language_info": {
   "codemirror_mode": {
    "name": "ipython",
    "version": 3
   },
   "file_extension": ".py",
   "mimetype": "text/x-python",
   "name": "python",
   "nbconvert_exporter": "python",
   "pygments_lexer": "ipython3",
   "version": "3.9.13"
  }
 },
 "nbformat": 4,
 "nbformat_minor": 5
}
