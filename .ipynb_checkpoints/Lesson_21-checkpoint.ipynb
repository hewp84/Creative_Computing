{
 "cells": [
  {
   "cell_type": "markdown",
   "id": "d88b6fcf-f16b-45e3-b52f-0d0add0903e8",
   "metadata": {},
   "source": [
    "<a href=\"https://colab.research.google.com/github/hewp84/Creative_Computing/blob/main/Lesson_21.ipynb\" target=\"_parent\"><img src=\"https://colab.research.google.com/assets/colab-badge.svg\" alt=\"Open In Colab\"/></a>"
   ]
  },
  {
   "cell_type": "markdown",
   "id": "23b70ae2-1ccc-4421-829b-95d28369da06",
   "metadata": {},
   "source": [
    "# Lesson 21: Creating Classes and Subclasses in Python\n",
    "\n",
    "## Creating Classes\n",
    "In Python, you can create classes using the `class` keyword, followed by the name of the class and a colon. Here is the basic syntax for creating a class in Python:"
   ]
  },
  {
   "cell_type": "code",
   "execution_count": null,
   "id": "8a248e5a-7ddc-4c3a-b8e5-c4ac58b74b5a",
   "metadata": {},
   "outputs": [],
   "source": [
    "class ClassName:\n",
    "    def __init__(self, arg1, arg2, ...):\n",
    "        # constructor method\n",
    "        # initialize instance variables\n",
    "    \n",
    "    #Create a get method for every variable. Extracts the value of the variable\n",
    "    def get_var1(self):\n",
    "        return self.var1\n",
    "    \n",
    "    #Create a set method for every variable. Saves a value into the variable\n",
    "    def set_var1(self, var1):\n",
    "        self.var1 = var1\n",
    "        \n",
    "    def method1(self, arg1, arg2, ...):\n",
    "        # instance method 1\n",
    "        # do something with arguments\n",
    "    \n",
    "    def method2(self, arg1, arg2, ...):\n",
    "        # instance method 2\n",
    "        # do something with arguments\n",
    "    \n",
    "    # define more methods here...\n"
   ]
  },
  {
   "cell_type": "markdown",
   "id": "fd3e1999-499f-4a7d-8012-5b3e832c4544",
   "metadata": {},
   "source": [
    "### Example 1. Creating a Class Vehicle."
   ]
  },
  {
   "cell_type": "code",
   "execution_count": null,
   "id": "03dc8f82-be48-4fe5-9200-9d162afa8924",
   "metadata": {},
   "outputs": [],
   "source": [
    "class Vehicle:\n",
    "    def __init__(self, make, model, mileage, year):\n",
    "        self.make = make\n",
    "        self.model = model\n",
    "        self.mileage = mileage\n",
    "        self.year = year\n",
    "    #get methods for every attribute\n",
    "    def get_make(self):\n",
    "        return self.make\n",
    "    def get_model(self):\n",
    "        return self.model\n",
    "    def get_mileage(self):\n",
    "        return self.mileage\n",
    "    def get_year(self):\n",
    "        return self.year\n",
    "    #set method for every attribute\n",
    "    def set_make(self, make):\n",
    "        self.make = make\n",
    "    def set_model(self, model):\n",
    "        self.model = model\n",
    "    def set_mileage(self, mileage):\n",
    "        self.mileage = mileage\n",
    "    def set_year(self, year):\n",
    "        self.year = year\n",
    "    #action driven methods\n",
    "    def drive(self, speed, time):\n",
    "        distance = float(self.mileage)\n",
    "        self.mileage = distance + float(speed) * float(time)\n",
    "    \n",
    "    def info(self):\n",
    "        print(f'The {self.make} {self.model} {self.year} has traveled {self.mileage} miles so far!')"
   ]
  },
  {
   "cell_type": "code",
   "execution_count": null,
   "id": "0784a62b-62a4-4309-a2a9-ec32459db026",
   "metadata": {},
   "outputs": [],
   "source": [
    "#Creating the object `toyota`\n",
    "toyota = Vehicle('Toyota', 'Camry', 100, 2002)"
   ]
  },
  {
   "cell_type": "code",
   "execution_count": null,
   "id": "631e5a2f-35e4-44d3-91e9-eec5ed564e05",
   "metadata": {},
   "outputs": [],
   "source": [
    "#Using a method on `toyota`\n",
    "toyota.info()"
   ]
  },
  {
   "cell_type": "code",
   "execution_count": null,
   "id": "eae69cd4-fb18-48bd-b836-88e1a62fa904",
   "metadata": {},
   "outputs": [],
   "source": [
    "#Using methods on object `toyota\n",
    "toyota.drive(60,3)\n",
    "toyota.info()"
   ]
  },
  {
   "cell_type": "markdown",
   "id": "dd60f951-d509-45e4-b82c-4e6b6b251db7",
   "metadata": {},
   "source": [
    "## Creating Subclasses\n",
    "In Python, you can create a subclass by defining a new class and specifying the parent class that it inherits from. Here's the basic syntax for creating a subclass in Python:\n",
    "\n"
   ]
  },
  {
   "cell_type": "code",
   "execution_count": null,
   "id": "7d37c897-870b-43dc-962f-9b5ad442dd4c",
   "metadata": {},
   "outputs": [],
   "source": [
    "class SubClassName(ParentClassName):\n",
    "    def __init__(self, arg1, arg2, ..., argn):\n",
    "        # constructor method\n",
    "        # call the parent class constructor using super()\n",
    "        ParentClassName.__init__(self, arg1, arg2, ..., argn)\n",
    "        # initialize subclass instance variables\n",
    "    \n",
    "    def subclass_method1(self, arg1, arg2, ...):\n",
    "        # subclass method 1\n",
    "        # do something with arguments\n",
    "    \n",
    "    def subclass_method2(self, arg1, arg2, ...):\n",
    "        # subclass method 2\n",
    "        # do something with arguments\n",
    "    \n",
    "    # define more subclass methods here...\n"
   ]
  },
  {
   "cell_type": "markdown",
   "id": "572af6cf-314d-49c6-820e-e9b74fe77e64",
   "metadata": {},
   "source": [
    "### Example 2. Creating a Class and a Subclass.\n",
    "Inspired on the characters from Zelda: BOTW. "
   ]
  },
  {
   "cell_type": "code",
   "execution_count": null,
   "id": "e56f49e9-9d6a-45a2-b070-06a4810e51df",
   "metadata": {},
   "outputs": [],
   "source": [
    "class Character:\n",
    "    def __init__(self, name, health, stamina, status):\n",
    "        self.name = name\n",
    "        self.health = health\n",
    "        self.stamina = stamina\n",
    "        self.status = status\n",
    "    \n",
    "    def get_name(self):\n",
    "        return self.name\n",
    "    def get_health(self):\n",
    "        return self.health\n",
    "    def get_stamina(self):\n",
    "        return self.stamina\n",
    "    def get_status(self):\n",
    "        return self.status\n",
    "    \n",
    "    def set_name(self, name):\n",
    "        self.name = name\n",
    "    def set_health(self, health):\n",
    "        self.health = health\n",
    "    def set_stamina(self, stamina):\n",
    "        self.stamina = stamina\n",
    "    def set_status(self, status):\n",
    "        self.status = status\n",
    "        \n",
    "    def info(self):\n",
    "        print(f'Character: {self.name}\\nHealth: {self.health}\\nStamina: {self.stamina}\\nStatus: {self.status}')\n",
    "    #When the character receives an attack\n",
    "    def take_damage(self, damage):\n",
    "        self.health -= damage\n",
    "        if self.health <= 0:\n",
    "            print(f\"{self.name} has been defeated!\")\n",
    "            self.status = 0\n",
    "        else:\n",
    "            print(f\"{self.name} has {self.health} health remaining.\")\n",
    "\n",
    "    \n",
    "    "
   ]
  },
  {
   "cell_type": "markdown",
   "id": "775411d6-52f9-4493-86d3-f04d7bf9e2ef",
   "metadata": {},
   "source": [
    "#### Creating Sublcass from Class Character"
   ]
  },
  {
   "cell_type": "code",
   "execution_count": null,
   "id": "8f973eb2-bc82-42d7-8264-25d7e3c24492",
   "metadata": {},
   "outputs": [],
   "source": [
    "class Hero(Character):\n",
    "    def __init__(self, name, health, stamina, status, money):\n",
    "        Character.__init__(self, name, health, stamina, status)\n",
    "        self.money = money\n",
    "    \n",
    "    def get_money(self):\n",
    "        return self.money\n",
    "    \n",
    "    def set_money(self, money):\n",
    "        self.money = money\n",
    "    \n",
    "    def attack(self, target):\n",
    "        print(f\"{self.name} attacks {target.name}!\")\n",
    "        damage = 20\n",
    "        target.take_damage(damage)   "
   ]
  },
  {
   "cell_type": "code",
   "execution_count": null,
   "id": "5efbf958-69b6-4130-91c2-1d160dba709c",
   "metadata": {},
   "outputs": [],
   "source": [
    "#Creating objects\n"
   ]
  },
  {
   "cell_type": "code",
   "execution_count": null,
   "id": "0bb24b71-bd57-4415-8f11-caa360c7df8b",
   "metadata": {},
   "outputs": [],
   "source": [
    "#Using methods\n"
   ]
  },
  {
   "cell_type": "code",
   "execution_count": null,
   "id": "dc458e12-71fe-459e-9225-d10e2753e7c3",
   "metadata": {},
   "outputs": [],
   "source": [
    "#Interactive methods\n"
   ]
  },
  {
   "cell_type": "code",
   "execution_count": null,
   "id": "13cea884-ded4-494a-9d4c-d1a3499c4986",
   "metadata": {},
   "outputs": [],
   "source": []
  },
  {
   "cell_type": "markdown",
   "id": "05c82fe6-81c3-41e6-a9fd-1d64f0ad4469",
   "metadata": {},
   "source": [
    "### Try it yourself. \n",
    "Use the UML class diagrams you draw on our last class and create the classes you generated in Python."
   ]
  },
  {
   "cell_type": "code",
   "execution_count": null,
   "id": "3c27ad9c-c375-4874-bc0b-618a126525c8",
   "metadata": {},
   "outputs": [],
   "source": []
  }
 ],
 "metadata": {
  "kernelspec": {
   "display_name": "Python 3 (ipykernel)",
   "language": "python",
   "name": "python3"
  },
  "language_info": {
   "codemirror_mode": {
    "name": "ipython",
    "version": 3
   },
   "file_extension": ".py",
   "mimetype": "text/x-python",
   "name": "python",
   "nbconvert_exporter": "python",
   "pygments_lexer": "ipython3",
   "version": "3.9.13"
  }
 },
 "nbformat": 4,
 "nbformat_minor": 5
}
