{
 "cells": [
  {
   "cell_type": "markdown",
   "id": "b1ab3810-cc23-4d0b-afc9-a87a83e5c01b",
   "metadata": {},
   "source": [
    "<a href=\"https://colab.research.google.com/github/hewp84/Creative_Computing/blob/main/Lesson_18.ipynb\" target=\"_parent\"><img src=\"https://colab.research.google.com/assets/colab-badge.svg\" alt=\"Open In Colab\"/></a>"
   ]
  },
  {
   "cell_type": "markdown",
   "id": "0667633c-578a-4d84-a4a9-69c7941eedfd",
   "metadata": {},
   "source": [
    "# Lesson 18: Sets and Serializers"
   ]
  },
  {
   "cell_type": "markdown",
   "id": "4f73df41-ff7f-4750-80eb-84044440f213",
   "metadata": {},
   "source": [
    "## Sets\n",
    "In Python, a set is an unordered collection of unique elements. This means that a set can only contain one instance of any particular element, and the order in which the elements are added to the set is not preserved.\n",
    "\n",
    "You can create a set in Python by enclosing a comma-separated list of elements in curly braces `{}`. Here's an example:"
   ]
  },
  {
   "cell_type": "code",
   "execution_count": 2,
   "id": "c5d5debe-6420-4815-99c3-e6e4cebc1953",
   "metadata": {},
   "outputs": [
    {
     "name": "stdout",
     "output_type": "stream",
     "text": [
      "{'Rayya', 'Collin', 'Tanisha'}\n"
     ]
    }
   ],
   "source": [
    "my_set = {1, 2, 3, 4, 5}\n",
    "names = {'Collin', 'Rayya', 'Tanisha'}\n",
    "print(names)"
   ]
  },
  {
   "cell_type": "markdown",
   "id": "9273fccc-27f1-4157-ae9d-2a8c11428c4a",
   "metadata": {},
   "source": [
    "You can also create a set from a list using the set() function. Here's an example:"
   ]
  },
  {
   "cell_type": "code",
   "execution_count": 3,
   "id": "63e972e3-5df5-4e1c-ad05-68410e3bcb8d",
   "metadata": {},
   "outputs": [
    {
     "name": "stdout",
     "output_type": "stream",
     "text": [
      "{1, 2, 3, 4, 5}\n"
     ]
    }
   ],
   "source": [
    "my_list = [1, 2, 2, 3, 3, 4, 5, 5]\n",
    "my_set = set(my_list)\n",
    "print(my_set) # Output: {1, 2, 3, 4, 5}\n",
    "#What salient feature did you noticed by comparing the list with the set?"
   ]
  },
  {
   "cell_type": "markdown",
   "id": "b1ca0355-11b0-418d-92b8-1670d4688f7e",
   "metadata": {},
   "source": [
    "Notice that when we create a set from the list, the duplicate elements are automatically removed.\n",
    "\n",
    "## Operations with sets\n",
    "Here are some operations you can do with sets in Python:\n",
    "\n",
    "#### Add an element to a set using the add() method:"
   ]
  },
  {
   "cell_type": "code",
   "execution_count": 7,
   "id": "4680b4b5-239e-498a-b68e-9592109313b3",
   "metadata": {},
   "outputs": [
    {
     "name": "stdout",
     "output_type": "stream",
     "text": [
      "{1, 2, 3, 4, 5, 6, 8, -2}\n",
      "{1, 2, 3, 4, 5, 6, 7, 8, -2}\n"
     ]
    }
   ],
   "source": [
    "my_set.add(8)\n",
    "print(my_set)\n",
    "my_set.add(7)\n",
    "print(my_set)"
   ]
  },
  {
   "cell_type": "markdown",
   "id": "1bb2884f-9af5-4498-8ad2-57c6ca68c29b",
   "metadata": {},
   "source": [
    "#### Remove an element from a set using the remove() method:"
   ]
  },
  {
   "cell_type": "code",
   "execution_count": 9,
   "id": "6a1fc3be-d953-42f1-8734-41957a4a6ec5",
   "metadata": {},
   "outputs": [
    {
     "name": "stdout",
     "output_type": "stream",
     "text": [
      "{1, 2, 3, 4, 6, 7, 8}\n"
     ]
    }
   ],
   "source": [
    "my_set.remove(5)\n",
    "print(my_set)"
   ]
  },
  {
   "cell_type": "markdown",
   "id": "830a3b30-dd8b-4a8b-8dda-33ba2768ae24",
   "metadata": {},
   "source": [
    "#### Check if an element is in a set using the in operator:"
   ]
  },
  {
   "cell_type": "code",
   "execution_count": 11,
   "id": "727f9c4e-c036-4089-8017-a18f844491e2",
   "metadata": {},
   "outputs": [
    {
     "name": "stdout",
     "output_type": "stream",
     "text": [
      "9 is not in the set\n"
     ]
    }
   ],
   "source": [
    "if 9 in my_set:\n",
    "    print(\"9 is in the set\")\n",
    "else:\n",
    "    print(\"9 is not in the set\")\n"
   ]
  },
  {
   "cell_type": "markdown",
   "id": "968376da-1372-4c76-bf82-9cb2ec94c1f7",
   "metadata": {},
   "source": [
    "### Union\n",
    "The union of two sets is a new set that contains all the elements that are in either of the original sets. In Python, you can use the | operator or the union() method to perform a union operation. Here's an example:\n",
    "\n"
   ]
  },
  {
   "cell_type": "code",
   "execution_count": 13,
   "id": "2435c093-2b23-4a66-87e1-e69cf4213412",
   "metadata": {},
   "outputs": [
    {
     "name": "stdout",
     "output_type": "stream",
     "text": [
      "{1, 2, 3, 4, 5, 6}\n"
     ]
    }
   ],
   "source": [
    "set1 = {1, 3, 5, 2}\n",
    "set2 = {2, 4, 6}\n",
    "union_set = set1 | set2\n",
    "print(union_set) # Output: {1, 2, 3, 4, 5, 6}\n"
   ]
  },
  {
   "cell_type": "markdown",
   "id": "c93acedb-1adb-4f43-9ff6-6bddb9556c4b",
   "metadata": {},
   "source": [
    "Alternatively, you could use the union() method to achieve the same result:\n"
   ]
  },
  {
   "cell_type": "code",
   "execution_count": null,
   "id": "6da51c8b-fcad-454a-9bc8-a31a5f39e25b",
   "metadata": {},
   "outputs": [],
   "source": [
    "set1 = {1, 2, 3}\n",
    "set2 = {2, 3, 4}\n",
    "union_set = set1.union(set2)\n",
    "print(union_set) # Output: {1, 2, 3, 4}"
   ]
  },
  {
   "cell_type": "markdown",
   "id": "161080a3-cd34-46b1-92fb-d44e4ecbef58",
   "metadata": {},
   "source": [
    "### Intersection\n",
    "The intersection of two sets is a new set that contains only the elements that are in both of the original sets. In Python, you can use the & operator or the intersection() method to perform an intersection operation. Here's an example:\n",
    "\n"
   ]
  },
  {
   "cell_type": "code",
   "execution_count": 15,
   "id": "35662da5-12a6-4189-a222-3d002cf8eefc",
   "metadata": {},
   "outputs": [
    {
     "name": "stdout",
     "output_type": "stream",
     "text": [
      "{2, 3}\n"
     ]
    }
   ],
   "source": [
    "set1 = {1, 2, 3, 5}\n",
    "set2 = {2, 4, 6, 3}\n",
    "intersection_set = set1 & set2\n",
    "print(intersection_set) # Output: {2, 3}"
   ]
  },
  {
   "cell_type": "markdown",
   "id": "8db3dbec-9945-44c0-ac45-4d265a373d3d",
   "metadata": {},
   "source": [
    "Alternatively, you could use the intersection() method to achieve the same result:\n",
    "\n"
   ]
  },
  {
   "cell_type": "code",
   "execution_count": null,
   "id": "838b8775-d4b2-40a0-b054-8dc3276cfb0b",
   "metadata": {},
   "outputs": [],
   "source": [
    "set1 = {1, 2, 3}\n",
    "set2 = {2, 3, 4}\n",
    "intersection_set = set1.intersection(set2)\n",
    "print(intersection_set) # Output: {2, 3}"
   ]
  },
  {
   "cell_type": "markdown",
   "id": "43d954fe-8806-44fb-bc33-b62f3c6af07a",
   "metadata": {},
   "source": [
    "### Difference\n",
    "The difference of two sets is a new set that contains only the elements that are in the first set but not in the second set. In Python, you can use the - operator or the difference() method to perform a difference operation. Here's an example:\n",
    "\n"
   ]
  },
  {
   "cell_type": "code",
   "execution_count": null,
   "id": "194ae6c0-d96d-4de8-9c9a-4cd08b49115d",
   "metadata": {},
   "outputs": [],
   "source": [
    "set1 = {1, 2, 3}\n",
    "set2 = {2, 3, 4}\n",
    "difference_set = set1 - set2\n",
    "print(difference_set) # Output: {1}\n"
   ]
  },
  {
   "cell_type": "markdown",
   "id": "2c6bc7c1-d716-426d-a329-ef82f14c53bb",
   "metadata": {},
   "source": [
    "Alternatively, you could use the difference() method to achieve the same result:\n",
    "\n"
   ]
  },
  {
   "cell_type": "code",
   "execution_count": 16,
   "id": "b5cd757a-a8a0-4e67-9f2b-3681f1a4daf0",
   "metadata": {},
   "outputs": [
    {
     "name": "stdout",
     "output_type": "stream",
     "text": [
      "{1, 5}\n"
     ]
    }
   ],
   "source": [
    "set1 = {1, 2, 3, 5}\n",
    "set2 = {2, 3, 4, 6}\n",
    "difference_set = set1.difference(set2)\n",
    "print(difference_set) # Output: {1, 5}"
   ]
  },
  {
   "cell_type": "markdown",
   "id": "6fb0d3a0-8600-4e67-8fe9-535a44cc9a94",
   "metadata": {},
   "source": [
    "### Symmetric Difference\n",
    "The symmetric difference of two sets is a new set that contains only the elements that are in either of the original sets, but not in both. In Python, you can use the ^ operator or the symmetric_difference() method to perform a symmetric difference operation. Here's an example:\n",
    "\n"
   ]
  },
  {
   "cell_type": "code",
   "execution_count": 17,
   "id": "81434a21-7b8c-46c2-8d79-a4d60eb440fd",
   "metadata": {},
   "outputs": [
    {
     "name": "stdout",
     "output_type": "stream",
     "text": [
      "{1, 4, 5, 6}\n"
     ]
    }
   ],
   "source": [
    "set1 = {1, 2, 3, 5}\n",
    "set2 = {2, 3, 4, 6}\n",
    "symmetric_difference_set = set1 ^ set2\n",
    "print(symmetric_difference_set) # Output: {1, 4, 5, 6}"
   ]
  },
  {
   "cell_type": "markdown",
   "id": "6088e544-a94e-4698-9b8b-94876c33593f",
   "metadata": {},
   "source": [
    "Alternatively, you could use the symmetric_difference() method to achieve the same result:\n",
    "\n"
   ]
  },
  {
   "cell_type": "code",
   "execution_count": null,
   "id": "87a50ebc-a4e0-43ca-942d-fa912b8eac0f",
   "metadata": {},
   "outputs": [],
   "source": [
    "set1 = {1, 2, 3}\n",
    "set2 = {2, 3, 4}\n",
    "symmetric_difference_set = set1.symmetric_difference(set2)\n",
    "print(symmetric_difference_set) # Output: {1, 4}"
   ]
  },
  {
   "cell_type": "markdown",
   "id": "02d49345-7fb8-4b6d-935c-94966b44666a",
   "metadata": {},
   "source": [
    "### Subsets and Supersets\n",
    "A subset is a set that contains only elements that are also in another set. In Python, you can use the `issubset()` method to check if one set is a subset of another. Here's an example:"
   ]
  },
  {
   "cell_type": "code",
   "execution_count": 20,
   "id": "c69b1aab-e038-46cf-b23d-67f82a1ad6e2",
   "metadata": {},
   "outputs": [
    {
     "name": "stdout",
     "output_type": "stream",
     "text": [
      "True\n"
     ]
    }
   ],
   "source": [
    "set1 = {1, 2, 3, 4, 5}\n",
    "set2 = {1, 2, 3}\n",
    "subset_check = set2.issubset(set1)\n",
    "print(subset_check) # Output: True\n"
   ]
  },
  {
   "cell_type": "markdown",
   "id": "690a528f-116e-49f0-a44c-8ada2d3427b1",
   "metadata": {},
   "source": [
    "A superset is a set that contains all the elements of another set. In Python, you can use the issuperset() method to check if one set is a superset of another. Here's an example:"
   ]
  },
  {
   "cell_type": "code",
   "execution_count": null,
   "id": "a140d9be-3e69-4f30-8e08-f950f9aa5bd5",
   "metadata": {},
   "outputs": [],
   "source": [
    "set1 = {1, 2, 3, 4, 5}\n",
    "set2 = {1, 2, 3}\n",
    "superset_check = set1.issuperset(set2)\n",
    "print(superset_check) # Output: True"
   ]
  },
  {
   "cell_type": "markdown",
   "id": "85577b51-9b48-4c68-83a7-a110a2ce740a",
   "metadata": {},
   "source": [
    "#### Example. \n",
    "Students in Creative Computing have developed different interests through the Technological programs at OCU: Creative Technology (crtech) and Computer Science (comp_science). Let's explore students interests as sets."
   ]
  },
  {
   "cell_type": "code",
   "execution_count": 21,
   "id": "722bdedc-6e81-449d-8224-1c97009b173c",
   "metadata": {},
   "outputs": [
    {
     "name": "stdout",
     "output_type": "stream",
     "text": [
      "The following students are interested on the crtech program:\n",
      "Levi\n",
      "Tanisha\n",
      "Brock\n",
      "Adam\n",
      "Tiana\n",
      "\n",
      "The following students are interested on the comp_science program:\n",
      "Levi\n",
      "Brock\n",
      "Tanisha\n",
      "Rayya\n",
      "Collin\n",
      "Andre\n",
      "Mario\n",
      "\n",
      "The following students are interested on both crtech and comp_science:\n",
      "Levi\n",
      "Tanisha\n",
      "Brock\n",
      "\n",
      "The following students are interested on either crtech or comp_science:\n",
      "Levi\n",
      "Tanisha\n",
      "Brock\n",
      "Andre\n",
      "Rayya\n",
      "Collin\n",
      "Adam\n",
      "Tiana\n",
      "Mario\n",
      "\n",
      "The following students are interested in crtech, but not comp_science:\n",
      "Tiana\n",
      "Adam\n",
      "\n",
      "The following students are interested in comp_science, but not crtech:\n",
      "Andre\n",
      "Rayya\n",
      "Collin\n",
      "Mario\n",
      "\n",
      "The following students are interested in one program, but not both:\n",
      "Tiana\n",
      "Rayya\n",
      "Collin\n",
      "Adam\n",
      "Andre\n",
      "Mario\n"
     ]
    }
   ],
   "source": [
    "# This program demonstrates various set operations.\n",
    "crtech = set(['Tiana', 'Adam', 'Brock', 'Levi', 'Tanisha'])\n",
    "comp_science = set(['Brock', 'Levi', 'Mario', 'Andre', 'Tanisha', 'Rayya', 'Collin', ])\n",
    "\n",
    "# Display members of the crtech set.\n",
    "print('The following students are interested on the crtech program:')\n",
    "for name in crtech:\n",
    "    print(name)\n",
    "\n",
    "# Display members of the comp_science set.\n",
    "print()\n",
    "print('The following students are interested on the comp_science program:')\n",
    "for name in comp_science:\n",
    "    print(name)\n",
    "\n",
    "# Demonstrate intersection\n",
    "print()\n",
    "print('The following students are interested on both crtech and comp_science:')\n",
    "for name in crtech.intersection(comp_science):\n",
    "    print(name)\n",
    "\n",
    "# Demonstrate union\n",
    "print()\n",
    "print('The following students are interested on either crtech or comp_science:')\n",
    "for name in crtech.union(comp_science):\n",
    "    print(name)\n",
    "\n",
    "# Demonstrate difference of crtech and comp_science\n",
    "print()\n",
    "print('The following students are interested in crtech, but not comp_science:')\n",
    "for name in crtech.difference(comp_science):\n",
    "    print(name)\n",
    "\n",
    "# Demonstrate difference of comp_science and crtech\n",
    "print()\n",
    "print('The following students are interested in comp_science, but not crtech:')\n",
    "for name in comp_science.difference(crtech):\n",
    "    print(name)\n",
    "\n",
    "# Demonstrate symmetric difference\n",
    "print()\n",
    "print('The following students are interested in one program, but not both:')\n",
    "for name in crtech.symmetric_difference(comp_science):\n",
    "    print(name)\n",
    "\n"
   ]
  },
  {
   "cell_type": "markdown",
   "id": "343cccae-2def-46f7-a086-ca994774085b",
   "metadata": {},
   "source": [
    "## Serializing Objects\n",
    "Serializing is the process of converting a Python object into a stream of bytes, which can be stored in a file or transmitted over a network. Deserialization is the opposite process, where a stream of bytes is converted back into a Python object.\n",
    "\n",
    "In Python, you can use the built-in `pickle` module to serialize objects.\n",
    "\n",
    "Here are the steps for serializing an object in Python:\n",
    "\n",
    "1. Import the `pickle` module.\n",
    "2. Create an object to serialize.\n",
    "3. Open a file in binary mode using the `open()` function.\n",
    "4. Use the `pickle.dump()` function to serialize the object and write it to the file.\n",
    "5. Close the file.\n",
    "\n",
    "Here's an example of how you might serialize an object in Python:"
   ]
  },
  {
   "cell_type": "code",
   "execution_count": 22,
   "id": "7608dcfe-080c-4062-91b1-3cce73d7747c",
   "metadata": {},
   "outputs": [],
   "source": [
    "import pickle\n",
    "\n",
    "# Create an object to serialize\n",
    "person = {\"name\": \"Hector\", \"age\": 30, \"city\": \"Tegucigalpa\"}\n",
    "\n",
    "# Open a file in binary mode\n",
    "with open(\"person.pickle\", \"wb\") as file:\n",
    "    # Serialize the object and write it to the file\n",
    "    pickle.dump(person, file)\n",
    "\n",
    "# Close the file\n",
    "file.close()"
   ]
  },
  {
   "cell_type": "markdown",
   "id": "6386b9e2-1744-498f-91b6-779d349017fa",
   "metadata": {},
   "source": [
    "In this example, we created a dictionary object called `person` and then serialized it using the `pickle.dump()` function. We opened a file called `person.pickle` in binary mode using the with statement, which automatically handles closing the file when we're done. Then we used the `pickle.dump()` function to serialize the `person` object and write it to the file.\n",
    "\n",
    "To read the serialized object back from the file, we can use the following steps:\n",
    "\n",
    "1. Open the serialized file in binary mode using the open() function.\n",
    "2. Use the `pickle.load()` function to deserialize the object from the file.\n",
    "3. Close the file.\n",
    "\n",
    "Here's an example of how you might read a serialized object from a file in Python:"
   ]
  },
  {
   "cell_type": "code",
   "execution_count": 23,
   "id": "78a789bb-9d28-4e04-aeb0-7b5368a0b072",
   "metadata": {},
   "outputs": [
    {
     "name": "stdout",
     "output_type": "stream",
     "text": [
      "{'name': 'Hector', 'age': 30, 'city': 'Tegucigalpa'}\n"
     ]
    }
   ],
   "source": [
    "import pickle\n",
    "\n",
    "# Open the serialized file in binary mode\n",
    "with open(\"person.pickle\", \"rb\") as file:\n",
    "    # Deserialize the object from the file\n",
    "    per = pickle.load(file)\n",
    "\n",
    "# Close the file\n",
    "file.close()\n",
    "\n",
    "# Print the deserialized object\n",
    "print(per)\n"
   ]
  },
  {
   "cell_type": "markdown",
   "id": "611bf29b-e571-4120-8e25-3206b5f1f638",
   "metadata": {},
   "source": [
    "In this example, we opened the `person.pickle` file in binary mode using the with statement, and then used the `pickle.load()` function to deserialize the object from the file. We assigned the deserialized object to a variable called `per` and then closed the file. Finally, we printed the deserialized object to verify that it was loaded correctly.\n",
    "\n",
    "#### Example 2a. Pickling with user inputs"
   ]
  },
  {
   "cell_type": "code",
   "execution_count": 24,
   "id": "2cb37b5c-8c76-4aa7-b7ad-10824004f31f",
   "metadata": {},
   "outputs": [
    {
     "name": "stdin",
     "output_type": "stream",
     "text": [
      "Name:  Hector\n",
      "Age:  30\n",
      "GPA:  D\n",
      "Enter more data? (y/n):  y\n",
      "Name:  Mario\n",
      "Age:  19\n",
      "GPA:  A-\n",
      "Enter more data? (y/n):  y\n",
      "Name:  Andre\n",
      "Age:  20\n",
      "GPA:  A\n",
      "Enter more data? (y/n):  n\n"
     ]
    }
   ],
   "source": [
    "import pickle\n",
    "\n",
    "# main function\n",
    "def main():\n",
    "    again = 'y'  # To control loop repetition\n",
    "    \n",
    "    # Open a file for binary writing.\n",
    "    output_file = open('info.dat', 'wb')\n",
    "\n",
    "    # Get data until the user wants to stop.\n",
    "    while again.lower() == 'y':\n",
    "        # Get data about a person and save it.\n",
    "        save_data(output_file)\n",
    "\n",
    "        # Does the user want to enter more data?\n",
    "        again = input('Enter more data? (y/n): ')\n",
    "\n",
    "    # Close the file.\n",
    "    output_file.close()\n",
    "\n",
    "# The save_data function gets data about a person,\n",
    "# stores it in a dictionary, and then pickles the\n",
    "# dictionary to the specified file.\n",
    "def save_data(file):\n",
    "    # Create an empty dictionary.\n",
    "    person = {}\n",
    "    \n",
    "    # Get data for a person and store\n",
    "    # it in the dictionary.\n",
    "    person['name'] = input('Name: ')\n",
    "    person['age'] = int(input('Age: '))\n",
    "    person['GPA'] = (input('GPA: '))\n",
    "\n",
    "    # Pickle the dictionary.\n",
    "    pickle.dump(person, file)\n",
    "\n",
    "# Call the main function.\n",
    "main()"
   ]
  },
  {
   "cell_type": "markdown",
   "id": "7f116099-d116-4a0a-9e54-4bd11fb44765",
   "metadata": {},
   "source": [
    "#### Example 2b. Unpickling user's inputs"
   ]
  },
  {
   "cell_type": "code",
   "execution_count": 25,
   "id": "f895f3e9-b3eb-4cbe-b011-bd5575503757",
   "metadata": {},
   "outputs": [
    {
     "name": "stdout",
     "output_type": "stream",
     "text": [
      "Name: Hector\n",
      "Age: 30\n",
      "GPA: D\n",
      "\n",
      "Name: Mario\n",
      "Age: 19\n",
      "GPA: A-\n",
      "\n",
      "Name: Andre\n",
      "Age: 20\n",
      "GPA: A\n",
      "\n"
     ]
    }
   ],
   "source": [
    "import pickle\n",
    "\n",
    "# main function\n",
    "def main():\n",
    "    end_of_file = False  # To indicate end of file\n",
    "\n",
    "    # Open a file for binary reading.\n",
    "    input_file = open('info.dat', 'rb')\n",
    "\n",
    "    # Read to the end of the file.\n",
    "    while not end_of_file:\n",
    "        try:\n",
    "            # Unpickle the next object.\n",
    "            person = pickle.load(input_file)\n",
    "\n",
    "            # Display the object.\n",
    "            display_data(person)\n",
    "        except EOFError:\n",
    "            # Set the flag to indicate the end\n",
    "            # of the file has been reached.\n",
    "            end_of_file = True\n",
    "\n",
    "    # Close the file.\n",
    "    input_file.close()\n",
    "\n",
    "# The display_data function displays the person data\n",
    "# in the dictionary that is passed as an argument.\n",
    "def display_data(person):\n",
    "    print('Name:', person['name'])\n",
    "    print('Age:', person['age'])\n",
    "    print('GPA:', person['GPA'])\n",
    "    print()\n",
    "\n",
    "# Call the main function.\n",
    "main()"
   ]
  },
  {
   "cell_type": "code",
   "execution_count": null,
   "id": "4f3aaf2d-bb40-4428-abd9-3ebe55ad6654",
   "metadata": {},
   "outputs": [],
   "source": []
  }
 ],
 "metadata": {
  "kernelspec": {
   "display_name": "Python 3 (ipykernel)",
   "language": "python",
   "name": "python3"
  },
  "language_info": {
   "codemirror_mode": {
    "name": "ipython",
    "version": 3
   },
   "file_extension": ".py",
   "mimetype": "text/x-python",
   "name": "python",
   "nbconvert_exporter": "python",
   "pygments_lexer": "ipython3",
   "version": "3.9.13"
  }
 },
 "nbformat": 4,
 "nbformat_minor": 5
}
