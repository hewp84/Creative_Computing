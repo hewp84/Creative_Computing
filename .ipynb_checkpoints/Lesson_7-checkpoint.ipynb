{
 "cells": [
  {
   "cell_type": "markdown",
   "id": "3ff028de-3ea9-4572-8f0a-e71e2322141a",
   "metadata": {},
   "source": [
    "<a href=\"https://colab.research.google.com/github/hewp84/Creative_Computing/blob/main/Lesson_7.ipynb\" target=\"_parent\"><img src=\"https://colab.research.google.com/assets/colab-badge.svg\" alt=\"Open In Colab\"/></a>"
   ]
  },
  {
   "cell_type": "markdown",
   "id": "b761b895-6597-4329-99e3-8a1490930902",
   "metadata": {},
   "source": [
    "# Lesson 7: Functions-- Void functions and variables\n",
    "\n",
    "In Python, a function is a named block of code that performs a specific task. Functions are used to organize code into smaller, reusable modules and help make programs easier to read, understand, and maintain.\n",
    "\n",
    "## Function names\n",
    "\n",
    "A function’s name should be descriptive enough so anyone reading your code can reasonably guess what the function does.\n",
    "\n",
    "Python requires that you follow the same rules that you follow when naming variables, which we recap here:\n",
    "\n",
    "* You cannot use one of Python’s keywords as a function name. \n",
    "* A function name cannot contain spaces.\n",
    "* The first character must be one of the letters a through z, A through Z, or an underscore character (_).\n",
    "* After the first character you may use the letters a through z or A through Z, the digits 0 through 9, or underscores.\n",
    "* Uppercase and lowercase characters are distinct.\n",
    "\n",
    "Because functions perform actions, most programmers prefer to use verbs in function names. \n",
    "\n",
    "For example, a function that calculates gross pay might be named `calculate_gross_pay`. What does it calculate? The gross pay, of course.\n",
    "\n",
    "Other examples of good function names would be get_hours, get_pay_rate, calculate_overtime, print_check, and so on. Each function name describes what the function does.\n",
    "\n",
    "## Void Functions\n",
    "\n",
    "In Python, a void function is a function that does not return any value. Instead, it performs a specific task, such as printing output to the console, modifying a variable, or manipulating data structures. Void functions are defined using the `def` keyword followed by the function name and any parameters that the function requires. Here's an example of a void function that prints a message to the console:"
   ]
  },
  {
   "cell_type": "code",
   "execution_count": null,
   "id": "2924772c-563a-4afb-96d9-e415aaffd1bc",
   "metadata": {},
   "outputs": [],
   "source": [
    "def greeting():\n",
    "    print(f'Happy Valentine\\'s Day!!!')"
   ]
  },
  {
   "cell_type": "code",
   "execution_count": null,
   "id": "853d6f4a-96c2-4cdb-aa03-d5b9ca511023",
   "metadata": {},
   "outputs": [],
   "source": [
    "#in class coding"
   ]
  },
  {
   "cell_type": "markdown",
   "id": "dbe198d1-90e8-4626-b6fe-580bc5e7572e",
   "metadata": {},
   "source": [
    "### Try it yourself: Create three functions\n"
   ]
  },
  {
   "cell_type": "code",
   "execution_count": null,
   "id": "86fcc800-49b3-4ed4-817f-5c64faca1073",
   "metadata": {},
   "outputs": [],
   "source": [
    "#Create them here"
   ]
  },
  {
   "cell_type": "code",
   "execution_count": null,
   "id": "d3229618-6086-46f6-b1ff-9c92078b98a5",
   "metadata": {},
   "outputs": [],
   "source": [
    "def generate_full_name():\n",
    "    first_name = input(f'Name: ')\n",
    "    last_name = input(f'Lastname: ')\n",
    "    space = ' '\n",
    "    full_name = first_name + space + last_name\n",
    "    print(full_name)\n",
    "generate_full_name() # calling a function\n",
    "\n",
    "def add_two_numbers():\n",
    "    x = 2\n",
    "    y = 3\n",
    "    total = x + y\n",
    "    print(total)\n",
    "add_two_numbers()"
   ]
  },
  {
   "cell_type": "markdown",
   "id": "d357c705-dc62-4ffe-83af-2782835455a6",
   "metadata": {},
   "source": [
    "## Passing arguments to functions\n",
    "\n",
    "An argument is any piece of data that is passed into a function when the function is called. A parameter is a variable that receives an argument that is passed into a function."
   ]
  },
  {
   "cell_type": "code",
   "execution_count": null,
   "id": "6b22a697-3a1b-445c-bc93-8a1436ccca42",
   "metadata": {},
   "outputs": [],
   "source": [
    "def squaring(number):  # number is the argument\n",
    "    result = number ** 2\n",
    "    print(result)"
   ]
  },
  {
   "cell_type": "code",
   "execution_count": null,
   "id": "e72c2353-7254-4b00-9f0f-b4ca1718c625",
   "metadata": {},
   "outputs": [],
   "source": [
    "value = 5  #is the parameter\n",
    "squaring(value)"
   ]
  },
  {
   "cell_type": "code",
   "execution_count": null,
   "id": "ccd26be0-8ed4-417e-bcfc-211342cded5d",
   "metadata": {},
   "outputs": [],
   "source": [
    "#Try it yourself: Create an adding function that receives two parameters and prints the result\n"
   ]
  },
  {
   "cell_type": "markdown",
   "id": "8edca220-0b8c-42a8-8be4-f7746b14b59a",
   "metadata": {},
   "source": [
    "#### Example: Write a program that passes two strings as arguments to a function using name and lastname."
   ]
  },
  {
   "cell_type": "code",
   "execution_count": null,
   "id": "0ea46af5-a404-4326-a6d5-88bb4e4f5242",
   "metadata": {},
   "outputs": [],
   "source": [
    "#example code\n",
    "def reverse_name(first, last):\n",
    "    print(last, first)\n",
    "    \n",
    "first_name = input('Enter first name: ')\n",
    "last_name = input('Enter last name: ')\n",
    "\n",
    "reverse_name(first_name, last_name)"
   ]
  },
  {
   "cell_type": "markdown",
   "id": "7de4e8b5-6601-4a7e-9ace-2731396ab5e7",
   "metadata": {},
   "source": [
    "### Keyword Arguments\n",
    "\n"
   ]
  },
  {
   "cell_type": "code",
   "execution_count": null,
   "id": "0f387afe-a475-4e12-8a52-187d41f695e7",
   "metadata": {},
   "outputs": [],
   "source": [
    "# This program demonstrates keyword arguments.\n",
    "\n",
    "def main():\n",
    "# Show the amount of simple interest, using 0.01 as\n",
    "# interest rate per period, 10 as the number of periods,\n",
    "# and $10,000 as the principal.\n",
    "show_interest(rate=0.01, periods=10, principal=10000.0)\n",
    "\n",
    "# The show_interest function displays the amount of\n",
    "# simple interest for a given principal, interest rate\n",
    "# per period, and number of periods.\n",
    "\n",
    "def show_interest(principal, rate, periods):\n",
    "      interest = principal * rate * periods\n",
    "      print(f'The simple interest will be ${interest:,.2f}.') \n",
    "\n",
    "# Call the main function.\n",
    "main()"
   ]
  },
  {
   "cell_type": "markdown",
   "id": "a9f714a3-9ad2-48d1-a709-983a11f5eb71",
   "metadata": {},
   "source": [
    "## Global variables\n",
    "\n",
    "In Python, a variable is a named location in memory that stores a value. There are two types of variables in Python: local variables and global variables.\n",
    "\n",
    "A local variable is a variable that is defined within a function and can only be accessed within that function. It is created when the function is called and is destroyed when the function returns. Here's an example of a function that defines a local variable:"
   ]
  },
  {
   "cell_type": "code",
   "execution_count": null,
   "id": "2546756b-e848-4be9-8c58-8ce50ad03d54",
   "metadata": {},
   "outputs": [],
   "source": [
    "def add_numbers(num1, num2):\n",
    "    sum = num1 + num2\n",
    "    print(\"The sum is:\", sum)\n"
   ]
  },
  {
   "cell_type": "markdown",
   "id": "321f2985-7e12-4eab-9ac6-73abfbdd5c17",
   "metadata": {},
   "source": [
    "In this function, the sum variable is a local variable that is defined within the function. It is only accessible within the function and is destroyed when the function returns.\n",
    "\n",
    "A global variable is a variable that is defined outside of any function and can be accessed from any part of the program. It is created when the program starts and is destroyed when the program ends. Here's an example of a global variable:"
   ]
  },
  {
   "cell_type": "code",
   "execution_count": null,
   "id": "bfd60d7e-88a8-4d2e-8f3e-2e71508a9cf4",
   "metadata": {},
   "outputs": [],
   "source": [
    "count = 0\n",
    "\n",
    "def increment_count():\n",
    "    global count\n",
    "    count += 1\n",
    "    print(\"The count is:\", count)\n"
   ]
  },
  {
   "cell_type": "markdown",
   "id": "a18123e3-38b3-4ae8-867d-adee1aaf76e8",
   "metadata": {},
   "source": [
    "In this example, the count variable is a global variable that is defined outside of any function. The increment_count function modifies the value of the count variable by incrementing it by 1. The global keyword is used to indicate that the count variable is a global variable and should be modified within the function. The count variable can also be accessed and modified from other parts of the program.\n",
    "\n",
    "It's important to note that global variables should be used sparingly and with caution, as they can make the program harder to read and debug. Instead, it's generally recommended to use local variables within functions, and pass data between functions using parameters and return values. This helps to make the code more modular, easier to read and understand, and less prone to errors."
   ]
  },
  {
   "cell_type": "code",
   "execution_count": null,
   "id": "b8fdfd2b-0733-49b3-b8fc-c28194b28079",
   "metadata": {},
   "outputs": [],
   "source": [
    "population = 100\n",
    "\n",
    "def pop_cs103():\n",
    "    population = 10\n",
    "    print(population)\n",
    "\n",
    "def pop_math115():\n",
    "    population = 12\n",
    "    print(population)\n",
    "\n",
    "def pop_total():\n",
    "    global population\n",
    "    print(population)\n",
    "\n",
    "pop_cs103()\n",
    "pop_total()"
   ]
  },
  {
   "cell_type": "code",
   "execution_count": null,
   "id": "3aa14fde-5898-441a-b700-8861fb16ca75",
   "metadata": {},
   "outputs": [],
   "source": []
  }
 ],
 "metadata": {
  "kernelspec": {
   "display_name": "Python 3 (ipykernel)",
   "language": "python",
   "name": "python3"
  },
  "language_info": {
   "codemirror_mode": {
    "name": "ipython",
    "version": 3
   },
   "file_extension": ".py",
   "mimetype": "text/x-python",
   "name": "python",
   "nbconvert_exporter": "python",
   "pygments_lexer": "ipython3",
   "version": "3.9.13"
  }
 },
 "nbformat": 4,
 "nbformat_minor": 5
}
