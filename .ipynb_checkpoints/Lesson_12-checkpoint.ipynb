{
 "cells": [
  {
   "cell_type": "markdown",
   "id": "0e6652f9-3593-4e13-890d-c23427fab25e",
   "metadata": {},
   "source": [
    "<a href=\"https://colab.research.google.com/github/hewp84/Creative_Computing/blob/main/Lesson_12.ipynb\" target=\"_parent\"><img src=\"https://colab.research.google.com/assets/colab-badge.svg\" alt=\"Open In Colab\"/></a>"
   ]
  },
  {
   "cell_type": "markdown",
   "id": "b934e288-a5a0-4c8e-a6a6-cca0e7620b25",
   "metadata": {},
   "source": [
    "# Lesson 12: Operations with Lists\n",
    "## List Slicing\n",
    "\n",
    "Slicing is a feature in Python that allows you to extract a subset of items from a list, tuple, or string. It allows you to access a range of items from a sequence, which can be very useful when working with large data sets or when you need to manipulate specific parts of a string.\n",
    "\n",
    "The syntax for slicing in Python is as follows:"
   ]
  },
  {
   "cell_type": "code",
   "execution_count": null,
   "id": "3fbd7100-25b8-4fe8-8a6b-2f543512af94",
   "metadata": {},
   "outputs": [],
   "source": [
    "the_list[start_index:stop_index:step]"
   ]
  },
  {
   "cell_type": "markdown",
   "id": "4b6ec03f-5b31-4963-9562-653093a4e102",
   "metadata": {},
   "source": [
    "Here, `the_list` is the list that you want to slice. `start_index` is the index of the first item you want to extract, `stop_index` is the index of the last item you want to extract (not inclusive), and `step` is the number of items to skip between each item in the slice.\n",
    "\n",
    "If you don't specify `start_index`, Python assumes that you want to start from the beginning of the sequence. If you don't specify `stop_index`, Python assumes that you want to go all the way to the end of the sequence. If you don't specify `step`, Python assumes that you want to extract every item in the slice."
   ]
  },
  {
   "cell_type": "code",
   "execution_count": null,
   "id": "84f39fb1-74e5-4a03-9c1f-846a17ce73b6",
   "metadata": {},
   "outputs": [],
   "source": [
    "ozarks = [0,1,2,3,4,5,6,7,8,9]\n",
    "\n",
    "ep1 = ozarks[2:6]\n",
    "print(ep1)\n",
    "\n",
    "ep2 = ozarks[3::2]\n",
    "print(ep2)\n",
    "\n",
    "ep3 = ozarks[::3]\n",
    "print(ep3)"
   ]
  },
  {
   "cell_type": "code",
   "execution_count": null,
   "id": "48ef0fc7-91ec-4d7e-a5cc-b591728d3107",
   "metadata": {},
   "outputs": [],
   "source": [
    "#Mini Hackaton\n",
    "#Using ozarks list, find the next episodes:\n",
    "\n",
    "ep4 = ozarks[]\n",
    "print(ep4)  #[4,5,6,7,8]\n",
    "\n",
    "ep5 = ozarks[]\n",
    "print(ep5)  #[0,2,4,6]\n",
    "\n",
    "season_finale = ozarks[]\n",
    "print(season_finale)  #[8,7,6,5,4]\n"
   ]
  },
  {
   "cell_type": "markdown",
   "id": "c466bb87-d54e-4056-8cb2-5c68a13f6b11",
   "metadata": {},
   "source": [
    "## Finding elements in Lists using `in` operator"
   ]
  },
  {
   "cell_type": "code",
   "execution_count": null,
   "id": "6b944b70-6898-4bac-83d2-5bdf4e79d1cf",
   "metadata": {},
   "outputs": [],
   "source": [
    "names = ['Adam', 'Collin', 'Tanisha', 'Mario']\n",
    "\n",
    "# Write a name to search for.\n",
    "search = input('Enter name: ')\n",
    "\n",
    "# Determine whether the name is in the list.\n",
    "if search in names:\n",
    "    print(f'{search} was found in the list.')\n",
    "else:\n",
    "    print(f'{search} was not found in the list.')\n"
   ]
  },
  {
   "cell_type": "markdown",
   "id": "4cbaebbf-369b-4d0f-99a8-1230a33f423b",
   "metadata": {},
   "source": [
    "## Useful Built-in functions and methods for lists\n",
    "\n",
    "There is an exhaustive list of built-in functions in Python that act as methods, statements or functions. This lesson does not intend to expand on all, but some that are considered very useful or handy. For a thorough review on built-in functions, see the Python documentation at www.python.org."
   ]
  },
  {
   "cell_type": "markdown",
   "id": "4cb24b7d-9e4a-4a88-b8f2-db71553365b0",
   "metadata": {},
   "source": [
    "![IMAGE](https://raw.githubusercontent.com/hewp84/Creative_Computing/main/img/builtinfunctions.png)"
   ]
  },
  {
   "cell_type": "markdown",
   "id": "680062fc-08e3-4a50-b9df-d675bd636f62",
   "metadata": {},
   "source": [
    "### Append Method"
   ]
  },
  {
   "cell_type": "code",
   "execution_count": null,
   "id": "7eb84821-7f5e-46c4-aa78-c043d1812fc6",
   "metadata": {},
   "outputs": [],
   "source": [
    "ozarks.append(10)\n",
    "print(ozarks)"
   ]
  },
  {
   "cell_type": "code",
   "execution_count": null,
   "id": "bda0bba9-94e1-4d34-98f8-7a91b3a03b96",
   "metadata": {},
   "outputs": [],
   "source": [
    "# Adding the roster from CS/CRT103\n",
    "name_list = []\n",
    "\n",
    "# Create a variable to control the loop.\n",
    "again = 'Y'\n",
    "    \n",
    "# Add names to the list.\n",
    "while again.upper() == 'Y':\n",
    "    # Get a name from the user.\n",
    "    name = input('Enter name: ')\n",
    "\n",
    "    # Append the name to the list.\n",
    "    name_list.append(name)\n",
    "\n",
    "    # Add another one?\n",
    "    print('Do you want to add another name?')\n",
    "    again = input('y = yes, anything else = no: ')\n",
    "    print()\n",
    "\n",
    "# Display the names that were entered.\n",
    "print('Here are the names you entered.')\n",
    "    \n",
    "for name in name_list:\n",
    "    print(name)"
   ]
  },
  {
   "cell_type": "markdown",
   "id": "e0d80f62-4670-46fe-bf15-16c7a675b0c0",
   "metadata": {},
   "source": [
    "### Index Method"
   ]
  },
  {
   "cell_type": "code",
   "execution_count": null,
   "id": "1e73ec85-6c44-4136-bba3-66c63177772e",
   "metadata": {},
   "outputs": [],
   "source": [
    "my_list = [10, 20, 30, 40, 50, 20, 60]\n",
    "index = my_list.index(20)\n",
    "print(index)  # Output: 1\n"
   ]
  },
  {
   "cell_type": "markdown",
   "id": "79c0abc0-860a-46e1-b93d-2f92310f4375",
   "metadata": {},
   "source": [
    "### Insert Method"
   ]
  },
  {
   "cell_type": "code",
   "execution_count": null,
   "id": "9bae38d9-bdfb-42fe-9b61-894fc4a24168",
   "metadata": {},
   "outputs": [],
   "source": [
    "print(names)\n",
    "names.insert(2,'Levi')\n",
    "print(names)"
   ]
  },
  {
   "cell_type": "markdown",
   "id": "1eb4352d-2b3d-49fb-b297-871ffdc11272",
   "metadata": {},
   "source": [
    "### Sort and Reverse Method\n"
   ]
  },
  {
   "cell_type": "code",
   "execution_count": null,
   "id": "390f2c42-e7f4-4221-944b-6c2eb4f4732d",
   "metadata": {},
   "outputs": [],
   "source": [
    "names.sort()\n",
    "print(names)\n",
    "names.reverse()\n",
    "print(names)"
   ]
  },
  {
   "cell_type": "markdown",
   "id": "ecc77ee4-a768-4ba4-9908-6dc877529db6",
   "metadata": {},
   "source": [
    "### Del Statement\n",
    "\n",
    "As a statement, `del` is a reserved word and it is used standalone preceding the list with the intended-to-deletion index number"
   ]
  },
  {
   "cell_type": "code",
   "execution_count": null,
   "id": "38390b3d-9cde-44a2-bddd-acf220fcc99f",
   "metadata": {},
   "outputs": [],
   "source": [
    "names.insert(3,'Ornitorrinco')\n",
    "print(names)\n",
    "del names[3]\n",
    "print(names)"
   ]
  },
  {
   "cell_type": "markdown",
   "id": "e90742c5-4c7d-416a-8440-4b99d0a35117",
   "metadata": {},
   "source": [
    "### Min and Max functions\n"
   ]
  },
  {
   "cell_type": "code",
   "execution_count": null,
   "id": "d6628216-2de7-4774-8362-a34125e34c5a",
   "metadata": {},
   "outputs": [],
   "source": [
    "print(f'From the list {ozarks}\\nThe highest value is {max(ozarks)}, while the lowest value {min(ozarks)}')"
   ]
  },
  {
   "cell_type": "code",
   "execution_count": null,
   "id": "60bf4da4-22e0-47a4-95be-698307172739",
   "metadata": {},
   "outputs": [],
   "source": [
    "#Does it work with strings?\n",
    "val = max(names)\n",
    "print(val)"
   ]
  },
  {
   "cell_type": "markdown",
   "id": "ebf1670b-1d48-4324-ad69-ded2dbfbccc1",
   "metadata": {},
   "source": [
    "#### Try it yourself: The Looney Tunes Bus\n",
    "\n",
    "Create a bus list which contains the Looney Tune characters that get into the bus. Every character that enters the bus, should be included in the bus list. Every character that leaves the bus should be deleted from the list. The driver is always index 0. Use the built-in functions to follow the story. Make sure to print the bus list after each transaction to answer the final question.\n",
    "\n",
    "\"There was the Looney Tunes Bus, which was empty with no characters. The first one to enter was `Daffy Duck`. He turned on the bus and drove to pick up the rest of the characters. The next one to come up was `Sylvester`. He greeted and sat in the first seat. `Porky Pig` was next to hop onto the bus. `Yosemite Sam` hopped next, he threatened with his guns as he said he needed to use the 2nd seat (index 1). `Speed Gonzalez` came in so fast, that he sat but he left the bus afterwards. `Bugs Bunny` walked in saying: \"What's up doc?\", as he never looses, he became the new driver.  `Elmer Fudd` walked in with his shotgun; at this point, `Bugs` said, \"Wait a moment!\" we got to reverse this, and the whole bus was reversed, and `Bugs Bunny` left the bus. Who was left driving the bus?\""
   ]
  },
  {
   "cell_type": "code",
   "execution_count": null,
   "id": "6779fd7e-5ab4-4ed4-8474-405c4083e303",
   "metadata": {},
   "outputs": [],
   "source": [
    "#Write your code here"
   ]
  }
 ],
 "metadata": {
  "kernelspec": {
   "display_name": "Python 3 (ipykernel)",
   "language": "python",
   "name": "python3"
  },
  "language_info": {
   "codemirror_mode": {
    "name": "ipython",
    "version": 3
   },
   "file_extension": ".py",
   "mimetype": "text/x-python",
   "name": "python",
   "nbconvert_exporter": "python",
   "pygments_lexer": "ipython3",
   "version": "3.9.13"
  }
 },
 "nbformat": 4,
 "nbformat_minor": 5
}
