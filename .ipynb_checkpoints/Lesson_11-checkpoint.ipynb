{
 "cells": [
  {
   "cell_type": "markdown",
   "id": "08014bce-5441-4d9d-abeb-4b1fc558841f",
   "metadata": {},
   "source": [
    "<a href=\"https://colab.research.google.com/github/hewp84/Creative_Computing/blob/main/Lesson_11.ipynb\" target=\"_parent\"><img src=\"https://colab.research.google.com/assets/colab-badge.svg\" alt=\"Open In Colab\"/></a>"
   ]
  },
  {
   "cell_type": "markdown",
   "id": "56fa5b63-784e-45db-9e83-2c591d0a979c",
   "metadata": {},
   "source": [
    "# Lesson 11: Introduction to Lists"
   ]
  },
  {
   "cell_type": "markdown",
   "id": "7b553d36-7d7c-44c5-8bb5-f93f2b01c945",
   "metadata": {},
   "source": [
    "#### Definition:\n",
    "\n",
    "A list is an object that contains multiple data items. Lists are mutable, which means that their contents can be changed during a program’s execution. Lists are dynamic data structures, meaning that items may be added to them or removed from them. You can use indexing, slicing, and various methods to work with lists in a program.\n",
    "\n",
    "A list is an object that contains multiple data items. Each item that is stored in a list is called an element. Here are some statements that create different lists:"
   ]
  },
  {
   "cell_type": "code",
   "execution_count": 2,
   "id": "13b8ed4f-9d14-48fb-98b2-3f8e8c302b23",
   "metadata": {},
   "outputs": [
    {
     "name": "stdout",
     "output_type": "stream",
     "text": [
      "[1, 2, 3, 1]\n",
      "['Brock', 'Andre', 'Tiana', 'Rayya']\n",
      "['Hector', 29, 3.89]\n"
     ]
    }
   ],
   "source": [
    "#an integer list\n",
    "numbers = [0,1,2,3,4]\n",
    "\n",
    "#a string list\n",
    "names = ['Brock', 'Andre', 'Tiana', 'Rayya']\n",
    "\n",
    "#a list with different data types\n",
    "student_list = ['Hector', 29, 3.89]\n",
    "\n",
    "num1 = 1\n",
    "num2 = 2\n",
    "num3 = 3\n",
    "\n",
    "numbers = [num1,num2, num3, num1]\n",
    "\n",
    "#Print the lists\n",
    "print(numbers)\n",
    "print(names)\n",
    "print(student_list)"
   ]
  },
  {
   "cell_type": "markdown",
   "id": "d1cf1d9c-8047-4f8c-866d-9a76dc2e49fd",
   "metadata": {},
   "source": [
    "Python also has a built-in `list()` function that can convert certain types of objects to lists which works with iterable functions such as `range()`."
   ]
  },
  {
   "cell_type": "code",
   "execution_count": 4,
   "id": "fc98acec-c56f-4f0b-87ac-8a73084eeb0d",
   "metadata": {},
   "outputs": [
    {
     "name": "stdout",
     "output_type": "stream",
     "text": [
      "[0, 1, 2, 3, 4]\n"
     ]
    }
   ],
   "source": [
    "number_list = list(range(5))\n",
    "print(number_list)"
   ]
  },
  {
   "cell_type": "markdown",
   "id": "60b757dd-f962-4a54-93e5-353ac370797b",
   "metadata": {},
   "source": [
    "How is this output happening?"
   ]
  },
  {
   "cell_type": "code",
   "execution_count": null,
   "id": "8819862d-57d9-4598-89ff-603acd1f273b",
   "metadata": {},
   "outputs": [],
   "source": [
    "#write your answer below:\n",
    "#You start in 0, all the way to 4 (5 numbers)"
   ]
  },
  {
   "cell_type": "code",
   "execution_count": 6,
   "id": "f9e04713-6f45-4f6d-912f-ac7d863147dd",
   "metadata": {},
   "outputs": [
    {
     "name": "stdout",
     "output_type": "stream",
     "text": [
      "[1, 3, 5, 7, 9]\n"
     ]
    }
   ],
   "source": [
    "#What is the output of the following line?\n",
    "mylist = list(range(1,10,2))\n",
    "print(mylist)"
   ]
  },
  {
   "cell_type": "markdown",
   "id": "44cf871f-239c-456c-973f-fc0efbaa5b0f",
   "metadata": {},
   "source": [
    "## Repetition operator\n"
   ]
  },
  {
   "cell_type": "code",
   "execution_count": 8,
   "id": "201ee47a-0a45-4962-9bda-3df2b953c57e",
   "metadata": {},
   "outputs": [
    {
     "name": "stdout",
     "output_type": "stream",
     "text": [
      "HectorHectorHector\n"
     ]
    }
   ],
   "source": [
    "number = 2\n",
    "name = 'Hector'\n",
    "\n",
    "#What happens if we multiply these variables with a number 'n'?\n",
    "n =3\n",
    "print(name * n )"
   ]
  },
  {
   "cell_type": "code",
   "execution_count": 14,
   "id": "69b333c4-6de2-4b97-aa88-ef779d608e1a",
   "metadata": {},
   "outputs": [
    {
     "name": "stdout",
     "output_type": "stream",
     "text": [
      "[1, 2, 3, 1]\n",
      "[1, 2, 3, 1, 1, 2, 3, 1]\n"
     ]
    }
   ],
   "source": [
    "#What do you think will happen if we multiply a list with a number 'n'?\n",
    "#\n",
    "print(numbers)\n",
    "#Recall the list 'numbers', lets multiply it by 2\n",
    "print(numbers*2)\n"
   ]
  },
  {
   "cell_type": "markdown",
   "id": "eb5869d9-3991-48bd-a9a2-5541e34c0ba2",
   "metadata": {},
   "source": [
    "## Accesing the elements inside a list\n",
    "### I. Through a for loop"
   ]
  },
  {
   "cell_type": "markdown",
   "id": "56085369-d784-4483-baad-a569618490cb",
   "metadata": {},
   "source": [
    "General Syntax:\n",
    "\n",
    "`for variable in list:`\n",
    "    \n",
    "    `action`\n",
    "    `action`\n",
    "    `etc.`"
   ]
  },
  {
   "cell_type": "code",
   "execution_count": 13,
   "id": "c646a281-f172-45b3-ac10-6571928e324b",
   "metadata": {},
   "outputs": [
    {
     "name": "stdout",
     "output_type": "stream",
     "text": [
      "1\n",
      "2\n",
      "3\n",
      "1\n",
      "Brock\n",
      "Andre\n",
      "Tiana\n",
      "Rayya\n"
     ]
    }
   ],
   "source": [
    "#Recall the list numbers and names\n",
    "\n",
    "for num in numbers:\n",
    "    print(num)\n",
    "    \n",
    "for z in names:\n",
    "    print(z)"
   ]
  },
  {
   "cell_type": "markdown",
   "id": "78a81172-4483-4c5a-91e2-558a30fd68f1",
   "metadata": {},
   "source": [
    "### II. Indexing"
   ]
  },
  {
   "cell_type": "markdown",
   "id": "bb943f1e-db83-46b6-9c13-0e1ee75c64ea",
   "metadata": {},
   "source": [
    "Each element in a list has an index that specifies its position in the list. Indexing starts at 0, so the index of the first element is 0, the index of the second element is 1, and so forth. The index of the last element in a list is 1 less than the number of elements in the list."
   ]
  },
  {
   "cell_type": "code",
   "execution_count": 20,
   "id": "5a85b4d7-1a5a-49fe-b1fa-e42f845e2227",
   "metadata": {},
   "outputs": [
    {
     "name": "stdout",
     "output_type": "stream",
     "text": [
      "['Brock', 'Andre', 'Tiana', 'Rayya']\n",
      "Rayya and Tiana are cool. Also everyone else is cool\n"
     ]
    }
   ],
   "source": [
    "#Recall the list names. I would like to print the first and third name\n",
    "print(names)\n",
    "print(f'{names[-1]} and {names[-2]} are cool. Also everyone else is cool') #what indexes should I use?"
   ]
  },
  {
   "cell_type": "markdown",
   "id": "0fc4d368-2fe9-4419-8c69-5b9d36177000",
   "metadata": {},
   "source": [
    "You can also use negative indexes with lists to identify element positions relative to the end of the list. The Python interpreter adds negative indexes to the length of the list to determine the element position. The index −1 identifies the last element in a list, −2 identifies the next to last element, and so forth."
   ]
  },
  {
   "cell_type": "code",
   "execution_count": 22,
   "id": "c9fd7c08-36b6-45e5-8f96-766323553f76",
   "metadata": {},
   "outputs": [
    {
     "name": "stdout",
     "output_type": "stream",
     "text": [
      "[1, 2, 3, 1]\n",
      "1\n",
      "2\n",
      "3\n",
      "1\n",
      "1\n",
      "3\n",
      "2\n",
      "1\n"
     ]
    }
   ],
   "source": [
    "#Try it yourself: Using the list 'numbers'. Find the range of acceptable index values: positive and negative\n",
    "\n",
    "print(numbers)\n",
    "\n",
    "#Write them down here:\n",
    "#\n",
    "print(numbers[0])\n",
    "print(numbers[1])\n",
    "print(numbers[2])\n",
    "print(numbers[3])\n",
    "print(numbers[-1])\n",
    "print(numbers[-2])\n",
    "print(numbers[-3])\n",
    "print(numbers[-4])"
   ]
  },
  {
   "cell_type": "markdown",
   "id": "59f7ce5b-cb6e-41b8-b27d-965ddad1a148",
   "metadata": {},
   "source": [
    "With indexes, you can iterate through repetitive cycles as well. A `while` loops seems convenient using sentinels."
   ]
  },
  {
   "cell_type": "code",
   "execution_count": 24,
   "id": "a046d879-b90f-47b8-b019-12db56830580",
   "metadata": {},
   "outputs": [
    {
     "name": "stdout",
     "output_type": "stream",
     "text": [
      "Brock\n",
      "Andre\n",
      "Tiana\n",
      "Rayya\n"
     ]
    }
   ],
   "source": [
    "i=0\n",
    "while i < 4:\n",
    "    print(names[i])\n",
    "    i += 1\n",
    "    \n",
    "#Think of two problems when iterating a list using a while cycle?\n",
    "#\n",
    "#"
   ]
  },
  {
   "cell_type": "markdown",
   "id": "195a13f6-3789-4b89-a522-132a3952c49a",
   "metadata": {},
   "source": [
    "### The `len` function\n",
    "\n",
    "Python has a built-in function named `len` that returns the length of a sequence, such as a list."
   ]
  },
  {
   "cell_type": "code",
   "execution_count": 25,
   "id": "54d51062-a692-4d3a-8f9c-c37dea58670d",
   "metadata": {},
   "outputs": [
    {
     "name": "stdout",
     "output_type": "stream",
     "text": [
      "4\n"
     ]
    }
   ],
   "source": [
    "#What is the length of the list names?\n",
    "size = len(names)\n",
    "print(size)"
   ]
  },
  {
   "cell_type": "code",
   "execution_count": 26,
   "id": "4a5a7a29-0764-41bb-8d0a-3fbd0be0f315",
   "metadata": {},
   "outputs": [
    {
     "name": "stdout",
     "output_type": "stream",
     "text": [
      "Brock\n",
      "Andre\n",
      "Tiana\n",
      "Rayya\n"
     ]
    }
   ],
   "source": [
    "#Iterating with repetitive cyles using the `len` function\n",
    "#Using a for loop with the list 'names'\n",
    "\n",
    "for i in range(len(names)):\n",
    "    print(names[i])"
   ]
  },
  {
   "cell_type": "code",
   "execution_count": 27,
   "id": "9eb3c810-cf15-407a-bbf2-1911b77a1aa1",
   "metadata": {},
   "outputs": [
    {
     "name": "stdout",
     "output_type": "stream",
     "text": [
      "Brock\n",
      "Andre\n",
      "Tiana\n",
      "Rayya\n"
     ]
    }
   ],
   "source": [
    "#Iterating with repetitive cyles using the `len` function\n",
    "#Using a while loop with the list 'names'\n",
    "j = 0\n",
    "while j < len(names):\n",
    "    print(names[j])\n",
    "    j += 1"
   ]
  },
  {
   "cell_type": "markdown",
   "id": "5e07977b-d4ba-4911-8963-fc11e4c14f87",
   "metadata": {},
   "source": [
    "### List mutability\n",
    "\n",
    "Lists in Python are mutable, which means their elements can be changed. Consequently, an expression in the form `list[index]` can appear on the left side of an assignment operator."
   ]
  },
  {
   "cell_type": "code",
   "execution_count": 32,
   "id": "22c1c7de-b98d-4e0c-a702-b9c5731ad1f3",
   "metadata": {},
   "outputs": [
    {
     "name": "stdout",
     "output_type": "stream",
     "text": [
      "[1, 2, 3, 5]\n",
      "[1, 2, 3, 7]\n"
     ]
    }
   ],
   "source": [
    "#Recall the list 'numbers'\n",
    "print(numbers)\n",
    "#I do not want to have repeated elements. I will get rid of the second '1'\n",
    "numbers[3] = 7 #what index number should we use?\n",
    "print(numbers)\n"
   ]
  },
  {
   "cell_type": "code",
   "execution_count": 3,
   "id": "66f59c7c-c0d2-4a23-8b2b-56fb472a1716",
   "metadata": {},
   "outputs": [
    {
     "name": "stdout",
     "output_type": "stream",
     "text": [
      "[1, 2, 3, 1]\n",
      "[7, 8, 11, 145678]\n"
     ]
    }
   ],
   "source": [
    "#Try it yourself: Change all elements in the list 'numbers' with new numbers. \n",
    "print(numbers)\n",
    "numbers[0] = 7\n",
    "numbers[1] = 8\n",
    "numbers[2] = 11\n",
    "numbers[3] = 145678\n",
    "print(numbers)\n",
    "\n",
    "\n",
    "#What happens if you try this:\n",
    "#numbers[5] = 6\n",
    "#It will display an out of range syntax error."
   ]
  },
  {
   "cell_type": "markdown",
   "id": "40db192e-883d-4bd5-81e6-3f84527b58ec",
   "metadata": {},
   "source": [
    "#### Example.\n"
   ]
  },
  {
   "cell_type": "code",
   "execution_count": 36,
   "id": "c174d8d9-dcd6-406a-96eb-59c112ce6d37",
   "metadata": {},
   "outputs": [
    {
     "name": "stdout",
     "output_type": "stream",
     "text": [
      "Enter the sales for each day.\n"
     ]
    },
    {
     "name": "stdin",
     "output_type": "stream",
     "text": [
      "Day #1:  20\n",
      "Day #2:  30\n",
      "Day #3:  50\n",
      "Day #4:  60\n",
      "Day #5:  70\n"
     ]
    },
    {
     "name": "stdout",
     "output_type": "stream",
     "text": [
      "Here are the values you entered:\n",
      "20.0\n",
      "30.0\n",
      "50.0\n",
      "60.0\n",
      "70.0\n"
     ]
    }
   ],
   "source": [
    "# The NUM_DAYS constant holds the number of days that we will gather sales data for.\n",
    "days = 5\n",
    "\n",
    "def main():\n",
    "    # Create a list to hold the sales for each day.\n",
    "    sales = [0] * days\n",
    "\n",
    "    print('Enter the sales for each day.')\n",
    "    \n",
    "    # Get the sales for each day.\n",
    "    for index in range(len(sales)):\n",
    "        sales[index] = float(input(f'Day #{index + 1}: '))\n",
    "\n",
    "    # Display the values entered.\n",
    "    print('Here are the values you entered:')\n",
    "    for x in sales:\n",
    "        print(x)\n",
    "\n",
    "# Call the main function.\n",
    "main()"
   ]
  },
  {
   "cell_type": "markdown",
   "id": "745b2e02-bfd0-464d-b1a0-e09477dc3075",
   "metadata": {},
   "source": [
    "### Concatenating lists\n",
    "\n",
    "Concatenating means joing two or more things together."
   ]
  },
  {
   "cell_type": "code",
   "execution_count": 38,
   "id": "e65e89d0-3019-4ad1-8a1b-bfdadb89e996",
   "metadata": {},
   "outputs": [
    {
     "name": "stdout",
     "output_type": "stream",
     "text": [
      "[1, 2, 3, 4, 5, 6, 7, 8, 9, 10]\n"
     ]
    }
   ],
   "source": [
    "list1 = [1,2,3,4,5]\n",
    "list2 = [6,7,8,9,10]\n",
    "\n",
    "#What happens if we concat them using the + operator?\n",
    "list3 = list1 + list2\n",
    "print(list3)"
   ]
  },
  {
   "cell_type": "code",
   "execution_count": null,
   "id": "aa087500-8577-4c66-988d-92163bb8cb79",
   "metadata": {},
   "outputs": [],
   "source": [
    "#Try it yourself. Create a list with gals names and one with guys names. Concat them afterwards\n"
   ]
  },
  {
   "cell_type": "markdown",
   "id": "fed60c89-9424-4a7c-acc0-9e1f7fc695d2",
   "metadata": {},
   "source": [
    "## Mini homework\n",
    "INSTRUCTIONS.\n",
    "* Answer these questions verbally. \n",
    "* Once you answered them, run the code. \n",
    "* Finally, reflect. Was your hypothesis correct? Why or why not?\n",
    "\n",
    "Use one cellblock per question (e.g. one block code for 7.1, another one for 7.2, etc.)"
   ]
  },
  {
   "cell_type": "markdown",
   "id": "791435d0-27bb-4ce6-86f9-30da90daabec",
   "metadata": {},
   "source": [
    "![IMAGE](https://raw.githubusercontent.com/hewp84/Creative_Computing/main/img/prob1.png)\n",
    "\n",
    "![IMAGE](https://raw.githubusercontent.com/hewp84/Creative_Computing/main/img/prob2.png)"
   ]
  },
  {
   "cell_type": "code",
   "execution_count": null,
   "id": "fa0c0d97-46e3-4146-9bf5-980c2ffa1a02",
   "metadata": {},
   "outputs": [],
   "source": [
    "#7.1\n",
    "#Your hypothesis of what will be the output\n",
    "#\n",
    "\n",
    "#Your code\n",
    "\n",
    "#Reflection\n",
    "#"
   ]
  },
  {
   "cell_type": "code",
   "execution_count": null,
   "id": "bf388cbf-1f1d-44eb-9a88-3d079cb2e63e",
   "metadata": {},
   "outputs": [],
   "source": [
    "#7.2\n",
    "#Your hypothesis of what will be the output\n",
    "#\n",
    "\n",
    "#Your code\n",
    "\n",
    "#Reflection\n",
    "#"
   ]
  },
  {
   "cell_type": "code",
   "execution_count": null,
   "id": "904e1479-be9f-4acd-99e4-51de0ca8dcfb",
   "metadata": {},
   "outputs": [],
   "source": [
    "#7.3\n",
    "#Your hypothesis of what will be the output\n",
    "#\n",
    "\n",
    "#Your code\n",
    "\n",
    "#Reflection\n",
    "#"
   ]
  },
  {
   "cell_type": "code",
   "execution_count": null,
   "id": "083dcdcb-3340-4d06-b8a2-653d51091419",
   "metadata": {},
   "outputs": [],
   "source": [
    "#7.4\n",
    "#Your hypothesis of what will be the output\n",
    "#\n",
    "\n",
    "#Your code\n",
    "\n",
    "#Reflection\n",
    "#"
   ]
  },
  {
   "cell_type": "code",
   "execution_count": null,
   "id": "de029bc9-e2bb-4a5e-bbdf-4f5af5275b09",
   "metadata": {},
   "outputs": [],
   "source": [
    "#7.5\n",
    "#Your hypothesis of what will be the output\n",
    "#\n",
    "\n",
    "#Your code\n",
    "\n",
    "#Reflection\n",
    "#"
   ]
  },
  {
   "cell_type": "code",
   "execution_count": null,
   "id": "24af02d7-cbeb-4b2e-988b-8421bee2a600",
   "metadata": {},
   "outputs": [],
   "source": [
    "#7.6\n",
    "#Your hypothesis of what will be the output\n",
    "#\n",
    "\n",
    "#Your code\n",
    "\n",
    "#Reflection\n",
    "#"
   ]
  },
  {
   "cell_type": "code",
   "execution_count": null,
   "id": "d68a217e-04f2-40f7-9512-743e8b246559",
   "metadata": {},
   "outputs": [],
   "source": [
    "#7.7\n",
    "#Your hypothesis of what will be the output\n",
    "#\n",
    "\n",
    "#Your code\n",
    "\n",
    "#Reflection\n",
    "#"
   ]
  },
  {
   "cell_type": "code",
   "execution_count": null,
   "id": "e7358863-af07-4c5d-92ca-1c93f5ea3816",
   "metadata": {},
   "outputs": [],
   "source": [
    "#7.8\n",
    "#Your hypothesis of what will be the output\n",
    "#\n",
    "\n",
    "#Your code\n",
    "\n",
    "#Reflection\n",
    "#"
   ]
  }
 ],
 "metadata": {
  "kernelspec": {
   "display_name": "Python 3 (ipykernel)",
   "language": "python",
   "name": "python3"
  },
  "language_info": {
   "codemirror_mode": {
    "name": "ipython",
    "version": 3
   },
   "file_extension": ".py",
   "mimetype": "text/x-python",
   "name": "python",
   "nbconvert_exporter": "python",
   "pygments_lexer": "ipython3",
   "version": "3.9.13"
  }
 },
 "nbformat": 4,
 "nbformat_minor": 5
}
