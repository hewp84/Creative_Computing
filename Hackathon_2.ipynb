{
 "cells": [
  {
   "cell_type": "markdown",
   "id": "37de685c-378a-4f15-9db0-623be4616911",
   "metadata": {},
   "source": [
    "# Hackathon 2\n",
    "\n",
    "Instructions. You will be assessed on functions, file input/output, and lists using Python. Provide evidence of all these elements for solving the following exercise.\n",
    "\n",
    "OCU has an ongoing program on sharing the Bible verse of the day. As a technology student, you are commissioned to write a script that randomly displays a Bible verse per day. For now, we will use the verses in Psalm 24.\n",
    "#### The final outcome message should look like this: \"The verse of the day is: Psalm 24:2 \"Content of the verse\"\n",
    "\n",
    "### Algorithm\n",
    "1. Use the file 'psalm24.txt' as the source to display the verses. Go to the psalm24.txt file and make sure you know how many verses are there.\n",
    "2. Randomize the outcome. That means that every time the script is executed, a different random verse from Psalm 24 is displayed. \n",
    "3. Print the outcome message AND write the message in the file 'output.txt'. The existing content in the file should not be wiped every time you add new verses."
   ]
  },
  {
   "cell_type": "code",
   "execution_count": null,
   "id": "fec13c4e-759c-4b18-b379-4cb2279855bb",
   "metadata": {},
   "outputs": [],
   "source": []
  }
 ],
 "metadata": {
  "kernelspec": {
   "display_name": "Python 3 (ipykernel)",
   "language": "python",
   "name": "python3"
  },
  "language_info": {
   "codemirror_mode": {
    "name": "ipython",
    "version": 3
   },
   "file_extension": ".py",
   "mimetype": "text/x-python",
   "name": "python",
   "nbconvert_exporter": "python",
   "pygments_lexer": "ipython3",
   "version": "3.9.13"
  }
 },
 "nbformat": 4,
 "nbformat_minor": 5
}
