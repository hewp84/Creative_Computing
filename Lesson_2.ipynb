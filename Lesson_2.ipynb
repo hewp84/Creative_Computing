{
 "cells": [
  {
   "cell_type": "markdown",
   "id": "d17c6d50-0825-4bd8-b7de-f485788756f4",
   "metadata": {},
   "source": [
    "# Lesson 2"
   ]
  },
  {
   "cell_type": "markdown",
   "id": "d7cc234a-87e5-40c3-8842-59d9218374ab",
   "metadata": {},
   "source": [
    "## Arithmetic operators\n",
    "\n",
    "* Addition(+): a + b\n",
    "* Subtraction(-): a - b\n",
    "* Multiplication(*): a * b\n",
    "* Division(/): a / b\n",
    "* Modulus(%): a % b\n",
    "* Floor division(//): a // b\n",
    "* Exponentiation(**): a ** b\n"
   ]
  },
  {
   "cell_type": "markdown",
   "id": "903d20ba-6c8e-46e3-bb55-15374839c48b",
   "metadata": {},
   "source": [
    "![Arithmetic operators](https://github.com/hewp84/Creative_Computing/tree/main/img/arithmetic_operators.png)"
   ]
  },
  {
   "cell_type": "code",
   "execution_count": null,
   "id": "a127d31c-3f73-41b1-8bbd-20620f0a130c",
   "metadata": {},
   "outputs": [],
   "source": []
  }
 ],
 "metadata": {
  "kernelspec": {
   "display_name": "Python 3 (ipykernel)",
   "language": "python",
   "name": "python3"
  },
  "language_info": {
   "codemirror_mode": {
    "name": "ipython",
    "version": 3
   },
   "file_extension": ".py",
   "mimetype": "text/x-python",
   "name": "python",
   "nbconvert_exporter": "python",
   "pygments_lexer": "ipython3",
   "version": "3.9.13"
  }
 },
 "nbformat": 4,
 "nbformat_minor": 5
}
