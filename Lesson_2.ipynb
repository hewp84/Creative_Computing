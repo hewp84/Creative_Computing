{
 "cells": [
  {
   "cell_type": "markdown",
   "id": "4545e35c-2028-4407-9545-b38b382c750b",
   "metadata": {
    "colab_type": "text",
    "id": "view-in-github"
   },
   "source": [
    "<a href=\"https://colab.research.google.com/github/hewp84/Creative_Computing/blob/main/Lesson_2.ipynb\" target=\"_parent\"><img src=\"https://colab.research.google.com/assets/colab-badge.svg\" alt=\"Open In Colab\"/></a>"
   ]
  },
  {
   "cell_type": "markdown",
   "id": "dd01440e-67a9-446a-99a2-afef26b49a5b",
   "metadata": {},
   "source": [
    "# Lesson 2"
   ]
  },
  {
   "cell_type": "markdown",
   "id": "d7cc234a-87e5-40c3-8842-59d9218374ab",
   "metadata": {},
   "source": [
    "## Arithmetic operators\n",
    "\n",
    "* Addition(+): a + b\n",
    "* Subtraction(-): a - b\n",
    "* Multiplication(*): a * b\n",
    "* Division(/): a / b\n",
    "* Modulus(%): a % b\n",
    "* Floor division(//): a // b\n",
    "* Exponentiation(**): a ** b\n"
   ]
  },
  {
   "cell_type": "markdown",
   "id": "903d20ba-6c8e-46e3-bb55-15374839c48b",
   "metadata": {},
   "source": [
    "![Arithmetic operators](https://github.com/hewp84/Creative_computing/blob/main/img/arithmetic_operators.png?raw=true)"
   ]
  },
  {
   "cell_type": "code",
   "execution_count": null,
   "id": "a127d31c-3f73-41b1-8bbd-20620f0a130c",
   "metadata": {},
   "outputs": [],
   "source": [
    "# Arithmetic Operations in Python\n",
    "# Integers\n",
    "\n",
    "print('Addition: ', 71 + 22)        #\n",
    "print('Subtraction: ', 42 - 11)     #\n",
    "print('Multiplication: ', 12 * 3)  # \n",
    "print ('Division: ', 24 / 2)       #  Division in Python gives floating number\n",
    "print('Division: ', 16 / 2)        #         \n",
    "print('Division: ', 7 / 2)        # \n",
    "print('Division without the remainder: ', 7 // 2)   # ,  gives without the floating number or without the remaining\n",
    "print ('Division without the remainder: ',7 // 3)   # \n",
    "print('Modulus: ', 3 % 2)         # , Gives the remainder\n",
    "print('Exponentiation: ', 2 ** 3) #  it means 2 * 2 * 2"
   ]
  },
  {
   "cell_type": "code",
   "execution_count": null,
   "id": "e717fd13-6f88-4ec5-bda9-143a2553b8d6",
   "metadata": {},
   "outputs": [],
   "source": [
    "x = 5\n",
    "y = 2\n",
    "\n",
    "# Addition\n",
    "print(x + y) # 7\n",
    "\n",
    "# Subtraction\n",
    "print(x - y) # 3\n",
    "\n",
    "# Multiplication\n",
    "print(x * y) # 10\n",
    "\n",
    "# Division\n",
    "print(x / y) # 2.5\n",
    "\n",
    "# Integer Division (floor division)\n",
    "print(x // y) # 2\n",
    "\n",
    "# Modulo (remainder)\n",
    "print(x % y) # 1\n",
    "\n",
    "# Exponentiation\n",
    "print(x ** y) # 25\n"
   ]
  },
  {
   "cell_type": "markdown",
   "id": "b7df17ef-f807-4ba7-9c0a-05583d0ab017",
   "metadata": {},
   "source": [
    "Lets calculate some applications (area, volume,density, weight, perimeter, distance, force).\n",
    "\n",
    "### Example:"
   ]
  },
  {
   "cell_type": "code",
   "execution_count": null,
   "id": "b4f5a80b-8cc4-4283-82aa-1ff14b15fb49",
   "metadata": {},
   "outputs": [],
   "source": [
    "# Area of a circle\n",
    "radius = 10                                 # \n",
    "area_circle = 3.14 * radius ** 2         #\n",
    "print('Area of a circle:', area_circle)\n",
    "\n",
    "# Area of a rectangle\n",
    "length = 10\n",
    "width = 20\n",
    "area_rectangle = length * width\n",
    "print('Area of rectangle:', area_rectangle)\n",
    "\n",
    "# Calculating a weight of an object on Earth\n",
    "mass = 75\n",
    "gravity = 9.81\n",
    "weight = mass * gravity\n",
    "print(weight, 'N')                         # Adding Newtons to the weight\n",
    "\n",
    "# Calculate the total payment for a loan \n"
   ]
  },
  {
   "cell_type": "markdown",
   "id": "cc0e1709-a1b6-4f73-85c6-a291fe9c28ec",
   "metadata": {},
   "source": [
    "Exercise: Write a program that prompts the user to enter labored hours in a week and the rate per hour. The output should be the weekly salary."
   ]
  },
  {
   "cell_type": "code",
   "execution_count": null,
   "id": "a73e0bdc-0e8f-47c6-838c-c00ae0408c3d",
   "metadata": {},
   "outputs": [],
   "source": []
  }
 ],
 "metadata": {
  "kernelspec": {
   "display_name": "Python 3 (ipykernel)",
   "language": "python",
   "name": "python3"
  },
  "language_info": {
   "codemirror_mode": {
    "name": "ipython",
    "version": 3
   },
   "file_extension": ".py",
   "mimetype": "text/x-python",
   "name": "python",
   "nbconvert_exporter": "python",
   "pygments_lexer": "ipython3",
   "version": "3.9.13"
  }
 },
 "nbformat": 4,
 "nbformat_minor": 5
}
