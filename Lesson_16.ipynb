{
 "cells": [
  {
   "cell_type": "markdown",
   "id": "c8a3547f-4f97-4ebf-9997-99f63e518fee",
   "metadata": {},
   "source": [
    "<a href=\"https://colab.research.google.com/github/hewp84/Creative_Computing/blob/main/Lesson_16.ipynb\" target=\"_parent\"><img src=\"https://colab.research.google.com/assets/colab-badge.svg\" alt=\"Open In Colab\"/></a>"
   ]
  },
  {
   "cell_type": "markdown",
   "id": "2a5dedf5-3daa-4e7d-a545-1f0e19c87e35",
   "metadata": {},
   "source": [
    "# Lesson 16: Operations with Strings\n",
    "\n",
    "## Basic Operations\n",
    "Strings are sequences of characters, and you can perform various operations with them. Here are some of the most common operations:\n",
    "\n",
    "### Concatenation\n",
    "You can use the `+` operator to concatenate two strings together. For example:\n"
   ]
  },
  {
   "cell_type": "code",
   "execution_count": 51,
   "id": "d7e7bf7d-b154-4480-b36e-74ad704fa591",
   "metadata": {},
   "outputs": [
    {
     "name": "stdout",
     "output_type": "stream",
     "text": [
      "God is good!\n",
      " All the time! \n",
      "God is good! All the time! \n",
      "God is good! All the time! Ready for school to end\n"
     ]
    }
   ],
   "source": [
    "string1 = \"God is good!\"\n",
    "print(string1)\n",
    "string2 = \" All the time! \"\n",
    "print(string2)\n",
    "result = string1 + string2\n",
    "print(result)  \n",
    "string3 = 'Ready for school to end'\n",
    "print(result + string3)\n",
    "\n"
   ]
  },
  {
   "cell_type": "markdown",
   "id": "72a7c85c-06de-4a0f-a62e-a4ab4ae589cd",
   "metadata": {},
   "source": [
    "### Repetition\n",
    "You can use the `*` operator to repeat a string a certain number of times. For example:"
   ]
  },
  {
   "cell_type": "code",
   "execution_count": 53,
   "id": "1dd249cc-f0d4-474f-8ef2-f0e4ee823d1b",
   "metadata": {},
   "outputs": [
    {
     "name": "stdout",
     "output_type": "stream",
     "text": [
      "Python Python Python \n"
     ]
    }
   ],
   "source": [
    "string = \"Python \"\n",
    "result = string * 3\n",
    "print(result)  \n"
   ]
  },
  {
   "cell_type": "code",
   "execution_count": 58,
   "id": "9389c99f-62d7-408b-a7fc-c3fe13d3bb88",
   "metadata": {},
   "outputs": [
    {
     "name": "stdout",
     "output_type": "stream",
     "text": [
      "HectorHectorHectorWillWillWillWillWill\n",
      "WillHectorWillHectorWillHector\n"
     ]
    }
   ],
   "source": [
    "#Try it yourself: Store your first name and last name using two different variables. Use the + and * operators to come up with combinations  of your names\n",
    "name = 'Hector'\n",
    "last = 'Will'\n",
    "result = 3* name + 5*last\n",
    "print(result)\n",
    "print(3*(last + name))"
   ]
  },
  {
   "cell_type": "markdown",
   "id": "075aba74-33a9-4253-a2bc-25a32c59880d",
   "metadata": {},
   "source": [
    "### Indexing\n",
    "You can use indexing to access individual characters in a string. In Python, indexing starts at 0. For example:"
   ]
  },
  {
   "cell_type": "code",
   "execution_count": 59,
   "id": "b7c5e120-ef41-440e-8681-9f6ce6be6e51",
   "metadata": {},
   "outputs": [
    {
     "name": "stdout",
     "output_type": "stream",
     "text": [
      "S\n",
      "a\n",
      "l\n",
      "s\n"
     ]
    }
   ],
   "source": [
    "poppins = \"Supercalifragilisticexpialidocious\"\n",
    "print(poppins[0])    \n",
    "print(poppins[11])  \n",
    "print(poppins[7])  \n",
    "print(poppins[-1])  \n"
   ]
  },
  {
   "cell_type": "code",
   "execution_count": 60,
   "id": "9c302228-59c6-4d45-a85c-a56c17ab4f07",
   "metadata": {},
   "outputs": [
    {
     "name": "stdout",
     "output_type": "stream",
     "text": [
      "S\n",
      "u\n",
      "p\n",
      "e\n",
      "r\n",
      "c\n",
      "a\n",
      "l\n",
      "i\n",
      "f\n",
      "r\n",
      "a\n",
      "g\n",
      "i\n",
      "l\n",
      "i\n",
      "s\n",
      "t\n",
      "i\n",
      "c\n",
      "e\n",
      "x\n",
      "p\n",
      "i\n",
      "a\n",
      "l\n",
      "i\n",
      "d\n",
      "o\n",
      "c\n",
      "i\n",
      "o\n",
      "u\n",
      "s\n"
     ]
    }
   ],
   "source": [
    "for letter in poppins:\n",
    "    print(letter)"
   ]
  },
  {
   "cell_type": "code",
   "execution_count": 61,
   "id": "5b6d8736-7db6-40f2-b143-cb1ad4d78d67",
   "metadata": {},
   "outputs": [
    {
     "name": "stdout",
     "output_type": "stream",
     "text": [
      "7\n"
     ]
    }
   ],
   "source": [
    "#Counting letters inside a string\n",
    "count = 0\n",
    "\n",
    "for p in poppins:\n",
    "    if p == 'I' or p == 'i':\n",
    "        count += 1\n",
    "print(count)"
   ]
  },
  {
   "cell_type": "code",
   "execution_count": 63,
   "id": "07eed5b4-25cd-46e7-9616-c17b275f750b",
   "metadata": {},
   "outputs": [
    {
     "name": "stdout",
     "output_type": "stream",
     "text": [
      "16\n"
     ]
    }
   ],
   "source": [
    "#Try it yourself: Count how many vowels are in the string inside poppins (assume all vowels are lowercase)\n",
    "count = 0\n",
    "for p in poppins:\n",
    "    if p == 'a' or p == 'e' or p == 'i' or p == 'o' or p == 'u':\n",
    "        count += 1\n",
    "print(count)"
   ]
  },
  {
   "cell_type": "markdown",
   "id": "d239340b-18ca-48d5-983c-fb9a9aea590b",
   "metadata": {},
   "source": [
    "### Length\n",
    "You can use the `len()` function to get the length of a string. For example:"
   ]
  },
  {
   "cell_type": "code",
   "execution_count": 64,
   "id": "66a8b899-41c1-4016-bc7c-85385eff177f",
   "metadata": {},
   "outputs": [
    {
     "name": "stdout",
     "output_type": "stream",
     "text": [
      "34\n"
     ]
    }
   ],
   "source": [
    "print(len(poppins))"
   ]
  },
  {
   "cell_type": "markdown",
   "id": "390b21ff-74f4-4747-bc4b-30ff9441409f",
   "metadata": {},
   "source": [
    "### Slicing\n",
    "You can use slicing to extract a substring from a larger string. Slicing uses the notation `[start:stop:step]`, where `start` is the starting index, `stop` is the ending index (exclusive), and `step` is the step size. For example:"
   ]
  },
  {
   "cell_type": "code",
   "execution_count": 65,
   "id": "06cad9db-d809-4270-b8f3-a03c4c8a8bc7",
   "metadata": {},
   "outputs": [
    {
     "name": "stdout",
     "output_type": "stream",
     "text": [
      "ragilisti\n"
     ]
    }
   ],
   "source": [
    "new_poppins = poppins[10:19]\n",
    "print(new_poppins)"
   ]
  },
  {
   "cell_type": "markdown",
   "id": "9d00cfba-06e2-48fd-a676-d07097bea3a6",
   "metadata": {},
   "source": [
    "#### Ciphering encrypted messages"
   ]
  },
  {
   "cell_type": "code",
   "execution_count": null,
   "id": "8c406a82-9f39-4032-b0de-f358051ee8dd",
   "metadata": {},
   "outputs": [],
   "source": [
    "crypted = 'l7r1hkD3r1hkr1r7hk 3r3hkW4r0hki2r5hkl2r2hkl8r4hk 6r6hki9r1hks5r3hk 9r8hkp5r9hkr7r8hke2r6hkt9r7hkt9r6hky5r2hk 1r7hkc8r5hko5r1hko9r8hkl2r0hk'"
   ]
  },
  {
   "cell_type": "code",
   "execution_count": 67,
   "id": "b2cc4520-c4f8-4029-8965-731f5f307902",
   "metadata": {},
   "outputs": [
    {
     "name": "stdout",
     "output_type": "stream",
     "text": [
      "Dr Will is pretty cool\n"
     ]
    }
   ],
   "source": [
    "uncrypted = crypted[6:len(crypted)+1:6]\n",
    "print(uncrypted)"
   ]
  },
  {
   "cell_type": "code",
   "execution_count": 72,
   "id": "cf0b42f3-e204-4a64-b57c-eeb281c348d9",
   "metadata": {},
   "outputs": [],
   "source": [
    "import random"
   ]
  },
  {
   "cell_type": "code",
   "execution_count": 78,
   "id": "83b5bc94-fb46-4bf8-bee2-a458dc86462f",
   "metadata": {},
   "outputs": [
    {
     "name": "stdout",
     "output_type": "stream",
     "text": [
      "P3tghy1tght6tghh3tgho1tghn3tgh 9tghi0tghs1tgh 6tghn6tghi9tghc8tghe8tgh\n",
      "Python is nice\n"
     ]
    }
   ],
   "source": [
    "\n",
    "#Try it yourself: Write a script that encrypts a message.\n",
    "message = 'Python is nice'\n",
    "ciphered = ''\n",
    "\n",
    "for m in message:\n",
    "    ciphered += m + str(random.randint(0,9)) + 'tgh'\n",
    "print(ciphered)\n",
    "\n",
    "decoded = ciphered[0:len(ciphered)+1:5]\n",
    "print(decoded)"
   ]
  },
  {
   "cell_type": "markdown",
   "id": "c4cd5fc1-0c45-46c6-99cc-4a381381abad",
   "metadata": {},
   "source": [
    "## String Methods\n",
    "\n",
    "Python provides many built-in string methods to make it easier to work with strings.  You can check the official documentation with all built-in string methods in Python by clicking [HERE](https://docs.python.org/3/library/stdtypes.html#string-methods). Here are some commonly used string methods:"
   ]
  },
  {
   "cell_type": "markdown",
   "id": "a546830d-bc10-4f03-8578-86d20824dae2",
   "metadata": {},
   "source": [
    "### Testing Methods\n",
    "\n",
    "![image](https://raw.githubusercontent.com/hewp84/Creative_Computing/main/img/testing_methods.png)\n",
    "\n",
    "### Text modifying Methods\n",
    "\n",
    "![image](https://raw.githubusercontent.com/hewp84/Creative_Computing/main/img/modifying_methods.png)\n",
    "\n",
    "### Search and Replace Methods\n",
    "\n",
    "![image](https://raw.githubusercontent.com/hewp84/Creative_Computing/main/img/searching_methods.png)\n",
    "\n",
    "### Split Method\n",
    "\n",
    "Explodes a string through a delimitating argument. The end result is a list.\n",
    "\n",
    "Syntax: `string.split(argument)`\n",
    "\n",
    "\n"
   ]
  },
  {
   "cell_type": "code",
   "execution_count": null,
   "id": "38416c89-7686-405d-bad9-f9321bf2429d",
   "metadata": {},
   "outputs": [],
   "source": [
    "my_string = 'one two three four five'\n",
    "new_string = my_string.split()\n",
    "print(new_string)\n",
    "\n",
    "str1 = 'PaYaTaHaOaN'\n",
    "str2 = str1.split('a')\n",
    "print(str2)"
   ]
  },
  {
   "cell_type": "code",
   "execution_count": null,
   "id": "4024ec2b-51a2-415f-a725-e04495189b9a",
   "metadata": {},
   "outputs": [],
   "source": [
    "#Initializing variables\n",
    "average = 0\n",
    "total = 0\n",
    "grades = []\n",
    "\n",
    "#Open CSV (Comma Separated Values) file\n",
    "csv_file = open('average.csv','r')\n",
    "\n",
    "#Save the content on variable lines\n",
    "lines = csv_file.readlines()\n",
    "\n",
    "#Unpack the content into lines\n",
    "for line in lines:\n",
    "    cells = line.split(',')\n",
    "    \n",
    "    #Unpack each cell to append it on list grade\n",
    "    for cell in cells:\n",
    "        grades.append(float(cell))\n",
    "\n",
    "#Unpack each element from the list grades to add them up to get a total\n",
    "for grade in grades:\n",
    "    total += grade\n",
    "\n",
    "#Average is the sum of all elements divided by the count of all elements\n",
    "average = total / (len(grades))\n",
    "\n",
    "print(average)"
   ]
  },
  {
   "cell_type": "code",
   "execution_count": null,
   "id": "26fadb97-933f-4687-83d0-3586ecb895ca",
   "metadata": {},
   "outputs": [],
   "source": [
    "#Try it yourself: Write a sentence and save it as a string. Use at least 10 string methods on that string.\n",
    "#Record your prediction\n",
    "#Reflect by contrasting your prediction vs the outcome\n",
    "\n",
    "\n",
    "#Example\n",
    "\n",
    "#Trying the method .title()\n",
    "#This method will display my string as a title\n",
    "my_str = \"My favorite meal of the day is breakfast\"\n",
    "print(my_str.title())\n",
    "#I was wrong, the title method actually capitalizes the first letter of each word"
   ]
  },
  {
   "cell_type": "code",
   "execution_count": null,
   "id": "7e14a77d-f326-4635-919e-e9c3bee5a73f",
   "metadata": {},
   "outputs": [],
   "source": [
    "#Try it out the string methods below\n"
   ]
  }
 ],
 "metadata": {
  "kernelspec": {
   "display_name": "Python 3 (ipykernel)",
   "language": "python",
   "name": "python3"
  },
  "language_info": {
   "codemirror_mode": {
    "name": "ipython",
    "version": 3
   },
   "file_extension": ".py",
   "mimetype": "text/x-python",
   "name": "python",
   "nbconvert_exporter": "python",
   "pygments_lexer": "ipython3",
   "version": "3.9.13"
  }
 },
 "nbformat": 4,
 "nbformat_minor": 5
}
