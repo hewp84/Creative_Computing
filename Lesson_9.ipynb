{
 "cells": [
  {
   "cell_type": "markdown",
   "id": "44f0cccf-d072-4950-9dfb-93191b330208",
   "metadata": {},
   "source": [
    "<a href=\"https://colab.research.google.com/github/hewp84/Creative_Computing/blob/main/Lesson_9.ipynb\" target=\"_parent\"><img src=\"https://colab.research.google.com/assets/colab-badge.svg\" alt=\"Open In Colab\"/></a>"
   ]
  },
  {
   "cell_type": "markdown",
   "id": "972bae73-6e72-4acc-912e-dff27a7ec683",
   "metadata": {},
   "source": [
    "# Lesson 9: File Input & Output"
   ]
  },
  {
   "cell_type": "markdown",
   "id": "999d0297-63d0-4534-ac9b-0d65521751c1",
   "metadata": {},
   "source": [
    "Files are used in Python to store and access data that needs to persist beyond the lifetime of a program. Python provides built-in functions and modules to work with files.\n",
    "\n",
    "To work with files in Python, you first need to open a file using the built-in `open()` function. The `open()` function takes two arguments: the filename (a string) and the mode in which the file is opened (read mode, write mode, or append mode).\n",
    "\n",
    "Once you have opened a file, you can perform various operations on it, such as reading its contents, writing to it, or appending to it. When you are finished working with a file, you should close it using the `close()` method to release the resources associated with it.\n",
    "\n",
    "Python provides several methods for reading from and writing to files, including `read()`, `readline()`, `readlines()`, `write()`, and `writelines()`. You can use these methods to read or write data in different formats, such as text or binary.\n",
    "\n",
    "In addition to the built-in functions and modules, Python also provides third-party libraries for working with files, such as the `csv` module for reading and writing CSV files and the `json` module for working with JSON files."
   ]
  },
  {
   "cell_type": "markdown",
   "id": "0fabe84c-7c5e-4bdf-992f-bc3b7b3412e7",
   "metadata": {},
   "source": [
    "## Opening a File\n",
    "\n",
    "The built-in `open()` function is used to open a file in a specified mode, which determines whether the file will be read, written, or both.\n",
    "To open a file for reading, you can use the following syntax:"
   ]
  },
  {
   "cell_type": "code",
   "execution_count": 1,
   "id": "9b00b6a8-8e79-4d42-a753-90005bab682b",
   "metadata": {},
   "outputs": [
    {
     "ename": "FileNotFoundError",
     "evalue": "[Errno 2] No such file or directory: 'filename.txt'",
     "output_type": "error",
     "traceback": [
      "\u001b[1;31m---------------------------------------------------------------------------\u001b[0m",
      "\u001b[1;31mFileNotFoundError\u001b[0m                         Traceback (most recent call last)",
      "\u001b[1;32m~\\AppData\\Local\\Temp\\ipykernel_24016\\487613695.py\u001b[0m in \u001b[0;36m<module>\u001b[1;34m\u001b[0m\n\u001b[1;32m----> 1\u001b[1;33m \u001b[0mfile\u001b[0m \u001b[1;33m=\u001b[0m \u001b[0mopen\u001b[0m\u001b[1;33m(\u001b[0m\u001b[1;34m'filename.txt'\u001b[0m\u001b[1;33m,\u001b[0m \u001b[1;34m'r'\u001b[0m\u001b[1;33m)\u001b[0m\u001b[1;33m\u001b[0m\u001b[1;33m\u001b[0m\u001b[0m\n\u001b[0m",
      "\u001b[1;31mFileNotFoundError\u001b[0m: [Errno 2] No such file or directory: 'filename.txt'"
     ]
    }
   ],
   "source": [
    "file = open('filename.txt', 'r')"
   ]
  },
  {
   "cell_type": "markdown",
   "id": "5ab7d99e-8132-4f56-a2a2-e9f350114c2f",
   "metadata": {},
   "source": [
    "This opens the file `'filename.txt'` in read mode (`'r'`). If the file does not exist, Python will raise an error. If the file exists, you can read its contents using various methods.\n",
    "\n",
    "To open a file for writing, you can use the following syntax:"
   ]
  },
  {
   "cell_type": "code",
   "execution_count": 2,
   "id": "3634a315-96a7-412f-9e91-d21d11df78b7",
   "metadata": {},
   "outputs": [],
   "source": [
    "file = open('filename.txt', 'w')"
   ]
  },
  {
   "cell_type": "markdown",
   "id": "02b11e5d-6932-4a1a-9952-4a3719565f0d",
   "metadata": {},
   "source": [
    "This opens the file `'filename.txt'` in write mode (`'w'`). If the file does not exist, Python will create it. If the file exists, Python will truncate its contents (i.e., delete all its contents) before writing to it.\n",
    "\n",
    "You can also open a file in append mode (`'a'`) to add new content to an existing file without deleting its contents. Here is the syntax:"
   ]
  },
  {
   "cell_type": "code",
   "execution_count": null,
   "id": "2b9987dd-9bdc-4b20-8a25-d1f627fe05f2",
   "metadata": {},
   "outputs": [],
   "source": [
    "file = open('filename.txt', 'a')"
   ]
  },
  {
   "attachments": {
    "3135bc3f-d499-43b2-b69f-bcbe2fd02c05.png": {
     "image/png": "[encoded data removed]"
    }
   },
   "cell_type": "markdown",
   "id": "4e23f9a5-2d0d-45ad-93a9-88791abd6c08",
   "metadata": {},
   "source": [
    "![image.png](attachment:3135bc3f-d499-43b2-b69f-bcbe2fd02c05.png)\n",
    "\n",
    "#### Example 1: Create a file called helloworld.txt. Once created, edit it by writing your name in it."
   ]
  },
  {
   "cell_type": "code",
   "execution_count": null,
   "id": "a592ddb0-7ff8-481d-b720-d1c6d59d39b4",
   "metadata": {},
   "outputs": [],
   "source": [
    "file = open('helloworld.txt', 'w')\n",
    "file.close()"
   ]
  },
  {
   "cell_type": "markdown",
   "id": "e3c9eb56-e29f-4566-92cc-b7f9cb4d2860",
   "metadata": {},
   "source": [
    "## Reading a File\n",
    "\n",
    "To read the contents of a file, you can use the `read()` method. This method reads the entire file and returns it as a string. Here is an example:"
   ]
  },
  {
   "cell_type": "code",
   "execution_count": 6,
   "id": "51c91dbb-935c-4939-98d9-999674cb9ad2",
   "metadata": {},
   "outputs": [
    {
     "name": "stdout",
     "output_type": "stream",
     "text": [
      "Hello, Hector\n",
      "Nice to meet you!!!\n"
     ]
    }
   ],
   "source": [
    "file = open('helloworld.txt', 'r')\n",
    "content = file.read()\n",
    "print(content)\n",
    "file.close()\n"
   ]
  },
  {
   "cell_type": "markdown",
   "id": "8cd69093-29e5-487c-83c5-5853c62473ce",
   "metadata": {},
   "source": [
    "This opens the file `'helloworld.txt'` in read mode, reads its contents using the `read()` method, and then prints the contents. Finally, it closes the file using the close() method.\n",
    "\n",
    "You can also read a file line by line using the readline() method. Here is an example:"
   ]
  },
  {
   "cell_type": "code",
   "execution_count": 7,
   "id": "07385097-0029-4936-9d1e-530022421676",
   "metadata": {},
   "outputs": [
    {
     "name": "stdout",
     "output_type": "stream",
     "text": [
      "Nice to meet you!!!\n"
     ]
    }
   ],
   "source": [
    "file = open('helloworld.txt', 'r')\n",
    "content = file.readline()\n",
    "content2 = file.readline()\n",
    "print(content2)\n",
    "file.close()\n"
   ]
  },
  {
   "cell_type": "code",
   "execution_count": 8,
   "id": "277a3c52-4984-43e2-bd23-ed7cc329f916",
   "metadata": {},
   "outputs": [
    {
     "name": "stdout",
     "output_type": "stream",
     "text": [
      "Hello, Hector\n",
      "\n",
      "Nice to meet you!!!\n"
     ]
    }
   ],
   "source": [
    "file = open('helloworld.txt', 'r')\n",
    "for line in file:\n",
    "    print(line)\n",
    "file.close()\n"
   ]
  },
  {
   "cell_type": "markdown",
   "id": "765eb705-5e3f-41ea-8e1e-c53469b6bb14",
   "metadata": {},
   "source": [
    "## Writing to a File\n",
    "\n",
    "To write to a file, you can use the `write()` method. Here is an example:\n"
   ]
  },
  {
   "cell_type": "code",
   "execution_count": 9,
   "id": "890247dd-6aa8-4321-8ecc-e43799892ea4",
   "metadata": {},
   "outputs": [],
   "source": [
    "file = open('helloworld.txt', 'w')\n",
    "file.write('Hello, World!')\n",
    "file.close()\n"
   ]
  },
  {
   "cell_type": "markdown",
   "id": "c46865be-7403-47b0-8c88-de67f666f71b",
   "metadata": {},
   "source": [
    "This opens the file `'filename.txt'` in write mode, writes the string `'Hello, World!'` to it using the `write()` method, and then closes the file using the `close()` method.\n",
    "\n",
    "You can also write multiple lines to a file using the `writelines()` method. Here is an example:"
   ]
  },
  {
   "cell_type": "code",
   "execution_count": 10,
   "id": "1af7f1fc-3069-466d-ad02-44433504eef9",
   "metadata": {},
   "outputs": [],
   "source": [
    "file = open('helloworld.txt', 'w')\n",
    "lines = ['Hello, Hector!\\n', 'How are you?\\n']\n",
    "file.writelines(lines)\n",
    "file.close()\n"
   ]
  },
  {
   "cell_type": "markdown",
   "id": "1ec580ee-329d-4cb8-97fe-4fc10305182c",
   "metadata": {},
   "source": [
    "This opens the file `'filename.txt'` in write mode, writes the list `['Hello, World!\\n', 'How are you?\\n']` to it using the `writelines()` method, and then closes the file using the `close()` method."
   ]
  },
  {
   "cell_type": "code",
   "execution_count": null,
   "id": "8f4f62ff-1771-4994-939d-35f52e92c6fe",
   "metadata": {},
   "outputs": [],
   "source": [
    "file = open('helloworld.txt', 'a')\n",
    "lines = ['I am Hector!\\n', 'Nice to meet you!\\n']\n",
    "file.writelines(lines)\n",
    "file.close()"
   ]
  },
  {
   "cell_type": "markdown",
   "id": "9696c186-c07e-490a-bcb3-aef08c362dab",
   "metadata": {},
   "source": [
    "#### Example 2. Getting inputs and writing them in a file."
   ]
  },
  {
   "cell_type": "code",
   "execution_count": 12,
   "id": "458cbd8e-e37b-4353-8686-70b393b77985",
   "metadata": {},
   "outputs": [
    {
     "name": "stdout",
     "output_type": "stream",
     "text": [
      "Enter the names of three friends.\n"
     ]
    },
    {
     "name": "stdin",
     "output_type": "stream",
     "text": [
      "Friend #1:  Tam\n",
      "Friend #2:  Terry\n",
      "Friend #3:  Taylor\n"
     ]
    },
    {
     "name": "stdout",
     "output_type": "stream",
     "text": [
      "The names were written to friends.txt.\n"
     ]
    }
   ],
   "source": [
    "# This program gets three names from the user\n",
    "# and writes them to a file.\n",
    "\n",
    "def main():\n",
    "    # Get three names.\n",
    "    print('Enter the names of three friends.')\n",
    "    name1 = input('Friend #1: ')\n",
    "    name2 = input('Friend #2: ')\n",
    "    name3 = input('Friend #3: ')\n",
    "\n",
    "    # Open a file named friends.txt.\n",
    "    myfile = open('friends.txt', 'w')\n",
    "\n",
    "    # Write the names to the file.\n",
    "    myfile.write(f'{name1} \\n')\n",
    "    myfile.write(f'{name2} \\n')\n",
    "    myfile.write(f'{name3} \\n')\n",
    "\n",
    "    # Close the file.\n",
    "    myfile.close()\n",
    "    print('The names were written to friends.txt.')\n",
    "\n",
    "# Call the main function.\n",
    "main()"
   ]
  },
  {
   "cell_type": "code",
   "execution_count": 13,
   "id": "b871bcfa-37aa-4c21-b8a6-8c5dca4ecac4",
   "metadata": {},
   "outputs": [],
   "source": [
    "#Appending to existing file friends.txt\n",
    "myfile = open('friends.txt', 'a')\n",
    "myfile.write('Matt\\n')\n",
    "myfile.write('Chris\\n')\n",
    "myfile.write('Suze\\n')\n",
    "myfile.close()"
   ]
  },
  {
   "cell_type": "markdown",
   "id": "72beeaaf-8721-4150-b9e5-f3230ec25ef0",
   "metadata": {},
   "source": [
    "### Specifying the location of a file (outside IDE environment) "
   ]
  },
  {
   "cell_type": "code",
   "execution_count": 1,
   "id": "773c9c05-cb29-4068-a708-30fef547b1fb",
   "metadata": {},
   "outputs": [],
   "source": [
    "file1 = r'C:\\Users\\hwill\\Documents\\Python Scripts\\myfile.txt' # r'File location/file_name.extension'\n",
    "file_open = open(file1,'w')\n",
    "file_open.write('I just inserted this file to remind you how much Jesus loves you')\n",
    "file_open.close()"
   ]
  },
  {
   "cell_type": "markdown",
   "id": "b5ac38c4-34de-4a6b-9ced-29ead000e7aa",
   "metadata": {},
   "source": [
    "#### Try it yourself\n",
    "\n",
    "Write a script that requests three numbers to the user and saves them in a file called `numbers.txt`"
   ]
  },
  {
   "cell_type": "code",
   "execution_count": null,
   "id": "0ac5f826-bc05-4537-9f9b-4fe2d35deb1b",
   "metadata": {},
   "outputs": [],
   "source": [
    "def main():\n",
    "    # Get three names.\n",
    "    print('Enter three numbers.')\n",
    "    num1 = input('Number #1: ')\n",
    "    num2 = input('Number #2: ')\n",
    "    num3 = input('Number #3: ')\n",
    "\n",
    "    # Open a file named friends.txt.\n",
    "    myfile = open('numbers.txt', 'w')\n",
    "\n",
    "    # Write the names to the file.\n",
    "    myfile.write(f'{num1} \\n')\n",
    "    myfile.write(f'{num2} \\n')\n",
    "    myfile.write(f'{num3} \\n')\n",
    "\n",
    "    # Close the file.\n",
    "    myfile.close()\n",
    "    print('The names were written to friends.txt.')\n",
    "\n",
    "# Call the main function.\n",
    "main()"
   ]
  },
  {
   "cell_type": "markdown",
   "id": "125a15ec-c853-4442-ac63-2a09368e83eb",
   "metadata": {},
   "source": [
    "#### Example 3. Write a script so that the numbers from numbers.txt can be added up as a total and appended to numbers.txt"
   ]
  },
  {
   "cell_type": "code",
   "execution_count": null,
   "id": "53ce4bd2-555d-4cfa-a466-092af72c39c2",
   "metadata": {},
   "outputs": [],
   "source": []
  }
 ],
 "metadata": {
  "kernelspec": {
   "display_name": "Python 3 (ipykernel)",
   "language": "python",
   "name": "python3"
  },
  "language_info": {
   "codemirror_mode": {
    "name": "ipython",
    "version": 3
   },
   "file_extension": ".py",
   "mimetype": "text/x-python",
   "name": "python",
   "nbconvert_exporter": "python",
   "pygments_lexer": "ipython3",
   "version": "3.9.13"
  }
 },
 "nbformat": 4,
 "nbformat_minor": 5
}
