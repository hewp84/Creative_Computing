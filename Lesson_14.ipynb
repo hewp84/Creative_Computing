{
 "cells": [
  {
   "cell_type": "markdown",
   "id": "0ed8357a-b2a1-4285-ba06-fd4b7f9eb94f",
   "metadata": {},
   "source": [
    "<a href=\"https://colab.research.google.com/github/hewp84/Creative_Computing/blob/main/Lesson_14.ipynb\" target=\"_parent\"><img src=\"https://colab.research.google.com/assets/colab-badge.svg\" alt=\"Open In Colab\"/></a>"
   ]
  },
  {
   "cell_type": "markdown",
   "id": "1023623b-8490-4999-bff7-0f5b37f68493",
   "metadata": {},
   "source": [
    "# Lesson 14: List Comprehension, matrices, and tuples\n",
    "\n",
    "## List Comprehension\n",
    "\n",
    "#### Definition: \n",
    "List comprehension is a concise and elegant way to create a new list based on an existing list or iterable. It allows you to define a list in a single line of code by applying an expression to each item in an iterable.\n",
    "\n",
    "Here's a basic syntax for list comprehension in Python:"
   ]
  },
  {
   "cell_type": "code",
   "execution_count": 2,
   "id": "56554bdc-877d-4859-94be-d9915deda069",
   "metadata": {},
   "outputs": [
    {
     "name": "stdout",
     "output_type": "stream",
     "text": [
      "[1, 2, 3, 4, 5]\n"
     ]
    }
   ],
   "source": [
    "list1 = [1,2,3,4,5]\n",
    "list2 = [item for item in list1]\n",
    "print(list2)"
   ]
  },
  {
   "cell_type": "markdown",
   "id": "bb384b17-b072-48f0-8967-96bf79eda32b",
   "metadata": {},
   "source": [
    "`new_list = [expression for element in original_list]`\n",
    "\n",
    "* The expression is the operation you want to perform on each element in the original list.\n",
    "* The element is a variable that represents each individual element in the original list.\n",
    "* The original list is the sequence of elements you want to apply the expression to.\n",
    "\n",
    "For example, let's say we have a list of numbers and we want to create a new list with the square of each number in the original list. We can use list comprehension to accomplish this in a single line of code:"
   ]
  },
  {
   "cell_type": "code",
   "execution_count": 5,
   "id": "8e6156cd-1616-4c8b-baac-d659db63d6bd",
   "metadata": {},
   "outputs": [
    {
     "name": "stdout",
     "output_type": "stream",
     "text": [
      "[1, 2, 3, 4, 5]\n",
      "[1, 4, 9, 16, 25]\n"
     ]
    },
    {
     "data": {
      "text/plain": [
       "3"
      ]
     },
     "execution_count": 5,
     "metadata": {},
     "output_type": "execute_result"
    }
   ],
   "source": [
    "numbers = [1, 2, 3, 4, 5]\n",
    "squares = [num**2 for num in numbers]\n",
    "print(numbers)\n",
    "print(squares)\n"
   ]
  },
  {
   "cell_type": "markdown",
   "id": "7c2758a0-ab74-43cf-b0e1-d5c04ec04f5b",
   "metadata": {},
   "source": [
    "In this example, the expression `num**2` is applied to each item in the `numbers` list using the variable `num`. The resulting squares are stored in the new `squares` list.\n",
    "\n",
    "List comprehension also allows you to add conditions to filter the items in the iterable before applying the expression. Here's an example where we only square the even numbers in the original list:\n"
   ]
  },
  {
   "cell_type": "code",
   "execution_count": 6,
   "id": "fa5b55c2-5155-4aa9-8a9c-ad7bc7834cf6",
   "metadata": {},
   "outputs": [
    {
     "name": "stdout",
     "output_type": "stream",
     "text": [
      "[4, 16]\n"
     ]
    }
   ],
   "source": [
    "numbers = [1, 2, 3, 4, 5]\n",
    "even_squares = [num**2 for num in numbers if num % 2 == 0]\n",
    "print(even_squares)"
   ]
  },
  {
   "cell_type": "markdown",
   "id": "a5d4a94c-dc7c-4822-a03e-c2f1bcf6b810",
   "metadata": {},
   "source": [
    "In this example, the condition `if num % 2 == 0` is added to filter out the odd numbers from the `numbers` list before applying the `num**2` expression.\n"
   ]
  },
  {
   "cell_type": "code",
   "execution_count": 7,
   "id": "bebabb30-dba1-4a84-959b-eaefc5353dc5",
   "metadata": {},
   "outputs": [
    {
     "name": "stdout",
     "output_type": "stream",
     "text": [
      "[2, 4, 6, 8, 12]\n"
     ]
    }
   ],
   "source": [
    "#Try it yourself: Extract from a initial list all the numbers that are smaller than 10, and multiply each extracted element by 2.\n",
    "initial_list = [1, 12, 2, 20, 3, 15, 4, 45, 6]\n",
    "new_list = [nu*2 for nu in initial_list if nu < 10]\n",
    "print(new_list) #Expected outcome: [2, 4, 6, 8, 12]"
   ]
  },
  {
   "cell_type": "markdown",
   "id": "3464bd97-6045-4564-bfe7-280ed3f4e91f",
   "metadata": {},
   "source": [
    "You can also perform operations with strings:"
   ]
  },
  {
   "cell_type": "code",
   "execution_count": 8,
   "id": "933256e2-3d0b-49f6-b243-1795b82edc27",
   "metadata": {},
   "outputs": [
    {
     "name": "stdout",
     "output_type": "stream",
     "text": [
      "[5, 5, 4, 6, 7, 5, 4, 5, 5, 6, 9]\n"
     ]
    }
   ],
   "source": [
    "cs103_list = ['Brock', 'Tiana', 'Levi', 'Collin', 'Tanisha', 'Andre', 'Adam', 'Mario', 'Rayya', 'Hector', 'Ying Ying']\n",
    "len_list = [len(name) for name in cs103_list]\n",
    "print(len_list)"
   ]
  },
  {
   "cell_type": "code",
   "execution_count": 10,
   "id": "65b5cdd4-995a-4a2b-91a1-544632bd4019",
   "metadata": {},
   "outputs": [
    {
     "name": "stdout",
     "output_type": "stream",
     "text": [
      "['Brock', 'Tiana', 'Levi', 'Andre', 'Adam', 'Mario', 'Rayya']\n"
     ]
    }
   ],
   "source": [
    "#Try it yourself:\n",
    "#Short names: Write a script that creates a list called short_names that includes all names with 5 or less characters from cs103_list\n",
    "cs103_list = ['Brock', 'Tiana', 'Levi', 'Collin', 'Tanisha', 'Andre', 'Adam', 'Mario', 'Rayya', 'Hector', 'Ying Ying']\n",
    "short_names = [len(name) for name in cs103_list if len(name)<= 5]\n",
    "print(short_names)"
   ]
  },
  {
   "cell_type": "markdown",
   "id": "3cc749d1-7328-4ea3-853a-c572e97c912b",
   "metadata": {},
   "source": [
    "## Two dimensional lists\n",
    "\n",
    "A two-dimensional list, also known as a matrix, is a list of lists in Python. It is a common data structure used in many different programming applications, including data analysis and scientific computing.\n",
    "\n",
    "Here's an example of how you can create a two-dimensional list in Python:"
   ]
  },
  {
   "cell_type": "code",
   "execution_count": 11,
   "id": "68494203-fdad-4543-93f0-e35221610bff",
   "metadata": {},
   "outputs": [
    {
     "name": "stdout",
     "output_type": "stream",
     "text": [
      "[[1, 2, 3], [4, 5, 6], [7, 8, 9]]\n"
     ]
    }
   ],
   "source": [
    "matrix = [[1, 2, 3],[4, 5, 6],[7, 8, 9]]\n",
    "print(matrix)"
   ]
  },
  {
   "cell_type": "markdown",
   "id": "44ee0b80-98d4-4bce-8484-36c2c073dca1",
   "metadata": {},
   "source": [
    "In this example, the variable `matrix` is a two-dimensional list that contains three sub-lists, each of which contains three integers.\n",
    "\n",
    "You can access elements of a two-dimensional list using the indices of the row and column. For example, to access the element in the first row and second column of the matrix above, you would use the following code:\n"
   ]
  },
  {
   "cell_type": "code",
   "execution_count": 13,
   "id": "037531f1-82b9-41f5-a957-8bb869100a33",
   "metadata": {},
   "outputs": [
    {
     "name": "stdout",
     "output_type": "stream",
     "text": [
      "9\n"
     ]
    }
   ],
   "source": [
    "element = matrix[2][2]\n",
    "print(element) # output: 2\n"
   ]
  },
  {
   "cell_type": "markdown",
   "id": "2084183d-f0e4-450e-8b6b-1eb00c4df26c",
   "metadata": {},
   "source": [
    "The figure below illustrates a two dimensional list for 3 rows and 3 columns (3x3).\n",
    "\n",
    "![IMAGE](https://raw.githubusercontent.com/hewp84/Creative_Computing/main/img/matrix3_3.png)"
   ]
  },
  {
   "cell_type": "code",
   "execution_count": 14,
   "id": "b76d6e7b-a972-4bcc-bc9b-70e26874be36",
   "metadata": {},
   "outputs": [
    {
     "name": "stdout",
     "output_type": "stream",
     "text": [
      "[[1, 2], [3, 4], [5, 6], [7, 8]]\n"
     ]
    }
   ],
   "source": [
    "#Try it yourself. \n",
    "#Create a matrix 3x2, and 2x3. Use a random number for each element.\n",
    "matrix42 = [[1,2],[3,4],[5,6],[7,8]]\n",
    "print(matrix42)"
   ]
  },
  {
   "cell_type": "code",
   "execution_count": 18,
   "id": "6960557d-3ea5-469c-9a28-b964add6f060",
   "metadata": {},
   "outputs": [
    {
     "name": "stdout",
     "output_type": "stream",
     "text": [
      "Printing as a matrix\n",
      "1 2 \n",
      "3 4 \n",
      "5 6 \n",
      "7 8 \n",
      "\n",
      "Printing as a list\n",
      "1\n",
      "2\n",
      "3\n",
      "4\n",
      "5\n",
      "6\n",
      "7\n",
      "8\n"
     ]
    }
   ],
   "source": [
    "#Different ways of printing\n",
    "#As a matrix\n",
    "def print_mat(mat):\n",
    "    print('Printing as a matrix')\n",
    "    for row in mat:\n",
    "        for element in row:\n",
    "            print(element, end=\" \")\n",
    "        print()\n",
    "print_mat(matrix42)\n",
    "#As a list\n",
    "def print_mat_list(ma):\n",
    "    print('\\nPrinting as a list')\n",
    "    for row in ma:\n",
    "        for element in row:\n",
    "            print(element)\n",
    "print_mat_list(matrix42)"
   ]
  },
  {
   "cell_type": "markdown",
   "id": "9c122ad9-949b-405c-87ea-709f991530b0",
   "metadata": {},
   "source": [
    "## Tuples\n",
    "\n",
    "In Python, a tuple is an ordered, immutable collection of elements. This means that once a tuple is created, you cannot modify its contents. Tuples are very similar to lists, but there are a few key differences that make them useful in different situations.\n",
    "\n",
    "Here's an example of how you can create a tuple in Python:"
   ]
  },
  {
   "cell_type": "code",
   "execution_count": 2,
   "id": "4dd345f9-88c2-4980-ac5e-9a8dcc1e64a4",
   "metadata": {},
   "outputs": [
    {
     "name": "stdout",
     "output_type": "stream",
     "text": [
      "(1, 2, 3)\n"
     ]
    }
   ],
   "source": [
    "my_tuple = (1, 2, 3)\n",
    "print(my_tuple)"
   ]
  },
  {
   "cell_type": "markdown",
   "id": "0fec80cf-099e-4dc3-8794-cb0398bae24c",
   "metadata": {},
   "source": [
    "In this example, the variable `my_tuple` is a tuple that contains three integers. Note that tuples are enclosed in parentheses, whereas lists are enclosed in square brackets.\n",
    "\n",
    "You can access elements of a tuple using the same indexing syntax as with lists. For example, to access the first element of the tuple above, you would use the following code:"
   ]
  },
  {
   "cell_type": "code",
   "execution_count": 7,
   "id": "ab9d5a44-83a7-48b2-bb8c-8072d0bfa541",
   "metadata": {},
   "outputs": [
    {
     "name": "stdout",
     "output_type": "stream",
     "text": [
      "3\n"
     ]
    }
   ],
   "source": [
    "element = my_tuple[2]\n",
    "print(element) # output: 1"
   ]
  },
  {
   "cell_type": "markdown",
   "id": "271b548c-a300-4061-93b4-8833dbacca51",
   "metadata": {},
   "source": [
    "One of the key benefits of using tuples instead of lists is that tuples are immutable. This means that you cannot modify the contents of a tuple after it has been created. \n",
    "\n",
    "For example, the following code will raise a TypeError:"
   ]
  },
  {
   "cell_type": "code",
   "execution_count": 9,
   "id": "6cd22616-7289-4b3c-b58b-9ee2ae10e602",
   "metadata": {},
   "outputs": [
    {
     "ename": "AttributeError",
     "evalue": "'tuple' object has no attribute 'append'",
     "output_type": "error",
     "traceback": [
      "\u001b[1;31m---------------------------------------------------------------------------\u001b[0m",
      "\u001b[1;31mAttributeError\u001b[0m                            Traceback (most recent call last)",
      "Cell \u001b[1;32mIn[9], line 3\u001b[0m\n\u001b[0;32m      1\u001b[0m \u001b[38;5;66;03m#What does it means to be immutable? Let's try to change one of its elements\u001b[39;00m\n\u001b[0;32m      2\u001b[0m \u001b[38;5;66;03m#my_tuple[2] = 4\u001b[39;00m\n\u001b[1;32m----> 3\u001b[0m \u001b[43mmy_tuple\u001b[49m\u001b[38;5;241;43m.\u001b[39;49m\u001b[43mappend\u001b[49m(\u001b[38;5;241m56\u001b[39m)\n",
      "\u001b[1;31mAttributeError\u001b[0m: 'tuple' object has no attribute 'append'"
     ]
    }
   ],
   "source": [
    "#What does it means to be immutable? Let's try to change one of its elements\n",
    "my_tuple[2] = 4\n",
    "my_tuple.append(56)\n"
   ]
  },
  {
   "cell_type": "markdown",
   "id": "1f764f9d-9633-477c-a744-732869e378b5",
   "metadata": {},
   "source": [
    "If you need to modify the contents of a collection, you should use a list instead of a tuple. However, if you have a collection that you don't want to be modified, or if you want to ensure that a collection is not accidentally modified, you should use a tuple instead.\n",
    "\n",
    "You can also create a tuple with a single element by including a trailing comma after the element. For example:"
   ]
  },
  {
   "cell_type": "code",
   "execution_count": null,
   "id": "cf63d58d-9d97-4c20-94ac-0c97bf0cffd2",
   "metadata": {},
   "outputs": [],
   "source": [
    "my_singleton_tuple = (42,)\n"
   ]
  },
  {
   "cell_type": "markdown",
   "id": "025a2bd4-a137-4ba1-8e0b-0868b3fb86d6",
   "metadata": {},
   "source": [
    "Without the trailing comma, Python would interpret the parentheses as an expression and not as a tuple.\n",
    "\n",
    "#### IMPORTANT\n",
    "Tuples support all the same operations as lists, except those that change the contents of the list. Tuples support the following:\n",
    "\n",
    "* Subscript indexing (for retrieving element values only)\n",
    "* Methods such as `index`\n",
    "* Built-in functions such as `len`, `min`, and `max`\n",
    "* Slicing expressions\n",
    "* The `in` operator\n",
    "* The `+` and `*` operators\n",
    "\n",
    "Tuples do not support methods such as `append`, `remove`, `insert`, `reverse`, and `sort`."
   ]
  },
  {
   "cell_type": "markdown",
   "id": "4c01bdb5-c51b-4ff6-8bb9-b63b87c5213a",
   "metadata": {},
   "source": [
    "### Converting between lists and tuples\n",
    "\n",
    "You can use the built-in `list()` function to convert a tuple to a list, and the built-in `tuple()` function to convert a list to a tuple. For instance:\n"
   ]
  },
  {
   "cell_type": "code",
   "execution_count": 10,
   "id": "b9f8019b-3d81-4234-90f2-1cb1f8966504",
   "metadata": {},
   "outputs": [
    {
     "name": "stdout",
     "output_type": "stream",
     "text": [
      "[1, 2, 3]\n",
      "('windows', 'macos', 'linux')\n"
     ]
    }
   ],
   "source": [
    "#A tuple converted to a list\n",
    "tuple1 = (1, 2, 3)\n",
    "list1 = list(tuple1)\n",
    "print(list1)\n",
    "\n",
    "#A list converted to a tuple\n",
    "os_list = ['windows', 'macos', 'linux']\n",
    "os_tuple = tuple(os_list)\n",
    "print(os_tuple)"
   ]
  },
  {
   "cell_type": "code",
   "execution_count": null,
   "id": "0d83a48b-1ae0-4dfa-b0ae-c6cfe59f139f",
   "metadata": {},
   "outputs": [],
   "source": [
    "#Try it yourself\n",
    "#Declare (create) a list and convert it to a tuple. Afterwards, test different methods and built-in \n",
    "#functions for lists on the tuple you declared.\n"
   ]
  }
 ],
 "metadata": {
  "kernelspec": {
   "display_name": "Python 3 (ipykernel)",
   "language": "python",
   "name": "python3"
  },
  "language_info": {
   "codemirror_mode": {
    "name": "ipython",
    "version": 3
   },
   "file_extension": ".py",
   "mimetype": "text/x-python",
   "name": "python",
   "nbconvert_exporter": "python",
   "pygments_lexer": "ipython3",
   "version": "3.9.13"
  }
 },
 "nbformat": 4,
 "nbformat_minor": 5
}
