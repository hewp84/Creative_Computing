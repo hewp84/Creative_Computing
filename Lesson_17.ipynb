{
 "cells": [
  {
   "cell_type": "markdown",
   "id": "2cca8a13-cb57-4ffa-a19d-7787f8b07682",
   "metadata": {},
   "source": [
    "<a href=\"https://colab.research.google.com/github/hewp84/Creative_Computing/blob/main/Lesson_17.ipynb\" target=\"_parent\"><img src=\"https://colab.research.google.com/assets/colab-badge.svg\" alt=\"Open In Colab\"/></a>"
   ]
  },
  {
   "cell_type": "markdown",
   "id": "7529f242-a677-4749-bfb0-f42d4c101ae9",
   "metadata": {},
   "source": [
    "# Lesson 17: Dictionaries\n",
    "\n",
    "In Python, a dictionary is a collection of key-value pairs enclosed in curly braces {}. The keys are unique identifiers that map to their respective values. Here's an example of a dictionary:"
   ]
  },
  {
   "cell_type": "code",
   "execution_count": 1,
   "id": "378a2a5c-5908-498a-815b-5a8e3e7b8409",
   "metadata": {},
   "outputs": [],
   "source": [
    "my_dict = {'apple': 2, 'banana': 3, 'orange': 4}"
   ]
  },
  {
   "cell_type": "markdown",
   "id": "b8629b02-9d60-4519-98e0-0452252636d3",
   "metadata": {},
   "source": [
    "In this example, `'apple'`, `'banana'`, and `'orange'` are keys, and `2`, `3`, and `4` are their respective values.\n",
    "\n",
    "## Basic operations with dictionaries\n",
    "Now, let's go over some of the basic operations you can perform on a Python dictionary.\n",
    "\n",
    "#### Creating a Dictionary\n",
    "To create a dictionary we use curly brackets, {} or the dict() built-in function."
   ]
  },
  {
   "cell_type": "code",
   "execution_count": null,
   "id": "f273561e-902f-4e82-aaa2-0b5426295105",
   "metadata": {},
   "outputs": [],
   "source": [
    "# syntax\n",
    "empty_dict = {}\n",
    "# Dictionary with data values\n",
    "dct = {'key1':'value1', 'key2':'value2', 'key3':'value3', 'key4':'value4'}"
   ]
  },
  {
   "cell_type": "markdown",
   "id": "3101018f-c464-4a4b-8ff9-69b0b393fb8d",
   "metadata": {},
   "source": [
    "\n",
    "\n",
    "#### Accessing values: \n",
    "You can access a value in a dictionary by using its key. For example:"
   ]
  },
  {
   "cell_type": "code",
   "execution_count": 6,
   "id": "a7efe8d8-6208-4042-b8a8-5d7803fde111",
   "metadata": {},
   "outputs": [
    {
     "name": "stdout",
     "output_type": "stream",
     "text": [
      "3\n"
     ]
    }
   ],
   "source": [
    "#x = my_dict[0] #Does not work with normal integer indexing\n",
    "y = my_dict['banana']\n",
    "print(y)"
   ]
  },
  {
   "cell_type": "markdown",
   "id": "8c770272-cada-49e0-830f-53b973e39b7b",
   "metadata": {},
   "source": [
    "#### Modifying values: \n",
    "You can add a new key-value pair to a dictionary or modify an existing one by simply assigning a value to the key. For example:"
   ]
  },
  {
   "cell_type": "code",
   "execution_count": 12,
   "id": "90e9be8c-6c0d-4569-b9a7-2658f35bcf43",
   "metadata": {},
   "outputs": [
    {
     "name": "stdout",
     "output_type": "stream",
     "text": [
      "{'apple': 3, 'banana': 3, 'orange': 4, 'grape': 5}\n"
     ]
    }
   ],
   "source": [
    "my_dict['grape'] = 5 # adds a new key-value pair\n",
    "my_dict['apple'] = 3 # modifies an existing value\n",
    "print(my_dict)"
   ]
  },
  {
   "cell_type": "markdown",
   "id": "1c94e2ae-f6bd-4a8b-b52a-8672aae4c1a2",
   "metadata": {},
   "source": [
    "#### Remove key-value pairs: \n",
    "You can remove a key-value pair from a dictionary using the `del` operator. For example:"
   ]
  },
  {
   "cell_type": "code",
   "execution_count": 13,
   "id": "8eb18720-7e6c-4ab9-9f36-1a043a2cc848",
   "metadata": {},
   "outputs": [
    {
     "name": "stdout",
     "output_type": "stream",
     "text": [
      "{'apple': 3, 'banana': 3, 'orange': 4}\n"
     ]
    }
   ],
   "source": [
    "del my_dict['grape']\n",
    "print(my_dict)"
   ]
  },
  {
   "cell_type": "markdown",
   "id": "aa927e8c-3f7b-45db-9974-51ac501ddd8e",
   "metadata": {},
   "source": [
    "This will remove the key-value pair with the key `'banana'`.\n",
    "\n",
    "#### Checking if a key exists: \n",
    "You can check if a key exists in a dictionary using the in keyword. For example:"
   ]
  },
  {
   "cell_type": "code",
   "execution_count": 16,
   "id": "a0fa3955-f611-4666-8864-b52e20ea1bb2",
   "metadata": {},
   "outputs": [
    {
     "data": {
      "text/plain": [
       "False"
      ]
     },
     "execution_count": 16,
     "metadata": {},
     "output_type": "execute_result"
    }
   ],
   "source": [
    "#'apple' in my_dict # returns True\n",
    "'kiwi' in my_dict # returns False\n"
   ]
  },
  {
   "cell_type": "markdown",
   "id": "c205cac7-1c59-47a2-831c-5528e9aca69a",
   "metadata": {},
   "source": [
    "#### Retrieving all keys or values: \n",
    "You can get a list of all keys in a dictionary using the `keys()` method, and a list of all values using the `values()` method. For example:"
   ]
  },
  {
   "cell_type": "code",
   "execution_count": 20,
   "id": "18e58ae4-5cff-4148-bc18-4c3c7d449cc7",
   "metadata": {},
   "outputs": [
    {
     "name": "stdout",
     "output_type": "stream",
     "text": [
      "dict_keys(['apple', 'banana', 'orange'])\n",
      "dict_values([3, 3, 4])\n"
     ]
    }
   ],
   "source": [
    "x =my_dict.keys() # returns ['apple', 'orange', 'grape']\n",
    "y = my_dict.values() # returns [3, 4, 5]\n",
    "print(x)\n",
    "print(y)"
   ]
  },
  {
   "cell_type": "markdown",
   "id": "5da78cfc-39d3-4be1-a2a3-2c43ecdf66df",
   "metadata": {},
   "source": [
    "#### Looping through a dictionary: \n",
    "You can loop through a dictionary using a `for` loop. \n",
    "By default, the loop will iterate over the keys, but you can also loop over the values or key-value pairs using the `values()` or `items()` method, respectively. For example:"
   ]
  },
  {
   "cell_type": "code",
   "execution_count": 21,
   "id": "01025bfa-e9f1-4678-ad8a-e561423da7fb",
   "metadata": {},
   "outputs": [
    {
     "name": "stdout",
     "output_type": "stream",
     "text": [
      "apple 3\n",
      "banana 3\n",
      "orange 4\n",
      "3\n",
      "3\n",
      "4\n",
      "apple 3\n",
      "banana 3\n",
      "orange 4\n"
     ]
    }
   ],
   "source": [
    "#Three different ways to unpack keys and values from a dictionary\n",
    "for key in my_dict:\n",
    "    print(key, my_dict[key])\n",
    "    \n",
    "for value in my_dict.values():\n",
    "    print(value)\n",
    "    \n",
    "for key, value in my_dict.items():\n",
    "    print(key, value)\n"
   ]
  },
  {
   "cell_type": "markdown",
   "id": "536f401f-4868-47ad-9ceb-c3b8342c063d",
   "metadata": {},
   "source": [
    "#### Mixing data types:\n",
    "\n",
    "The keys are immutable objects, but their associated values can be any type of object. For example:"
   ]
  },
  {
   "cell_type": "code",
   "execution_count": 22,
   "id": "94b2d278-c917-40ad-b651-6b4f6b46aaad",
   "metadata": {},
   "outputs": [
    {
     "data": {
      "text/plain": [
       "[67, 73, 81]"
      ]
     },
     "execution_count": 22,
     "metadata": {},
     "output_type": "execute_result"
    }
   ],
   "source": [
    "test_scores = {'Tiana':[80, 90, 89], 'Levi':[85, 91, 78], 'Hector':[67, 73, 81]}\n",
    "test_scores['Hector']"
   ]
  },
  {
   "cell_type": "code",
   "execution_count": 23,
   "id": "46b5f222-ba45-408b-940c-8bcd35b09e17",
   "metadata": {},
   "outputs": [],
   "source": [
    "#Try it yourself: Add two additional student records to test_scores with their test scores. \n",
    "test_scores['Brock'] = [90, 90, 95]"
   ]
  },
  {
   "cell_type": "code",
   "execution_count": 24,
   "id": "dec04691-099d-464d-b111-021cdbe9837e",
   "metadata": {},
   "outputs": [
    {
     "name": "stdout",
     "output_type": "stream",
     "text": [
      "{'Tiana': [80, 90, 89], 'Levi': [85, 91, 78], 'Hector': [67, 73, 81], 'Brock': [90, 90, 95]}\n"
     ]
    }
   ],
   "source": [
    "print(test_scores)"
   ]
  },
  {
   "cell_type": "code",
   "execution_count": 26,
   "id": "936c158b-bc59-42d7-8051-717fc9628b45",
   "metadata": {},
   "outputs": [
    {
     "name": "stdout",
     "output_type": "stream",
     "text": [
      "{'first_name': 'Hector', 'last_name': 'Will', 'age': 25, 'country': 'Honduras', 'is_marred': True, 'skills': ['Physics', 'Math', 'Python', 'Football', 'Raspberry Pi'], 'address': {'street': 'Awesome Street', 'zipcode': '31416'}}\n"
     ]
    }
   ],
   "source": [
    "person = {\n",
    "    'first_name':'Hector',\n",
    "    'last_name':'Will',\n",
    "    'age':25,\n",
    "    'country':'Honduras',\n",
    "    'is_marred':True,\n",
    "    'skills':['Physics', 'Math', 'Python', 'Football', 'Raspberry Pi'],\n",
    "    'address':{\n",
    "        'street':'Awesome Street',\n",
    "        'zipcode':'31416'\n",
    "    }\n",
    "    }\n",
    "print(person)"
   ]
  },
  {
   "cell_type": "markdown",
   "id": "e96479ff-366c-4149-b1f5-f4998d3d27e7",
   "metadata": {},
   "source": [
    "## Dictionary Methods\n",
    "\n",
    "Python has several methods for dictionaries which are very similar to the built-in ones used for lists and strings. To check all dictionary methods, please click [HERE](https://docs.python.org/3/library/stdtypes.html#mapping-types-dict). Here are some of the mostly used ones:\n",
    "\n",
    "![image](https://raw.githubusercontent.com/hewp84/Creative_Computing/main/img/dict_methods.png)"
   ]
  },
  {
   "cell_type": "code",
   "execution_count": 28,
   "id": "02736ef6-aae7-42d4-bcf6-a5462207aaf5",
   "metadata": {},
   "outputs": [
    {
     "name": "stdout",
     "output_type": "stream",
     "text": [
      "{'apple': 2, 'banana': 3, 'orange': 4}\n",
      "{}\n"
     ]
    }
   ],
   "source": [
    "#Recallling\n",
    "my_dict = {'apple': 2, 'banana': 3, 'orange': 4}\n",
    "print(my_dict)\n",
    "\n",
    "#Using clear() method\n",
    "my_dict.clear()\n",
    "print(my_dict)"
   ]
  },
  {
   "cell_type": "code",
   "execution_count": 32,
   "id": "5903862c-fb04-4ac3-bfbb-2ea15b643c93",
   "metadata": {},
   "outputs": [
    {
     "name": "stdout",
     "output_type": "stream",
     "text": [
      "{'apple': 2, 'orange': 4}\n"
     ]
    }
   ],
   "source": [
    "# The pop method\n",
    "# dictionary.pop(key, default)\n",
    "\n",
    "my_dict = {'apple': 2, 'banana': 3, 'orange': 4}\n",
    "\n",
    "my_dict.pop('banana', 'Entry not found')\n",
    "#outcome:\n",
    "print(my_dict)"
   ]
  },
  {
   "cell_type": "code",
   "execution_count": 33,
   "id": "387e8a5f-df45-4ae3-91e7-c068b3c371de",
   "metadata": {},
   "outputs": [
    {
     "data": {
      "text/plain": [
       "('orange', 4)"
      ]
     },
     "execution_count": 33,
     "metadata": {},
     "output_type": "execute_result"
    }
   ],
   "source": [
    "# The popitem method\n",
    "# dictionary.popitem()\n",
    "\n",
    "my_dict = {'apple': 2, 'banana': 3, 'orange': 4}\n",
    "\n",
    "my_dict.popitem()\n",
    "#Outcome:"
   ]
  },
  {
   "cell_type": "code",
   "execution_count": 34,
   "id": "296a440f-b3c9-4228-b624-cb2b4cb7b39e",
   "metadata": {},
   "outputs": [
    {
     "name": "stdout",
     "output_type": "stream",
     "text": [
      "{'apple': 2, 'banana': 3}\n"
     ]
    }
   ],
   "source": [
    "print(my_dict)"
   ]
  },
  {
   "cell_type": "markdown",
   "id": "ad58b309-c300-4742-9f17-5d9f68425422",
   "metadata": {},
   "source": [
    "## Dictionary Comprehension\n",
    "Dictionary comprehension syntax works similarly to list comprehension. The differences relate to using curved brackets and you can include keys and values."
   ]
  },
  {
   "cell_type": "code",
   "execution_count": 35,
   "id": "6fc95f0f-f21e-40a2-bf98-c97b864e598d",
   "metadata": {},
   "outputs": [],
   "source": [
    "#Syntax\n",
    "#new_dict = {key operation: value operation for key, value in old_dict.items() [conditional is optional]}\n",
    "\n",
    "numbers = [1, 2, 3, 4, 5, 6]\n",
    "\n",
    "squares = {n:n**2 for n in numbers}"
   ]
  },
  {
   "cell_type": "code",
   "execution_count": 36,
   "id": "3325cb13-415a-4042-afb1-83a5a69605c0",
   "metadata": {},
   "outputs": [
    {
     "name": "stdout",
     "output_type": "stream",
     "text": [
      "{1: 1, 2: 4, 3: 9, 4: 16, 5: 25, 6: 36}\n"
     ]
    }
   ],
   "source": [
    "print(squares)"
   ]
  },
  {
   "cell_type": "code",
   "execution_count": 39,
   "id": "dcc9b1a2-e9dd-4a2b-99f8-f2c5353205e3",
   "metadata": {},
   "outputs": [
    {
     "name": "stdout",
     "output_type": "stream",
     "text": [
      "{'orange': 64}\n"
     ]
    }
   ],
   "source": [
    "my_dict = {'apple': 2, 'banana': 3, 'orange': 4}\n",
    "\n",
    "new_dict = {k:v**3 for  k, v in my_dict.items() if v == 4}\n",
    "print(new_dict)"
   ]
  },
  {
   "cell_type": "code",
   "execution_count": 40,
   "id": "a3d933c7-1c2f-4780-a971-efdcfe1031b5",
   "metadata": {},
   "outputs": [
    {
     "name": "stdin",
     "output_type": "stream",
     "text": [
      "How many cards should I deal?  5\n"
     ]
    },
    {
     "name": "stdout",
     "output_type": "stream",
     "text": [
      "Queen of Hearts\n",
      "Ace of Spades\n",
      "King of Clubs\n",
      "3 of Diamonds\n",
      "Queen of Spades\n",
      "Value of this hand: 41\n"
     ]
    }
   ],
   "source": [
    "# This program uses a dictionary as a deck of cards.\n",
    "import random\n",
    "\n",
    "hand_value = 0\n",
    "deck = {'Ace of Spades':1, '2 of Spades':2, '3 of Spades':3,\n",
    "            '4 of Spades':4, '5 of Spades':5, '6 of Spades':6,\n",
    "            '7 of Spades':7, '8 of Spades':8, '9 of Spades':9,\n",
    "            '10 of Spades':10, 'Jack of Spades':11,\n",
    "            'Queen of Spades':12, 'King of Spades': 13,\n",
    "            \n",
    "            'Ace of Hearts':1, '2 of Hearts':2, '3 of Hearts':3,\n",
    "            '4 of Hearts':4, '5 of Hearts':5, '6 of Hearts':6,\n",
    "            '7 of Hearts':7, '8 of Hearts':8, '9 of Hearts':9,\n",
    "            '10 of Hearts':10, 'Jack of Hearts':11,\n",
    "            'Queen of Hearts':12, 'King of Hearts': 13,\n",
    "            \n",
    "            'Ace of Clubs':1, '2 of Clubs':2, '3 of Clubs':3,\n",
    "            '4 of Clubs':4, '5 of Clubs':5, '6 of Clubs':6,\n",
    "            '7 of Clubs':7, '8 of Clubs':8, '9 of Clubs':9,\n",
    "            '10 of Clubs':10, 'Jack of Clubs':11,\n",
    "            'Queen of Clubs':12, 'King of Clubs': 13,\n",
    "            \n",
    "            'Ace of Diamonds':1, '2 of Diamonds':2, '3 of Diamonds':3,\n",
    "            '4 of Diamonds':4, '5 of Diamonds':5, '6 of Diamonds':6,\n",
    "            '7 of Diamonds':7, '8 of Diamonds':8, '9 of Diamonds':9,\n",
    "            '10 of Diamonds':10, 'Jack of Diamonds':11,\n",
    "            'Queen of Diamonds':12, 'King of Diamonds': 13}\n",
    "\n",
    "# Get the number of cards to deal.\n",
    "num_cards = int(input('How many cards should I deal? '))\n",
    "\n",
    "# Make sure the number of cards to deal is not greater than the number of cards in the deck.\n",
    "if num_cards > len(deck):\n",
    "    num_cards = len(deck)\n",
    "\n",
    "# Deal the cards and accumulate their values.\n",
    "for count in range(num_cards):\n",
    "    card = random.choice(list(deck))\n",
    "    print(card)\n",
    "    hand_value += deck[card]\n",
    "\n",
    "# Display the value of the hand.\n",
    "print(f'Value of this hand: {hand_value}')\n"
   ]
  },
  {
   "cell_type": "code",
   "execution_count": null,
   "id": "643dfe6e-64f0-4e49-9f9a-cf4e9107c185",
   "metadata": {},
   "outputs": [],
   "source": [
    "#Try it yourself: Create a variation of the game inspired in 21 BlackJack\n",
    "#New game: The program starts by asking the user to input a guess based on 3 cards (e.g number= 19). The script randomizes and selects 3 cards and calculate the hand. \n",
    "#If the your guess is less than or equal to the calculated hand, you win, otherwise you lose. \n"
   ]
  }
 ],
 "metadata": {
  "kernelspec": {
   "display_name": "Python 3 (ipykernel)",
   "language": "python",
   "name": "python3"
  },
  "language_info": {
   "codemirror_mode": {
    "name": "ipython",
    "version": 3
   },
   "file_extension": ".py",
   "mimetype": "text/x-python",
   "name": "python",
   "nbconvert_exporter": "python",
   "pygments_lexer": "ipython3",
   "version": "3.9.13"
  }
 },
 "nbformat": 4,
 "nbformat_minor": 5
}
