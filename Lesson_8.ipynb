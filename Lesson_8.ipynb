{
 "cells": [
  {
   "cell_type": "markdown",
   "id": "44f0cccf-d072-4950-9dfb-93191b330208",
   "metadata": {},
   "source": [
    "<a href=\"https://colab.research.google.com/github/hewp84/Creative_Computing/blob/main/Lesson_8.ipynb\" target=\"_parent\"><img src=\"https://colab.research.google.com/assets/colab-badge.svg\" alt=\"Open In Colab\"/></a>"
   ]
  },
  {
   "cell_type": "markdown",
   "id": "972bae73-6e72-4acc-912e-dff27a7ec683",
   "metadata": {},
   "source": [
    "# Lesson 8: Functions-- Value Returning Functions"
   ]
  },
  {
   "cell_type": "markdown",
   "id": "54ccaabb-b6ac-4aea-b21b-6fa31dad4cec",
   "metadata": {},
   "source": [
    "#### What is a value-returning function?\n",
    "\n",
    "A value-returning function is a function that returns a value back to the part of the program that called it. Python, as well as most other programming languages, provides a library of prewritten functions that perform commonly needed tasks. These libraries typically contain a function that generates random numbers.\n",
    "\n",
    "When a value-returning function finishes, it returns a value back to the part of the program that called it. The value that is returned from a function can be used like any other value: it can be assigned to a variable, displayed on the screen, used in a mathematical expression (if it is a number), and so on.\n",
    "\n",
    "## Standard Library Functions, `import` statement\n",
    "\n",
    "### Built in functions\n",
    "\n",
    "Some examples:\n",
    "\n",
    "* `print`\n",
    "* `input`\n",
    "* `range`\n"
   ]
  },
  {
   "cell_type": "code",
   "execution_count": null,
   "id": "802c171f-1187-4cdb-bc46-3ad8bf33469c",
   "metadata": {},
   "outputs": [],
   "source": [
    "#Using Tab and shift+Tab\n",
    "range("
   ]
  },
  {
   "cell_type": "markdown",
   "id": "56f6d1f6-102e-4154-ade1-78978185a7b6",
   "metadata": {},
   "source": [
    "### Standard Library\n",
    "\n",
    "Using the `import` statement"
   ]
  },
  {
   "cell_type": "code",
   "execution_count": 46,
   "id": "1f8e0ea3-f9a1-407d-aaae-ab4e06717cd1",
   "metadata": {},
   "outputs": [],
   "source": [
    "#You only have to declare them once. Usually at the heading of your code\n",
    "import math\n",
    "#After importing them, you can make use of their functions. You can hit Tab to check them out"
   ]
  },
  {
   "cell_type": "code",
   "execution_count": 47,
   "id": "9e06799f-562c-41f5-9cb4-bf3af9d84728",
   "metadata": {},
   "outputs": [
    {
     "name": "stdout",
     "output_type": "stream",
     "text": [
      "5.0\n"
     ]
    }
   ],
   "source": [
    "#Check some functions\n",
    "x= math.hypot(3,4)\n",
    "print(x)"
   ]
  },
  {
   "cell_type": "markdown",
   "id": "768d348b-c89f-45eb-bd69-0b57449ac3f7",
   "metadata": {},
   "source": [
    "### Random library\n",
    "`import random`"
   ]
  },
  {
   "cell_type": "code",
   "execution_count": 56,
   "id": "7cc781dc-520b-49d7-8865-184e7f92d880",
   "metadata": {},
   "outputs": [
    {
     "name": "stdout",
     "output_type": "stream",
     "text": [
      "38\n",
      "10\n"
     ]
    }
   ],
   "source": [
    "import random\n",
    "number = random.randint(10,50)\n",
    "print(number)\n",
    "num3 = random.randrange(0,100,5)\n",
    "print(num3)"
   ]
  },
  {
   "cell_type": "markdown",
   "id": "96de2894-b7d5-4618-a820-57e3f5dcfca4",
   "metadata": {},
   "source": [
    "#### Example 1. Write a script using the random library."
   ]
  },
  {
   "cell_type": "code",
   "execution_count": 63,
   "id": "004bc88d-2abe-4f0a-8acc-459d047c2db2",
   "metadata": {},
   "outputs": [
    {
     "name": "stdout",
     "output_type": "stream",
     "text": [
      "19\n"
     ]
    }
   ],
   "source": [
    "#Example 1\n",
    "odd = random.randrange(1,99,2)\n",
    "print(odd)"
   ]
  },
  {
   "cell_type": "markdown",
   "id": "f5c231c0-e93d-45d5-ac62-2813c227ee88",
   "metadata": {},
   "source": [
    "## Personalized value-returning functions\n"
   ]
  },
  {
   "cell_type": "code",
   "execution_count": null,
   "id": "c567d1a6-bb0a-428a-a4ee-4148ab8bb424",
   "metadata": {},
   "outputs": [],
   "source": [
    "def function():\n",
    "    statement\n",
    "    statement\n",
    "    etc.\n",
    "    return value"
   ]
  },
  {
   "cell_type": "code",
   "execution_count": 65,
   "id": "2d4a1043-0e90-4ff3-a370-c14b2d179d2e",
   "metadata": {},
   "outputs": [
    {
     "name": "stdout",
     "output_type": "stream",
     "text": [
      "125\n"
     ]
    }
   ],
   "source": [
    "#Create an arithmetic function using value returns\n",
    "def cube(value1):\n",
    "    result = value1 ** 3\n",
    "    return result\n",
    "a = 5\n",
    "z = cube(a)\n",
    "print(z)"
   ]
  },
  {
   "cell_type": "code",
   "execution_count": 69,
   "id": "a66bc300-17e4-4b92-a17b-5074dab4a36f",
   "metadata": {},
   "outputs": [
    {
     "name": "stdout",
     "output_type": "stream",
     "text": [
      "The total Indiana tax is $13.00\n"
     ]
    }
   ],
   "source": [
    "#Create a tax function that returns the tax collected using as arguments: price and tax percentage\n",
    "def tax(price, tax_per):\n",
    "    return price * tax_per/100\n",
    "tax_indiana = 6.5\n",
    "cost = 200\n",
    "print(f'The total Indiana tax is ${tax(cost, tax_indiana):.2f}')\n"
   ]
  },
  {
   "cell_type": "code",
   "execution_count": null,
   "id": "ade33866-c0ce-4884-9ece-e5d026cb0879",
   "metadata": {},
   "outputs": [],
   "source": [
    "#Create a function that calculates your age today\n",
    "from datetime import date\n",
    "\n",
    "\n",
    "\n"
   ]
  },
  {
   "cell_type": "markdown",
   "id": "85b87181-6c99-4d9d-9cec-1bddea4232ce",
   "metadata": {},
   "source": [
    "### Different return values"
   ]
  },
  {
   "cell_type": "code",
   "execution_count": null,
   "id": "46873bd0-14ca-4328-97e8-1e6b7da6e5ce",
   "metadata": {},
   "outputs": [],
   "source": [
    "#Return strings\n",
    "def get_name():\n",
    "    name = input(f'Enter your name: ')\n",
    "    return name\n",
    "\n",
    "#Return formatted values\n",
    "def dollar_format(amount):\n",
    "    return f'${amount:,.2f}'\n",
    "\n",
    "#Return Boolean Values\n",
    "def is_even(value):\n",
    "    if value % 2 == 0:\n",
    "        status = True\n",
    "    else:\n",
    "        status = False\n",
    "    return status\n",
    "\n",
    "#Return multiple values\n",
    "def rectangle(base, height):\n",
    "    area = base * height\n",
    "    perimeter = 2 * (base + height)\n",
    "    return area, perimeter\n",
    "a, p = rectangle(2,3)\n",
    "print(a,p)"
   ]
  },
  {
   "cell_type": "markdown",
   "id": "f9fb1d9f-23e4-47d7-b7ce-61fd0291b7da",
   "metadata": {},
   "source": [
    "## Storing functions in Modules\n",
    "\n",
    "A module is simply a file that contains Python code. When you break a program into modules, each module should contain functions that perform related tasks.\n",
    "\n",
    "Let's create a library called `circle` in a Python file called circle.py. The file should be stored in the same location where you are running the script that will use the library.\n"
   ]
  },
  {
   "cell_type": "code",
   "execution_count": null,
   "id": "9b00b6a8-8e79-4d42-a753-90005bab682b",
   "metadata": {},
   "outputs": [],
   "source": [
    "#Copy paste these functions and save them as a python file called circle.py. The name of the file determines the name of the library\n",
    "import math\n",
    "\n",
    "def area(r):\n",
    "    return math.pi * r ** 2\n",
    "\n",
    "def circumference(r):\n",
    "    return math.pi * r * 2\n",
    "\n",
    "def sphere(r):\n",
    "    return 4/3 * math.pi * r ** 3"
   ]
  },
  {
   "cell_type": "code",
   "execution_count": null,
   "id": "2a0ecf03-486b-4c0e-a345-e34033e290c4",
   "metadata": {},
   "outputs": [],
   "source": []
  }
 ],
 "metadata": {
  "kernelspec": {
   "display_name": "Python 3 (ipykernel)",
   "language": "python",
   "name": "python3"
  },
  "language_info": {
   "codemirror_mode": {
    "name": "ipython",
    "version": 3
   },
   "file_extension": ".py",
   "mimetype": "text/x-python",
   "name": "python",
   "nbconvert_exporter": "python",
   "pygments_lexer": "ipython3",
   "version": "3.9.13"
  }
 },
 "nbformat": 4,
 "nbformat_minor": 5
}
