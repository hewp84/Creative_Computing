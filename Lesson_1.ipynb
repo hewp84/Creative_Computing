{
  "nbformat": 4,
  "nbformat_minor": 0,
  "metadata": {
    "colab": {
      "provenance": [],
      "authorship_tag": "ABX9TyMyDSSukLN+3GbJwwKV+bAe",
      "include_colab_link": true
    },
    "kernelspec": {
      "name": "python3",
      "display_name": "Python 3"
    },
    "language_info": {
      "name": "python"
    }
  },
  "cells": [
    {
      "cell_type": "markdown",
      "metadata": {
        "id": "view-in-github",
        "colab_type": "text"
      },
      "source": [
        "<a href=\"https://colab.research.google.com/github/hewp84/Creative_Computing/blob/main/Lesson_1.ipynb\" target=\"_parent\"><img src=\"https://colab.research.google.com/assets/colab-badge.svg\" alt=\"Open In Colab\"/></a>"
      ]
    },
    {
      "cell_type": "markdown",
      "source": [
        "#Lesson 1: The Basics Python\n",
        "\n",
        "##Python Syntax\n",
        "\n",
        "A Python script can be written in Python interactive shell or in the code editor. A Python file has an extension .py.\n",
        "\n",
        "##Python Indentation\n",
        "\n",
        "An indentation is a white space in a text. Indentation in many languages is used to increase code readability, however Python uses indentation to create block of codes. In other programming languages curly brackets are used to create blocks of codes instead of indentation. One of the common bugs when writing python code is wrong indentation."
      ],
      "metadata": {
        "id": "V8OYWDjsqLvy"
      }
    },
    {
      "cell_type": "code",
      "execution_count": null,
      "metadata": {
        "id": "uRukpyoiqK4e"
      },
      "outputs": [],
      "source": []
    },
    {
      "cell_type": "markdown",
      "source": [
        "##Comments\n",
        "\n",
        "Comments are very important to make the code more readable and to leave remarks in our code. Python does not run comment parts of our code. Any text starting with hash(#) in Python is a comment.\n",
        "\n",
        "**Example: Single Line Comment**"
      ],
      "metadata": {
        "id": "DzCCyCz6qscm"
      }
    },
    {
      "cell_type": "code",
      "source": [],
      "metadata": {
        "id": "-DpYRSB3qzsB"
      },
      "execution_count": null,
      "outputs": []
    },
    {
      "cell_type": "markdown",
      "source": [
        "**Example: Multiline Comment**\n",
        "\n",
        "Triple quote can be used for multiline comment if it is not assigned to a variable"
      ],
      "metadata": {
        "id": "Z3FSme6eq5eG"
      }
    },
    {
      "cell_type": "code",
      "source": [],
      "metadata": {
        "id": "8-JJjLIJq8bx"
      },
      "execution_count": null,
      "outputs": []
    },
    {
      "cell_type": "markdown",
      "source": [
        "##Data types\n",
        "\n",
        "Python has several built-in data types that you can use to store different kinds of data. The most commonly used data types are:\n",
        "\n",
        "*   int: Used to store integers (whole numbers)\n",
        "*   float: Used to store decimal numbers\n",
        "*   str: Used to store strings (text)\n",
        "*   bool: Used to store Boolean values (True or False)\n",
        "*   list: Used to store a collection of items\n",
        "*   tuple: Similar to a list, but its items cannot be modified\n",
        "*   dict: Used to store a collection of key-value pairs\n",
        "*   set: Similar to a list or tuple, but its items are unordered and cannot contain duplicates.\n",
        "\n",
        "These are the fundamental types of data, you can use these and many more types like numpy array, pandas dataframe, etc\n",
        "\n",
        "You can create a variable and assign a value of a specific data type to it, like this:"
      ],
      "metadata": {
        "id": "EaXnNkLhq86t"
      }
    },
    {
      "cell_type": "code",
      "source": [
        "x = 5      # x is an int\n",
        "y = 3.14   # y is a float\n",
        "z = \"Hello\" # z is a string\n"
      ],
      "metadata": {
        "id": "sc920olprNAr"
      },
      "execution_count": null,
      "outputs": []
    },
    {
      "cell_type": "markdown",
      "source": [
        "You can check the data type of a variable by using the `type()` function, like this:"
      ],
      "metadata": {
        "id": "4YdpvZYotioS"
      }
    },
    {
      "cell_type": "code",
      "source": [
        "print(type(x))  # Output: <class 'int'>\n",
        "print(type(y))  # Output: <class 'float'>\n",
        "print(type(z))  # Output: <class 'str'>"
      ],
      "metadata": {
        "colab": {
          "base_uri": "https://localhost:8080/"
        },
        "id": "pimi6F4cttHp",
        "outputId": "0338971c-495b-41aa-fc27-09015d144406"
      },
      "execution_count": null,
      "outputs": [
        {
          "output_type": "stream",
          "name": "stdout",
          "text": [
            "<class 'int'>\n",
            "<class 'float'>\n",
            "<class 'str'>\n"
          ]
        }
      ]
    },
    {
      "cell_type": "markdown",
      "source": [
        "You can also convert one data type to another using built-in functions such as `int()`, `float()`, and `str()`, etc\n",
        "\n"
      ],
      "metadata": {
        "id": "2jlEzIRBt39q"
      }
    },
    {
      "cell_type": "code",
      "source": [
        "x = int(y)\n",
        "z = str(x)\n"
      ],
      "metadata": {
        "id": "foMVKwzAt7_T"
      },
      "execution_count": null,
      "outputs": []
    },
    {
      "cell_type": "markdown",
      "source": [
        "##Inputs and outputs\n",
        "In Python, you can use the input() function to get input from the user. The input() function waits for the user to enter a line of text and then returns that text as a string. For example:\n",
        "\n",
        "\n"
      ],
      "metadata": {
        "id": "GdA6v55duX17"
      }
    },
    {
      "cell_type": "code",
      "source": [
        "name = input(\"What is your name? \")\n",
        "print(\"Hello, \" + name + \"!\")"
      ],
      "metadata": {
        "id": "FuYo1lAoug4P"
      },
      "execution_count": null,
      "outputs": []
    },
    {
      "cell_type": "markdown",
      "source": [
        "This program will ask the user to enter their name, then it will print out a greeting with their name.\n",
        "\n",
        "You can also use input() function to take input in a different data type format like integer or float, after taking input you have to type cast it to the desired data type.\n",
        "\n",
        "\n"
      ],
      "metadata": {
        "id": "ah5T33o1ulOr"
      }
    },
    {
      "cell_type": "code",
      "source": [
        "age = int(input(\"How old are you? \"))\n",
        "print(\"You are \" + str(age) + \" years old.\")"
      ],
      "metadata": {
        "id": "0jQJBtTCu69Z"
      },
      "execution_count": null,
      "outputs": []
    },
    {
      "cell_type": "markdown",
      "source": [
        "Similarly, you can output data to the user using the print() function. The print() function takes one or more arguments and prints them to the screen. For example:\n",
        "\n"
      ],
      "metadata": {
        "id": "keQ-v57Su7aU"
      }
    },
    {
      "cell_type": "code",
      "source": [
        "x = 5\n",
        "y = 10\n",
        "print(\"The value of x is\", x)\n",
        "print(\"The value of y is\", y)\n"
      ],
      "metadata": {
        "id": "PtRt75Hju75q"
      },
      "execution_count": null,
      "outputs": []
    },
    {
      "cell_type": "markdown",
      "source": [
        "You can also format the output, concatenate multiple variables or strings using + operator or use f-strings in python3.6 and above version to include variables in string.\n"
      ],
      "metadata": {
        "id": "abASNL0Nu8K7"
      }
    },
    {
      "cell_type": "code",
      "source": [
        "\n",
        "name = \"John\"\n",
        "age = 30\n",
        "print(f\"My name is {name} and my age is {age}\")\n"
      ],
      "metadata": {
        "id": "De8KP6epvP9t"
      },
      "execution_count": null,
      "outputs": []
    },
    {
      "cell_type": "markdown",
      "source": [
        "##Variables\n",
        "\n",
        "In Python, a variable is a name that refers to a value. A variable is a way to store a value in the memory of a computer so that it can be used later.\n",
        "\n",
        "When you create a variable in Python, you give it a name, and then you can assign a value to that variable. For example:"
      ],
      "metadata": {
        "id": "SX9LDly9xAlN"
      }
    },
    {
      "cell_type": "code",
      "source": [
        "x = 5"
      ],
      "metadata": {
        "id": "29-6_OVZxDsd"
      },
      "execution_count": null,
      "outputs": []
    },
    {
      "cell_type": "markdown",
      "source": [
        "Here, `x` is the variable and `5` is the value that is assigned to it.\n",
        "\n",
        "The variable `x` now holds the value `5`, and you can use it in expressions and statements."
      ],
      "metadata": {
        "id": "IsHlXkkGxEDf"
      }
    },
    {
      "cell_type": "code",
      "source": [
        "y = x + 2\n",
        "print(y)  # Output: 7\n",
        "#You can also reassign a variable to a different value.\n",
        "x =8\n",
        "#You can also assign different data types to a variable\n",
        "name = \"John\" # String\n",
        "age = 30 # Integer\n",
        "is_student = False # Boolean\n"
      ],
      "metadata": {
        "id": "YwiIjxKZxEbm"
      },
      "execution_count": null,
      "outputs": []
    },
    {
      "cell_type": "markdown",
      "source": [
        "You can give any name to a variable (valid variable names adhere to certain rules). but it is recommended to use meaningful and clear names for variables to make the code easy to read and understand.\n",
        "\n",
        "Python has a number of naming conventions, like\n",
        "\n",
        "1. lowercase letters and underscore for variable names\n",
        "2. lowercase letters, numbers and underscore for variable name\n",
        "3. variables starting with single or double underscore have some special meaning in python."
      ],
      "metadata": {
        "id": "zpf_wq_TxEwT"
      }
    },
    {
      "cell_type": "markdown",
      "source": [
        "Create an algorithm that inputs at least 3 different type of variables. There should be an output in the form of a sentence which should include all inputted variables."
      ],
      "metadata": {
        "id": "wTNrdPRGxFZt"
      }
    },
    {
      "cell_type": "code",
      "source": [],
      "metadata": {
        "id": "IOWmctLdxGTO"
      },
      "execution_count": null,
      "outputs": []
    }
  ]
}