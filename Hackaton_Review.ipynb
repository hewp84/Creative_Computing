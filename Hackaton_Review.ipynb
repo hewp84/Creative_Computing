{
 "cells": [
  {
   "cell_type": "markdown",
   "id": "a13cd0d1-d6f6-4b09-a36d-85f1755e5170",
   "metadata": {},
   "source": [
    "Perform the following operations:\n",
    "\n",
    "1. Download the file: countries.txt from the GitHub repository: https://github.com/hewp84/Creative_Computing/blob/main/countries.txt\n",
    "2. Create a script that reads the file 'countries.txt' and saves every country in a list called `countries`.\n",
    "3. Answer the question: What is world countries' histogram by the number of letters in their names?\n",
    "4. Using list comprehension, create several lists that store country names by the number of characters each has. Example:\n",
    "    * four= ['country1', 'country2', etc.] #country with four-letter characters\n",
    "    * five= ['country1', 'country2', etc.] #country with five letter characters\n",
    "    * six = ['country1', 'country2', etc.] #country with six letter characters\n",
    "    * seven = ['country1', 'country2', etc.] #country with seven letter characters\n",
    "    * etc, etc\n",
    "5. Determine the length of each list (four, five, six, etc) and use such information to build your histogram using matplotlib."
   ]
  },
  {
   "cell_type": "code",
   "execution_count": 5,
   "id": "aa2a168e-5596-4334-b3fd-d9f1a4b39f91",
   "metadata": {},
   "outputs": [
    {
     "data": {
      "image/png": "[encoded data removed]",
      "text/plain": [
       "<Figure size 640x480 with 1 Axes>"
      ]
     },
     "metadata": {},
     "output_type": "display_data"
    }
   ],
   "source": [
    "#Importing required libraries\n",
    "import matplotlib.pyplot as plt\n",
    "\n",
    "#Initializing variables\n",
    "item = '0'\n",
    "countries = []\n",
    "\n",
    "#Opening the file in read mode\n",
    "file = open('countries.txt', 'r')\n",
    "\n",
    "#While cycle to iterate through each line\n",
    "while item != '':\n",
    "    item = file.readline() #reads one content line\n",
    "    item = item.rstrip('\\n') #strips \\n from the content line\n",
    "    countries.append(item) #appends the read item into the list 'countries'\n",
    "\n",
    "#Each list uses comprehension to extract countries with the string length condition, and saves the name of the country in the list\n",
    "four = [country for country in countries if len(country) == 4]\n",
    "five = [country for country in countries if len(country) == 5]\n",
    "six = [country for country in countries if len(country) == 6]\n",
    "seven = [country for country in countries if len(country) == 7]\n",
    "eight = [country for country in countries if len(country) == 8]\n",
    "nine = [country for country in countries if len(country) == 9]\n",
    "ten = [country for country in countries if len(country) == 10]\n",
    "\n",
    "#X provides the name of the categories, y provides the frequency or counts of the countries\n",
    "x = ['four','five','six','seven','eight','nine','ten']\n",
    "y = [len(four),len(five),len(six),len(seven),len(eight),len(nine),len(ten)]\n",
    "\n",
    "\n",
    "# histogram plot\n",
    "fig, ax = plt.subplots(figsize=(6.4, 4.8))\n",
    "#Filling with data\n",
    "ax.bar(x, y, width=1, edgecolor=\"white\", linewidth=0.7)\n",
    "plt.show()"
   ]
  },
  {
   "cell_type": "code",
   "execution_count": null,
   "id": "d67aea82-bebb-48e2-bb9e-8a3fa8858168",
   "metadata": {},
   "outputs": [],
   "source": []
  }
 ],
 "metadata": {
  "kernelspec": {
   "display_name": "Python 3 (ipykernel)",
   "language": "python",
   "name": "python3"
  },
  "language_info": {
   "codemirror_mode": {
    "name": "ipython",
    "version": 3
   },
   "file_extension": ".py",
   "mimetype": "text/x-python",
   "name": "python",
   "nbconvert_exporter": "python",
   "pygments_lexer": "ipython3",
   "version": "3.9.13"
  }
 },
 "nbformat": 4,
 "nbformat_minor": 5
}
